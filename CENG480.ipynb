{
  "cells": [
    {
      "cell_type": "markdown",
      "metadata": {
        "id": "view-in-github",
        "colab_type": "text"
      },
      "source": [
        "<a href=\"https://colab.research.google.com/github/lullabytuls/MachineLearningProject/blob/main/CENG480.ipynb\" target=\"_parent\"><img src=\"https://colab.research.google.com/assets/colab-badge.svg\" alt=\"Open In Colab\"/></a>"
      ]
    },
    {
      "cell_type": "code",
      "source": [
        "pip install -U scikit-learn"
      ],
      "metadata": {
        "colab": {
          "base_uri": "https://localhost:8080/"
        },
        "id": "7HH7MaRCaDg3",
        "outputId": "b91c7cef-bfb9-4c76-d3e1-7f7295ea6c0e"
      },
      "execution_count": null,
      "outputs": [
        {
          "output_type": "stream",
          "name": "stdout",
          "text": [
            "Looking in indexes: https://pypi.org/simple, https://us-python.pkg.dev/colab-wheels/public/simple/\n",
            "Requirement already satisfied: scikit-learn in /usr/local/lib/python3.8/dist-packages (1.2.0)\n",
            "Requirement already satisfied: threadpoolctl>=2.0.0 in /usr/local/lib/python3.8/dist-packages (from scikit-learn) (3.1.0)\n",
            "Requirement already satisfied: scipy>=1.3.2 in /usr/local/lib/python3.8/dist-packages (from scikit-learn) (1.7.3)\n",
            "Requirement already satisfied: numpy>=1.17.3 in /usr/local/lib/python3.8/dist-packages (from scikit-learn) (1.21.6)\n",
            "Requirement already satisfied: joblib>=1.1.1 in /usr/local/lib/python3.8/dist-packages (from scikit-learn) (1.2.0)\n"
          ]
        }
      ]
    },
    {
      "cell_type": "code",
      "execution_count": null,
      "metadata": {
        "id": "75k0WVaSMZ14"
      },
      "outputs": [],
      "source": [
        "\n",
        "import numpy as np\n",
        "import pandas as pd\n",
        "from matplotlib import pyplot as plt\n",
        "import seaborn as sns\n",
        "import sklearn as sk\n",
        "from sklearn.model_selection import train_test_split\n",
        "from scipy import stats\n"
      ]
    },
    {
      "cell_type": "markdown",
      "source": [
        "Model class"
      ],
      "metadata": {
        "id": "a6G37ckYUcys"
      }
    },
    {
      "cell_type": "code",
      "source": [
        "kclass Model:\n",
        "  def __init__(self, name, accuracy, f1score, fsmethod):\n",
        "    self.name = name\n",
        "    self.accuracy = accuracy\n",
        "    self.f1score = f1score\n",
        "    self.fsmethod = fsmethod"
      ],
      "metadata": {
        "id": "2AwEoRZ1UePb"
      },
      "execution_count": null,
      "outputs": []
    },
    {
      "cell_type": "markdown",
      "metadata": {
        "id": "j4IlGiWdRA7v"
      },
      "source": [
        "# Preprocessing"
      ]
    },
    {
      "cell_type": "markdown",
      "source": [
        "Feeding Data "
      ],
      "metadata": {
        "id": "crP2_97d6mhO"
      }
    },
    {
      "cell_type": "code",
      "execution_count": null,
      "metadata": {
        "id": "Q-PF7_3dPdyB"
      },
      "outputs": [],
      "source": [
        "new_df=pd.read_excel(\"/content/data_given.xlsx\")\n"
      ]
    },
    {
      "cell_type": "markdown",
      "source": [
        "###Analyzing the data\n",
        "---"
      ],
      "metadata": {
        "id": "C5Xdu0MH6uTZ"
      }
    },
    {
      "cell_type": "code",
      "execution_count": null,
      "metadata": {
        "colab": {
          "base_uri": "https://localhost:8080/",
          "height": 288
        },
        "id": "a6_lx63ZTNsV",
        "outputId": "c539a11b-80e0-4708-8400-5aab1910c384"
      },
      "outputs": [
        {
          "output_type": "execute_result",
          "data": {
            "text/plain": [
              "   Transaction ID   TimeOfDay RestaurantID  RestaurantLatitude  \\\n",
              "0            13173          1         R551            4.664509   \n",
              "1             9151          2         R383            4.719357   \n",
              "2            16472          2         R688            4.655909   \n",
              "3             9274          2         R386            4.614621   \n",
              "4             4541          1         R191            4.720423   \n",
              "\n",
              "   RestaurantLongitude  TrafficMorning  TrafficNoon  TrafficAfternoon  \\\n",
              "0           -74.051383               1            2                 2   \n",
              "1           -74.036307               1            2                 2   \n",
              "2           -74.106418               1            1                 1   \n",
              "3           -74.069801               1            1                 2   \n",
              "4           -74.038936               1            2                 2   \n",
              "\n",
              "   DistanceKm  TimeMinutes  M1DeliveryCost  M2ExpectedDeliveryTime  \\\n",
              "0        10.5           29          3000.0                    35.0   \n",
              "1         7.9           30          2000.0                    60.0   \n",
              "2         7.4           17             NaN                     NaN   \n",
              "3         5.3           16             NaN                    45.0   \n",
              "4         1.5            6          3000.0                    45.0   \n",
              "\n",
              "   M3MinChargeForOrdering  M3LogMinChargeForOrdering  M4NumberOfComments   \\\n",
              "0                 15000.0                   9.615805                  1.0   \n",
              "1                 15000.0                   9.615805                 41.0   \n",
              "2                     NaN                        NaN                  NaN   \n",
              "3                 10000.0                   9.210340                  NaN   \n",
              "4                 11000.0                   9.305651                198.0   \n",
              "\n",
              "   M4LogNumberOfComments   M5DeliveryTimeFulfillment  M5Class  \\\n",
              "0                0.000000                        6.0      1.0   \n",
              "1                3.713572                       30.0      1.0   \n",
              "2                     NaN                        NaN      NaN   \n",
              "3                     NaN                       29.0      1.0   \n",
              "4                5.288267                       39.0      1.0   \n",
              "\n",
              "   M6DeliveryCostPerKm  M6Class  \n",
              "0                  286        1  \n",
              "1                  253        1  \n",
              "2                    0        1  \n",
              "3                    0        1  \n",
              "4                 2000        1  "
            ],
            "text/html": [
              "\n",
              "  <div id=\"df-5c982d84-4f51-49e4-9223-f9011608b7fb\">\n",
              "    <div class=\"colab-df-container\">\n",
              "      <div>\n",
              "<style scoped>\n",
              "    .dataframe tbody tr th:only-of-type {\n",
              "        vertical-align: middle;\n",
              "    }\n",
              "\n",
              "    .dataframe tbody tr th {\n",
              "        vertical-align: top;\n",
              "    }\n",
              "\n",
              "    .dataframe thead th {\n",
              "        text-align: right;\n",
              "    }\n",
              "</style>\n",
              "<table border=\"1\" class=\"dataframe\">\n",
              "  <thead>\n",
              "    <tr style=\"text-align: right;\">\n",
              "      <th></th>\n",
              "      <th>Transaction ID</th>\n",
              "      <th>TimeOfDay</th>\n",
              "      <th>RestaurantID</th>\n",
              "      <th>RestaurantLatitude</th>\n",
              "      <th>RestaurantLongitude</th>\n",
              "      <th>TrafficMorning</th>\n",
              "      <th>TrafficNoon</th>\n",
              "      <th>TrafficAfternoon</th>\n",
              "      <th>DistanceKm</th>\n",
              "      <th>TimeMinutes</th>\n",
              "      <th>M1DeliveryCost</th>\n",
              "      <th>M2ExpectedDeliveryTime</th>\n",
              "      <th>M3MinChargeForOrdering</th>\n",
              "      <th>M3LogMinChargeForOrdering</th>\n",
              "      <th>M4NumberOfComments</th>\n",
              "      <th>M4LogNumberOfComments</th>\n",
              "      <th>M5DeliveryTimeFulfillment</th>\n",
              "      <th>M5Class</th>\n",
              "      <th>M6DeliveryCostPerKm</th>\n",
              "      <th>M6Class</th>\n",
              "    </tr>\n",
              "  </thead>\n",
              "  <tbody>\n",
              "    <tr>\n",
              "      <th>0</th>\n",
              "      <td>13173</td>\n",
              "      <td>1</td>\n",
              "      <td>R551</td>\n",
              "      <td>4.664509</td>\n",
              "      <td>-74.051383</td>\n",
              "      <td>1</td>\n",
              "      <td>2</td>\n",
              "      <td>2</td>\n",
              "      <td>10.5</td>\n",
              "      <td>29</td>\n",
              "      <td>3000.0</td>\n",
              "      <td>35.0</td>\n",
              "      <td>15000.0</td>\n",
              "      <td>9.615805</td>\n",
              "      <td>1.0</td>\n",
              "      <td>0.000000</td>\n",
              "      <td>6.0</td>\n",
              "      <td>1.0</td>\n",
              "      <td>286</td>\n",
              "      <td>1</td>\n",
              "    </tr>\n",
              "    <tr>\n",
              "      <th>1</th>\n",
              "      <td>9151</td>\n",
              "      <td>2</td>\n",
              "      <td>R383</td>\n",
              "      <td>4.719357</td>\n",
              "      <td>-74.036307</td>\n",
              "      <td>1</td>\n",
              "      <td>2</td>\n",
              "      <td>2</td>\n",
              "      <td>7.9</td>\n",
              "      <td>30</td>\n",
              "      <td>2000.0</td>\n",
              "      <td>60.0</td>\n",
              "      <td>15000.0</td>\n",
              "      <td>9.615805</td>\n",
              "      <td>41.0</td>\n",
              "      <td>3.713572</td>\n",
              "      <td>30.0</td>\n",
              "      <td>1.0</td>\n",
              "      <td>253</td>\n",
              "      <td>1</td>\n",
              "    </tr>\n",
              "    <tr>\n",
              "      <th>2</th>\n",
              "      <td>16472</td>\n",
              "      <td>2</td>\n",
              "      <td>R688</td>\n",
              "      <td>4.655909</td>\n",
              "      <td>-74.106418</td>\n",
              "      <td>1</td>\n",
              "      <td>1</td>\n",
              "      <td>1</td>\n",
              "      <td>7.4</td>\n",
              "      <td>17</td>\n",
              "      <td>NaN</td>\n",
              "      <td>NaN</td>\n",
              "      <td>NaN</td>\n",
              "      <td>NaN</td>\n",
              "      <td>NaN</td>\n",
              "      <td>NaN</td>\n",
              "      <td>NaN</td>\n",
              "      <td>NaN</td>\n",
              "      <td>0</td>\n",
              "      <td>1</td>\n",
              "    </tr>\n",
              "    <tr>\n",
              "      <th>3</th>\n",
              "      <td>9274</td>\n",
              "      <td>2</td>\n",
              "      <td>R386</td>\n",
              "      <td>4.614621</td>\n",
              "      <td>-74.069801</td>\n",
              "      <td>1</td>\n",
              "      <td>1</td>\n",
              "      <td>2</td>\n",
              "      <td>5.3</td>\n",
              "      <td>16</td>\n",
              "      <td>NaN</td>\n",
              "      <td>45.0</td>\n",
              "      <td>10000.0</td>\n",
              "      <td>9.210340</td>\n",
              "      <td>NaN</td>\n",
              "      <td>NaN</td>\n",
              "      <td>29.0</td>\n",
              "      <td>1.0</td>\n",
              "      <td>0</td>\n",
              "      <td>1</td>\n",
              "    </tr>\n",
              "    <tr>\n",
              "      <th>4</th>\n",
              "      <td>4541</td>\n",
              "      <td>1</td>\n",
              "      <td>R191</td>\n",
              "      <td>4.720423</td>\n",
              "      <td>-74.038936</td>\n",
              "      <td>1</td>\n",
              "      <td>2</td>\n",
              "      <td>2</td>\n",
              "      <td>1.5</td>\n",
              "      <td>6</td>\n",
              "      <td>3000.0</td>\n",
              "      <td>45.0</td>\n",
              "      <td>11000.0</td>\n",
              "      <td>9.305651</td>\n",
              "      <td>198.0</td>\n",
              "      <td>5.288267</td>\n",
              "      <td>39.0</td>\n",
              "      <td>1.0</td>\n",
              "      <td>2000</td>\n",
              "      <td>1</td>\n",
              "    </tr>\n",
              "  </tbody>\n",
              "</table>\n",
              "</div>\n",
              "      <button class=\"colab-df-convert\" onclick=\"convertToInteractive('df-5c982d84-4f51-49e4-9223-f9011608b7fb')\"\n",
              "              title=\"Convert this dataframe to an interactive table.\"\n",
              "              style=\"display:none;\">\n",
              "        \n",
              "  <svg xmlns=\"http://www.w3.org/2000/svg\" height=\"24px\"viewBox=\"0 0 24 24\"\n",
              "       width=\"24px\">\n",
              "    <path d=\"M0 0h24v24H0V0z\" fill=\"none\"/>\n",
              "    <path d=\"M18.56 5.44l.94 2.06.94-2.06 2.06-.94-2.06-.94-.94-2.06-.94 2.06-2.06.94zm-11 1L8.5 8.5l.94-2.06 2.06-.94-2.06-.94L8.5 2.5l-.94 2.06-2.06.94zm10 10l.94 2.06.94-2.06 2.06-.94-2.06-.94-.94-2.06-.94 2.06-2.06.94z\"/><path d=\"M17.41 7.96l-1.37-1.37c-.4-.4-.92-.59-1.43-.59-.52 0-1.04.2-1.43.59L10.3 9.45l-7.72 7.72c-.78.78-.78 2.05 0 2.83L4 21.41c.39.39.9.59 1.41.59.51 0 1.02-.2 1.41-.59l7.78-7.78 2.81-2.81c.8-.78.8-2.07 0-2.86zM5.41 20L4 18.59l7.72-7.72 1.47 1.35L5.41 20z\"/>\n",
              "  </svg>\n",
              "      </button>\n",
              "      \n",
              "  <style>\n",
              "    .colab-df-container {\n",
              "      display:flex;\n",
              "      flex-wrap:wrap;\n",
              "      gap: 12px;\n",
              "    }\n",
              "\n",
              "    .colab-df-convert {\n",
              "      background-color: #E8F0FE;\n",
              "      border: none;\n",
              "      border-radius: 50%;\n",
              "      cursor: pointer;\n",
              "      display: none;\n",
              "      fill: #1967D2;\n",
              "      height: 32px;\n",
              "      padding: 0 0 0 0;\n",
              "      width: 32px;\n",
              "    }\n",
              "\n",
              "    .colab-df-convert:hover {\n",
              "      background-color: #E2EBFA;\n",
              "      box-shadow: 0px 1px 2px rgba(60, 64, 67, 0.3), 0px 1px 3px 1px rgba(60, 64, 67, 0.15);\n",
              "      fill: #174EA6;\n",
              "    }\n",
              "\n",
              "    [theme=dark] .colab-df-convert {\n",
              "      background-color: #3B4455;\n",
              "      fill: #D2E3FC;\n",
              "    }\n",
              "\n",
              "    [theme=dark] .colab-df-convert:hover {\n",
              "      background-color: #434B5C;\n",
              "      box-shadow: 0px 1px 3px 1px rgba(0, 0, 0, 0.15);\n",
              "      filter: drop-shadow(0px 1px 2px rgba(0, 0, 0, 0.3));\n",
              "      fill: #FFFFFF;\n",
              "    }\n",
              "  </style>\n",
              "\n",
              "      <script>\n",
              "        const buttonEl =\n",
              "          document.querySelector('#df-5c982d84-4f51-49e4-9223-f9011608b7fb button.colab-df-convert');\n",
              "        buttonEl.style.display =\n",
              "          google.colab.kernel.accessAllowed ? 'block' : 'none';\n",
              "\n",
              "        async function convertToInteractive(key) {\n",
              "          const element = document.querySelector('#df-5c982d84-4f51-49e4-9223-f9011608b7fb');\n",
              "          const dataTable =\n",
              "            await google.colab.kernel.invokeFunction('convertToInteractive',\n",
              "                                                     [key], {});\n",
              "          if (!dataTable) return;\n",
              "\n",
              "          const docLinkHtml = 'Like what you see? Visit the ' +\n",
              "            '<a target=\"_blank\" href=https://colab.research.google.com/notebooks/data_table.ipynb>data table notebook</a>'\n",
              "            + ' to learn more about interactive tables.';\n",
              "          element.innerHTML = '';\n",
              "          dataTable['output_type'] = 'display_data';\n",
              "          await google.colab.output.renderOutput(dataTable, element);\n",
              "          const docLink = document.createElement('div');\n",
              "          docLink.innerHTML = docLinkHtml;\n",
              "          element.appendChild(docLink);\n",
              "        }\n",
              "      </script>\n",
              "    </div>\n",
              "  </div>\n",
              "  "
            ]
          },
          "metadata": {},
          "execution_count": 938
        }
      ],
      "source": [
        "new_df.head()"
      ]
    },
    {
      "cell_type": "code",
      "execution_count": null,
      "metadata": {
        "colab": {
          "base_uri": "https://localhost:8080/",
          "height": 288
        },
        "id": "Mcr_251kTU5s",
        "outputId": "9157ac18-d21b-493f-a833-8de2e5fe6fc7"
      },
      "outputs": [
        {
          "output_type": "execute_result",
          "data": {
            "text/plain": [
              "      Transaction ID   TimeOfDay RestaurantID  RestaurantLatitude  \\\n",
              "9956             7084          1         R297            4.680535   \n",
              "9957              819          1         R036            4.645276   \n",
              "9958              674          1         R030            4.695452   \n",
              "9959             8435          2         R353            4.713154   \n",
              "9960            13300          1         R556            4.754923   \n",
              "\n",
              "      RestaurantLongitude  TrafficMorning  TrafficNoon  TrafficAfternoon  \\\n",
              "9956           -74.052056               2            2                 1   \n",
              "9957           -74.129669               1            2                 2   \n",
              "9958           -74.030610               2            2                 2   \n",
              "9959           -74.071395               1            2                 2   \n",
              "9960           -74.063854               1            1                 1   \n",
              "\n",
              "      DistanceKm  TimeMinutes  M1DeliveryCost  M2ExpectedDeliveryTime  \\\n",
              "9956         2.5            5          4000.0                    60.0   \n",
              "9957         1.5            6          3900.0                    60.0   \n",
              "9958         3.2           10          3000.0                    45.0   \n",
              "9959         7.6           20          2000.0                    50.0   \n",
              "9960        11.7           34          3000.0                    35.0   \n",
              "\n",
              "      M3MinChargeForOrdering  M3LogMinChargeForOrdering  M4NumberOfComments   \\\n",
              "9956                     NaN                        NaN                 26.0   \n",
              "9957                     NaN                        NaN              12832.0   \n",
              "9958                 15900.0                   9.674074                 18.0   \n",
              "9959                 16000.0                   9.680344                 35.0   \n",
              "9960                  9900.0                   9.200290                  1.0   \n",
              "\n",
              "      M4LogNumberOfComments   M5DeliveryTimeFulfillment  M5Class  \\\n",
              "9956                3.258097                       55.0      1.0   \n",
              "9957                9.459697                       54.0      1.0   \n",
              "9958                2.890372                       35.0      1.0   \n",
              "9959                3.555348                       30.0      1.0   \n",
              "9960                0.000000                        1.0      1.0   \n",
              "\n",
              "      M6DeliveryCostPerKm  M6Class  \n",
              "9956                 1600        1  \n",
              "9957                 2600        0  \n",
              "9958                  938        1  \n",
              "9959                  263        1  \n",
              "9960                  256        1  "
            ],
            "text/html": [
              "\n",
              "  <div id=\"df-ee7792da-b868-4f84-93bf-18db341246d1\">\n",
              "    <div class=\"colab-df-container\">\n",
              "      <div>\n",
              "<style scoped>\n",
              "    .dataframe tbody tr th:only-of-type {\n",
              "        vertical-align: middle;\n",
              "    }\n",
              "\n",
              "    .dataframe tbody tr th {\n",
              "        vertical-align: top;\n",
              "    }\n",
              "\n",
              "    .dataframe thead th {\n",
              "        text-align: right;\n",
              "    }\n",
              "</style>\n",
              "<table border=\"1\" class=\"dataframe\">\n",
              "  <thead>\n",
              "    <tr style=\"text-align: right;\">\n",
              "      <th></th>\n",
              "      <th>Transaction ID</th>\n",
              "      <th>TimeOfDay</th>\n",
              "      <th>RestaurantID</th>\n",
              "      <th>RestaurantLatitude</th>\n",
              "      <th>RestaurantLongitude</th>\n",
              "      <th>TrafficMorning</th>\n",
              "      <th>TrafficNoon</th>\n",
              "      <th>TrafficAfternoon</th>\n",
              "      <th>DistanceKm</th>\n",
              "      <th>TimeMinutes</th>\n",
              "      <th>M1DeliveryCost</th>\n",
              "      <th>M2ExpectedDeliveryTime</th>\n",
              "      <th>M3MinChargeForOrdering</th>\n",
              "      <th>M3LogMinChargeForOrdering</th>\n",
              "      <th>M4NumberOfComments</th>\n",
              "      <th>M4LogNumberOfComments</th>\n",
              "      <th>M5DeliveryTimeFulfillment</th>\n",
              "      <th>M5Class</th>\n",
              "      <th>M6DeliveryCostPerKm</th>\n",
              "      <th>M6Class</th>\n",
              "    </tr>\n",
              "  </thead>\n",
              "  <tbody>\n",
              "    <tr>\n",
              "      <th>9956</th>\n",
              "      <td>7084</td>\n",
              "      <td>1</td>\n",
              "      <td>R297</td>\n",
              "      <td>4.680535</td>\n",
              "      <td>-74.052056</td>\n",
              "      <td>2</td>\n",
              "      <td>2</td>\n",
              "      <td>1</td>\n",
              "      <td>2.5</td>\n",
              "      <td>5</td>\n",
              "      <td>4000.0</td>\n",
              "      <td>60.0</td>\n",
              "      <td>NaN</td>\n",
              "      <td>NaN</td>\n",
              "      <td>26.0</td>\n",
              "      <td>3.258097</td>\n",
              "      <td>55.0</td>\n",
              "      <td>1.0</td>\n",
              "      <td>1600</td>\n",
              "      <td>1</td>\n",
              "    </tr>\n",
              "    <tr>\n",
              "      <th>9957</th>\n",
              "      <td>819</td>\n",
              "      <td>1</td>\n",
              "      <td>R036</td>\n",
              "      <td>4.645276</td>\n",
              "      <td>-74.129669</td>\n",
              "      <td>1</td>\n",
              "      <td>2</td>\n",
              "      <td>2</td>\n",
              "      <td>1.5</td>\n",
              "      <td>6</td>\n",
              "      <td>3900.0</td>\n",
              "      <td>60.0</td>\n",
              "      <td>NaN</td>\n",
              "      <td>NaN</td>\n",
              "      <td>12832.0</td>\n",
              "      <td>9.459697</td>\n",
              "      <td>54.0</td>\n",
              "      <td>1.0</td>\n",
              "      <td>2600</td>\n",
              "      <td>0</td>\n",
              "    </tr>\n",
              "    <tr>\n",
              "      <th>9958</th>\n",
              "      <td>674</td>\n",
              "      <td>1</td>\n",
              "      <td>R030</td>\n",
              "      <td>4.695452</td>\n",
              "      <td>-74.030610</td>\n",
              "      <td>2</td>\n",
              "      <td>2</td>\n",
              "      <td>2</td>\n",
              "      <td>3.2</td>\n",
              "      <td>10</td>\n",
              "      <td>3000.0</td>\n",
              "      <td>45.0</td>\n",
              "      <td>15900.0</td>\n",
              "      <td>9.674074</td>\n",
              "      <td>18.0</td>\n",
              "      <td>2.890372</td>\n",
              "      <td>35.0</td>\n",
              "      <td>1.0</td>\n",
              "      <td>938</td>\n",
              "      <td>1</td>\n",
              "    </tr>\n",
              "    <tr>\n",
              "      <th>9959</th>\n",
              "      <td>8435</td>\n",
              "      <td>2</td>\n",
              "      <td>R353</td>\n",
              "      <td>4.713154</td>\n",
              "      <td>-74.071395</td>\n",
              "      <td>1</td>\n",
              "      <td>2</td>\n",
              "      <td>2</td>\n",
              "      <td>7.6</td>\n",
              "      <td>20</td>\n",
              "      <td>2000.0</td>\n",
              "      <td>50.0</td>\n",
              "      <td>16000.0</td>\n",
              "      <td>9.680344</td>\n",
              "      <td>35.0</td>\n",
              "      <td>3.555348</td>\n",
              "      <td>30.0</td>\n",
              "      <td>1.0</td>\n",
              "      <td>263</td>\n",
              "      <td>1</td>\n",
              "    </tr>\n",
              "    <tr>\n",
              "      <th>9960</th>\n",
              "      <td>13300</td>\n",
              "      <td>1</td>\n",
              "      <td>R556</td>\n",
              "      <td>4.754923</td>\n",
              "      <td>-74.063854</td>\n",
              "      <td>1</td>\n",
              "      <td>1</td>\n",
              "      <td>1</td>\n",
              "      <td>11.7</td>\n",
              "      <td>34</td>\n",
              "      <td>3000.0</td>\n",
              "      <td>35.0</td>\n",
              "      <td>9900.0</td>\n",
              "      <td>9.200290</td>\n",
              "      <td>1.0</td>\n",
              "      <td>0.000000</td>\n",
              "      <td>1.0</td>\n",
              "      <td>1.0</td>\n",
              "      <td>256</td>\n",
              "      <td>1</td>\n",
              "    </tr>\n",
              "  </tbody>\n",
              "</table>\n",
              "</div>\n",
              "      <button class=\"colab-df-convert\" onclick=\"convertToInteractive('df-ee7792da-b868-4f84-93bf-18db341246d1')\"\n",
              "              title=\"Convert this dataframe to an interactive table.\"\n",
              "              style=\"display:none;\">\n",
              "        \n",
              "  <svg xmlns=\"http://www.w3.org/2000/svg\" height=\"24px\"viewBox=\"0 0 24 24\"\n",
              "       width=\"24px\">\n",
              "    <path d=\"M0 0h24v24H0V0z\" fill=\"none\"/>\n",
              "    <path d=\"M18.56 5.44l.94 2.06.94-2.06 2.06-.94-2.06-.94-.94-2.06-.94 2.06-2.06.94zm-11 1L8.5 8.5l.94-2.06 2.06-.94-2.06-.94L8.5 2.5l-.94 2.06-2.06.94zm10 10l.94 2.06.94-2.06 2.06-.94-2.06-.94-.94-2.06-.94 2.06-2.06.94z\"/><path d=\"M17.41 7.96l-1.37-1.37c-.4-.4-.92-.59-1.43-.59-.52 0-1.04.2-1.43.59L10.3 9.45l-7.72 7.72c-.78.78-.78 2.05 0 2.83L4 21.41c.39.39.9.59 1.41.59.51 0 1.02-.2 1.41-.59l7.78-7.78 2.81-2.81c.8-.78.8-2.07 0-2.86zM5.41 20L4 18.59l7.72-7.72 1.47 1.35L5.41 20z\"/>\n",
              "  </svg>\n",
              "      </button>\n",
              "      \n",
              "  <style>\n",
              "    .colab-df-container {\n",
              "      display:flex;\n",
              "      flex-wrap:wrap;\n",
              "      gap: 12px;\n",
              "    }\n",
              "\n",
              "    .colab-df-convert {\n",
              "      background-color: #E8F0FE;\n",
              "      border: none;\n",
              "      border-radius: 50%;\n",
              "      cursor: pointer;\n",
              "      display: none;\n",
              "      fill: #1967D2;\n",
              "      height: 32px;\n",
              "      padding: 0 0 0 0;\n",
              "      width: 32px;\n",
              "    }\n",
              "\n",
              "    .colab-df-convert:hover {\n",
              "      background-color: #E2EBFA;\n",
              "      box-shadow: 0px 1px 2px rgba(60, 64, 67, 0.3), 0px 1px 3px 1px rgba(60, 64, 67, 0.15);\n",
              "      fill: #174EA6;\n",
              "    }\n",
              "\n",
              "    [theme=dark] .colab-df-convert {\n",
              "      background-color: #3B4455;\n",
              "      fill: #D2E3FC;\n",
              "    }\n",
              "\n",
              "    [theme=dark] .colab-df-convert:hover {\n",
              "      background-color: #434B5C;\n",
              "      box-shadow: 0px 1px 3px 1px rgba(0, 0, 0, 0.15);\n",
              "      filter: drop-shadow(0px 1px 2px rgba(0, 0, 0, 0.3));\n",
              "      fill: #FFFFFF;\n",
              "    }\n",
              "  </style>\n",
              "\n",
              "      <script>\n",
              "        const buttonEl =\n",
              "          document.querySelector('#df-ee7792da-b868-4f84-93bf-18db341246d1 button.colab-df-convert');\n",
              "        buttonEl.style.display =\n",
              "          google.colab.kernel.accessAllowed ? 'block' : 'none';\n",
              "\n",
              "        async function convertToInteractive(key) {\n",
              "          const element = document.querySelector('#df-ee7792da-b868-4f84-93bf-18db341246d1');\n",
              "          const dataTable =\n",
              "            await google.colab.kernel.invokeFunction('convertToInteractive',\n",
              "                                                     [key], {});\n",
              "          if (!dataTable) return;\n",
              "\n",
              "          const docLinkHtml = 'Like what you see? Visit the ' +\n",
              "            '<a target=\"_blank\" href=https://colab.research.google.com/notebooks/data_table.ipynb>data table notebook</a>'\n",
              "            + ' to learn more about interactive tables.';\n",
              "          element.innerHTML = '';\n",
              "          dataTable['output_type'] = 'display_data';\n",
              "          await google.colab.output.renderOutput(dataTable, element);\n",
              "          const docLink = document.createElement('div');\n",
              "          docLink.innerHTML = docLinkHtml;\n",
              "          element.appendChild(docLink);\n",
              "        }\n",
              "      </script>\n",
              "    </div>\n",
              "  </div>\n",
              "  "
            ]
          },
          "metadata": {},
          "execution_count": 939
        }
      ],
      "source": [
        "new_df.tail()"
      ]
    },
    {
      "cell_type": "code",
      "execution_count": null,
      "metadata": {
        "colab": {
          "base_uri": "https://localhost:8080/",
          "height": 382
        },
        "id": "49ph5tE9UGH1",
        "outputId": "f923fc74-d87e-4eb3-991a-9b3b2c375ff3"
      },
      "outputs": [
        {
          "output_type": "execute_result",
          "data": {
            "text/plain": [
              "       Transaction ID     TimeOfDay  RestaurantLatitude  RestaurantLongitude  \\\n",
              "count      9961.000000  9961.000000         9961.000000          9961.000000   \n",
              "mean       9954.488304     1.950607            4.676526           -74.071535   \n",
              "std        5784.283423     0.803338            0.044342             0.032134   \n",
              "min           1.000000     1.000000            4.470490           -74.221359   \n",
              "25%        4892.000000     1.000000            4.646268           -74.090187   \n",
              "50%        9930.000000     2.000000            4.677227           -74.061433   \n",
              "75%       14978.000000     3.000000            4.710000           -74.049650   \n",
              "max       19909.000000     3.000000            4.776851           -74.022591   \n",
              "\n",
              "       TrafficMorning  TrafficNoon  TrafficAfternoon    DistanceKm  \\\n",
              "count     9961.000000  9961.000000       9961.000000   9961.000000   \n",
              "mean         1.310812     1.892180          1.811565     34.882104   \n",
              "std          0.486538     0.510355          0.591889   1225.046161   \n",
              "min          1.000000     1.000000          1.000000      0.012000   \n",
              "25%          1.000000     2.000000          1.000000      3.800000   \n",
              "50%          1.000000     2.000000          2.000000      7.600000   \n",
              "75%          2.000000     2.000000          2.000000     12.000000   \n",
              "max          3.000000     3.000000         10.000000  80000.000000   \n",
              "\n",
              "         TimeMinutes  M1DeliveryCost  M2ExpectedDeliveryTime  \\\n",
              "count    9961.000000     7193.000000             9310.000000   \n",
              "mean      123.358599     2578.743223               44.759506   \n",
              "std      8105.062391     1420.318910               12.672285   \n",
              "min         1.000000        0.000000                5.000000   \n",
              "25%        11.000000     2000.000000               40.000000   \n",
              "50%        19.000000     2800.000000               45.000000   \n",
              "75%        29.000000     3100.000000               50.000000   \n",
              "max    777778.000000    15000.000000               90.000000   \n",
              "\n",
              "       M3MinChargeForOrdering  M3LogMinChargeForOrdering  M4NumberOfComments   \\\n",
              "count             8486.000000                8486.000000          7416.000000   \n",
              "mean             13128.918218                   9.357665           189.859628   \n",
              "std              12902.453543                   0.436516           736.130660   \n",
              "min               2000.000000                   7.600902             0.000000   \n",
              "25%               9900.000000                   9.200290             3.000000   \n",
              "50%              10000.000000                   9.210340            27.000000   \n",
              "75%              15000.000000                   9.615805           129.000000   \n",
              "max             260000.000000                  12.468437         12832.000000   \n",
              "\n",
              "       M4LogNumberOfComments   M5DeliveryTimeFulfillment      M5Class  \\\n",
              "count             6288.000000                9310.000000  9310.000000   \n",
              "mean                 3.695154                  23.523845     0.896133   \n",
              "std                  1.941262                  18.479599     0.305104   \n",
              "min                  0.000000                 -53.000000     0.000000   \n",
              "25%                  2.302585                  12.000000     1.000000   \n",
              "50%                  3.713572                  25.000000     1.000000   \n",
              "75%                  5.164786                  36.000000     1.000000   \n",
              "max                  9.459697                  89.000000     1.000000   \n",
              "\n",
              "       M6DeliveryCostPerKm      M6Class  \n",
              "count          9961.000000  9961.000000  \n",
              "mean            532.305692     0.966168  \n",
              "std            2781.427582     0.180805  \n",
              "min               0.000000     0.000000  \n",
              "25%               0.000000     1.000000  \n",
              "50%             203.000000     1.000000  \n",
              "75%             500.000000     1.000000  \n",
              "max          241667.000000     1.000000  "
            ],
            "text/html": [
              "\n",
              "  <div id=\"df-fdc9291c-f033-45cf-ac70-ac8b2b70b969\">\n",
              "    <div class=\"colab-df-container\">\n",
              "      <div>\n",
              "<style scoped>\n",
              "    .dataframe tbody tr th:only-of-type {\n",
              "        vertical-align: middle;\n",
              "    }\n",
              "\n",
              "    .dataframe tbody tr th {\n",
              "        vertical-align: top;\n",
              "    }\n",
              "\n",
              "    .dataframe thead th {\n",
              "        text-align: right;\n",
              "    }\n",
              "</style>\n",
              "<table border=\"1\" class=\"dataframe\">\n",
              "  <thead>\n",
              "    <tr style=\"text-align: right;\">\n",
              "      <th></th>\n",
              "      <th>Transaction ID</th>\n",
              "      <th>TimeOfDay</th>\n",
              "      <th>RestaurantLatitude</th>\n",
              "      <th>RestaurantLongitude</th>\n",
              "      <th>TrafficMorning</th>\n",
              "      <th>TrafficNoon</th>\n",
              "      <th>TrafficAfternoon</th>\n",
              "      <th>DistanceKm</th>\n",
              "      <th>TimeMinutes</th>\n",
              "      <th>M1DeliveryCost</th>\n",
              "      <th>M2ExpectedDeliveryTime</th>\n",
              "      <th>M3MinChargeForOrdering</th>\n",
              "      <th>M3LogMinChargeForOrdering</th>\n",
              "      <th>M4NumberOfComments</th>\n",
              "      <th>M4LogNumberOfComments</th>\n",
              "      <th>M5DeliveryTimeFulfillment</th>\n",
              "      <th>M5Class</th>\n",
              "      <th>M6DeliveryCostPerKm</th>\n",
              "      <th>M6Class</th>\n",
              "    </tr>\n",
              "  </thead>\n",
              "  <tbody>\n",
              "    <tr>\n",
              "      <th>count</th>\n",
              "      <td>9961.000000</td>\n",
              "      <td>9961.000000</td>\n",
              "      <td>9961.000000</td>\n",
              "      <td>9961.000000</td>\n",
              "      <td>9961.000000</td>\n",
              "      <td>9961.000000</td>\n",
              "      <td>9961.000000</td>\n",
              "      <td>9961.000000</td>\n",
              "      <td>9961.000000</td>\n",
              "      <td>7193.000000</td>\n",
              "      <td>9310.000000</td>\n",
              "      <td>8486.000000</td>\n",
              "      <td>8486.000000</td>\n",
              "      <td>7416.000000</td>\n",
              "      <td>6288.000000</td>\n",
              "      <td>9310.000000</td>\n",
              "      <td>9310.000000</td>\n",
              "      <td>9961.000000</td>\n",
              "      <td>9961.000000</td>\n",
              "    </tr>\n",
              "    <tr>\n",
              "      <th>mean</th>\n",
              "      <td>9954.488304</td>\n",
              "      <td>1.950607</td>\n",
              "      <td>4.676526</td>\n",
              "      <td>-74.071535</td>\n",
              "      <td>1.310812</td>\n",
              "      <td>1.892180</td>\n",
              "      <td>1.811565</td>\n",
              "      <td>34.882104</td>\n",
              "      <td>123.358599</td>\n",
              "      <td>2578.743223</td>\n",
              "      <td>44.759506</td>\n",
              "      <td>13128.918218</td>\n",
              "      <td>9.357665</td>\n",
              "      <td>189.859628</td>\n",
              "      <td>3.695154</td>\n",
              "      <td>23.523845</td>\n",
              "      <td>0.896133</td>\n",
              "      <td>532.305692</td>\n",
              "      <td>0.966168</td>\n",
              "    </tr>\n",
              "    <tr>\n",
              "      <th>std</th>\n",
              "      <td>5784.283423</td>\n",
              "      <td>0.803338</td>\n",
              "      <td>0.044342</td>\n",
              "      <td>0.032134</td>\n",
              "      <td>0.486538</td>\n",
              "      <td>0.510355</td>\n",
              "      <td>0.591889</td>\n",
              "      <td>1225.046161</td>\n",
              "      <td>8105.062391</td>\n",
              "      <td>1420.318910</td>\n",
              "      <td>12.672285</td>\n",
              "      <td>12902.453543</td>\n",
              "      <td>0.436516</td>\n",
              "      <td>736.130660</td>\n",
              "      <td>1.941262</td>\n",
              "      <td>18.479599</td>\n",
              "      <td>0.305104</td>\n",
              "      <td>2781.427582</td>\n",
              "      <td>0.180805</td>\n",
              "    </tr>\n",
              "    <tr>\n",
              "      <th>min</th>\n",
              "      <td>1.000000</td>\n",
              "      <td>1.000000</td>\n",
              "      <td>4.470490</td>\n",
              "      <td>-74.221359</td>\n",
              "      <td>1.000000</td>\n",
              "      <td>1.000000</td>\n",
              "      <td>1.000000</td>\n",
              "      <td>0.012000</td>\n",
              "      <td>1.000000</td>\n",
              "      <td>0.000000</td>\n",
              "      <td>5.000000</td>\n",
              "      <td>2000.000000</td>\n",
              "      <td>7.600902</td>\n",
              "      <td>0.000000</td>\n",
              "      <td>0.000000</td>\n",
              "      <td>-53.000000</td>\n",
              "      <td>0.000000</td>\n",
              "      <td>0.000000</td>\n",
              "      <td>0.000000</td>\n",
              "    </tr>\n",
              "    <tr>\n",
              "      <th>25%</th>\n",
              "      <td>4892.000000</td>\n",
              "      <td>1.000000</td>\n",
              "      <td>4.646268</td>\n",
              "      <td>-74.090187</td>\n",
              "      <td>1.000000</td>\n",
              "      <td>2.000000</td>\n",
              "      <td>1.000000</td>\n",
              "      <td>3.800000</td>\n",
              "      <td>11.000000</td>\n",
              "      <td>2000.000000</td>\n",
              "      <td>40.000000</td>\n",
              "      <td>9900.000000</td>\n",
              "      <td>9.200290</td>\n",
              "      <td>3.000000</td>\n",
              "      <td>2.302585</td>\n",
              "      <td>12.000000</td>\n",
              "      <td>1.000000</td>\n",
              "      <td>0.000000</td>\n",
              "      <td>1.000000</td>\n",
              "    </tr>\n",
              "    <tr>\n",
              "      <th>50%</th>\n",
              "      <td>9930.000000</td>\n",
              "      <td>2.000000</td>\n",
              "      <td>4.677227</td>\n",
              "      <td>-74.061433</td>\n",
              "      <td>1.000000</td>\n",
              "      <td>2.000000</td>\n",
              "      <td>2.000000</td>\n",
              "      <td>7.600000</td>\n",
              "      <td>19.000000</td>\n",
              "      <td>2800.000000</td>\n",
              "      <td>45.000000</td>\n",
              "      <td>10000.000000</td>\n",
              "      <td>9.210340</td>\n",
              "      <td>27.000000</td>\n",
              "      <td>3.713572</td>\n",
              "      <td>25.000000</td>\n",
              "      <td>1.000000</td>\n",
              "      <td>203.000000</td>\n",
              "      <td>1.000000</td>\n",
              "    </tr>\n",
              "    <tr>\n",
              "      <th>75%</th>\n",
              "      <td>14978.000000</td>\n",
              "      <td>3.000000</td>\n",
              "      <td>4.710000</td>\n",
              "      <td>-74.049650</td>\n",
              "      <td>2.000000</td>\n",
              "      <td>2.000000</td>\n",
              "      <td>2.000000</td>\n",
              "      <td>12.000000</td>\n",
              "      <td>29.000000</td>\n",
              "      <td>3100.000000</td>\n",
              "      <td>50.000000</td>\n",
              "      <td>15000.000000</td>\n",
              "      <td>9.615805</td>\n",
              "      <td>129.000000</td>\n",
              "      <td>5.164786</td>\n",
              "      <td>36.000000</td>\n",
              "      <td>1.000000</td>\n",
              "      <td>500.000000</td>\n",
              "      <td>1.000000</td>\n",
              "    </tr>\n",
              "    <tr>\n",
              "      <th>max</th>\n",
              "      <td>19909.000000</td>\n",
              "      <td>3.000000</td>\n",
              "      <td>4.776851</td>\n",
              "      <td>-74.022591</td>\n",
              "      <td>3.000000</td>\n",
              "      <td>3.000000</td>\n",
              "      <td>10.000000</td>\n",
              "      <td>80000.000000</td>\n",
              "      <td>777778.000000</td>\n",
              "      <td>15000.000000</td>\n",
              "      <td>90.000000</td>\n",
              "      <td>260000.000000</td>\n",
              "      <td>12.468437</td>\n",
              "      <td>12832.000000</td>\n",
              "      <td>9.459697</td>\n",
              "      <td>89.000000</td>\n",
              "      <td>1.000000</td>\n",
              "      <td>241667.000000</td>\n",
              "      <td>1.000000</td>\n",
              "    </tr>\n",
              "  </tbody>\n",
              "</table>\n",
              "</div>\n",
              "      <button class=\"colab-df-convert\" onclick=\"convertToInteractive('df-fdc9291c-f033-45cf-ac70-ac8b2b70b969')\"\n",
              "              title=\"Convert this dataframe to an interactive table.\"\n",
              "              style=\"display:none;\">\n",
              "        \n",
              "  <svg xmlns=\"http://www.w3.org/2000/svg\" height=\"24px\"viewBox=\"0 0 24 24\"\n",
              "       width=\"24px\">\n",
              "    <path d=\"M0 0h24v24H0V0z\" fill=\"none\"/>\n",
              "    <path d=\"M18.56 5.44l.94 2.06.94-2.06 2.06-.94-2.06-.94-.94-2.06-.94 2.06-2.06.94zm-11 1L8.5 8.5l.94-2.06 2.06-.94-2.06-.94L8.5 2.5l-.94 2.06-2.06.94zm10 10l.94 2.06.94-2.06 2.06-.94-2.06-.94-.94-2.06-.94 2.06-2.06.94z\"/><path d=\"M17.41 7.96l-1.37-1.37c-.4-.4-.92-.59-1.43-.59-.52 0-1.04.2-1.43.59L10.3 9.45l-7.72 7.72c-.78.78-.78 2.05 0 2.83L4 21.41c.39.39.9.59 1.41.59.51 0 1.02-.2 1.41-.59l7.78-7.78 2.81-2.81c.8-.78.8-2.07 0-2.86zM5.41 20L4 18.59l7.72-7.72 1.47 1.35L5.41 20z\"/>\n",
              "  </svg>\n",
              "      </button>\n",
              "      \n",
              "  <style>\n",
              "    .colab-df-container {\n",
              "      display:flex;\n",
              "      flex-wrap:wrap;\n",
              "      gap: 12px;\n",
              "    }\n",
              "\n",
              "    .colab-df-convert {\n",
              "      background-color: #E8F0FE;\n",
              "      border: none;\n",
              "      border-radius: 50%;\n",
              "      cursor: pointer;\n",
              "      display: none;\n",
              "      fill: #1967D2;\n",
              "      height: 32px;\n",
              "      padding: 0 0 0 0;\n",
              "      width: 32px;\n",
              "    }\n",
              "\n",
              "    .colab-df-convert:hover {\n",
              "      background-color: #E2EBFA;\n",
              "      box-shadow: 0px 1px 2px rgba(60, 64, 67, 0.3), 0px 1px 3px 1px rgba(60, 64, 67, 0.15);\n",
              "      fill: #174EA6;\n",
              "    }\n",
              "\n",
              "    [theme=dark] .colab-df-convert {\n",
              "      background-color: #3B4455;\n",
              "      fill: #D2E3FC;\n",
              "    }\n",
              "\n",
              "    [theme=dark] .colab-df-convert:hover {\n",
              "      background-color: #434B5C;\n",
              "      box-shadow: 0px 1px 3px 1px rgba(0, 0, 0, 0.15);\n",
              "      filter: drop-shadow(0px 1px 2px rgba(0, 0, 0, 0.3));\n",
              "      fill: #FFFFFF;\n",
              "    }\n",
              "  </style>\n",
              "\n",
              "      <script>\n",
              "        const buttonEl =\n",
              "          document.querySelector('#df-fdc9291c-f033-45cf-ac70-ac8b2b70b969 button.colab-df-convert');\n",
              "        buttonEl.style.display =\n",
              "          google.colab.kernel.accessAllowed ? 'block' : 'none';\n",
              "\n",
              "        async function convertToInteractive(key) {\n",
              "          const element = document.querySelector('#df-fdc9291c-f033-45cf-ac70-ac8b2b70b969');\n",
              "          const dataTable =\n",
              "            await google.colab.kernel.invokeFunction('convertToInteractive',\n",
              "                                                     [key], {});\n",
              "          if (!dataTable) return;\n",
              "\n",
              "          const docLinkHtml = 'Like what you see? Visit the ' +\n",
              "            '<a target=\"_blank\" href=https://colab.research.google.com/notebooks/data_table.ipynb>data table notebook</a>'\n",
              "            + ' to learn more about interactive tables.';\n",
              "          element.innerHTML = '';\n",
              "          dataTable['output_type'] = 'display_data';\n",
              "          await google.colab.output.renderOutput(dataTable, element);\n",
              "          const docLink = document.createElement('div');\n",
              "          docLink.innerHTML = docLinkHtml;\n",
              "          element.appendChild(docLink);\n",
              "        }\n",
              "      </script>\n",
              "    </div>\n",
              "  </div>\n",
              "  "
            ]
          },
          "metadata": {},
          "execution_count": 940
        }
      ],
      "source": [
        "new_df.describe()"
      ]
    },
    {
      "cell_type": "code",
      "execution_count": null,
      "metadata": {
        "colab": {
          "base_uri": "https://localhost:8080/"
        },
        "id": "DsS0zW3iUlwW",
        "outputId": "42f0f06c-1acb-4af2-d910-b792a71a72be"
      },
      "outputs": [
        {
          "output_type": "stream",
          "name": "stdout",
          "text": [
            "<class 'pandas.core.frame.DataFrame'>\n",
            "RangeIndex: 9961 entries, 0 to 9960\n",
            "Data columns (total 20 columns):\n",
            " #   Column                     Non-Null Count  Dtype  \n",
            "---  ------                     --------------  -----  \n",
            " 0   Transaction ID             9961 non-null   int64  \n",
            " 1   TimeOfDay                  9961 non-null   int64  \n",
            " 2   RestaurantID               9961 non-null   object \n",
            " 3   RestaurantLatitude         9961 non-null   float64\n",
            " 4   RestaurantLongitude        9961 non-null   float64\n",
            " 5   TrafficMorning             9961 non-null   int64  \n",
            " 6   TrafficNoon                9961 non-null   int64  \n",
            " 7   TrafficAfternoon           9961 non-null   int64  \n",
            " 8   DistanceKm                 9961 non-null   float64\n",
            " 9   TimeMinutes                9961 non-null   int64  \n",
            " 10  M1DeliveryCost             7193 non-null   float64\n",
            " 11  M2ExpectedDeliveryTime     9310 non-null   float64\n",
            " 12  M3MinChargeForOrdering     8486 non-null   float64\n",
            " 13  M3LogMinChargeForOrdering  8486 non-null   float64\n",
            " 14  M4NumberOfComments         7416 non-null   float64\n",
            " 15  M4LogNumberOfComments      6288 non-null   float64\n",
            " 16  M5DeliveryTimeFulfillment  9310 non-null   float64\n",
            " 17  M5Class                    9310 non-null   float64\n",
            " 18  M6DeliveryCostPerKm        9961 non-null   int64  \n",
            " 19  M6Class                    9961 non-null   int64  \n",
            "dtypes: float64(11), int64(8), object(1)\n",
            "memory usage: 1.5+ MB\n"
          ]
        }
      ],
      "source": [
        "new_df.info()"
      ]
    },
    {
      "cell_type": "markdown",
      "source": [
        "###Handling Null Values\n",
        "--- "
      ],
      "metadata": {
        "id": "qRhxXVHNElZK"
      }
    },
    {
      "cell_type": "code",
      "execution_count": null,
      "metadata": {
        "colab": {
          "base_uri": "https://localhost:8080/"
        },
        "id": "URbLckW-dHa0",
        "outputId": "c5a893d8-3ffd-4b08-f475-0d4b815fdd13"
      },
      "outputs": [
        {
          "output_type": "execute_result",
          "data": {
            "text/plain": [
              "M4LogNumberOfComments        3673\n",
              "M1DeliveryCost               2768\n",
              "M4NumberOfComments           2545\n",
              "M3LogMinChargeForOrdering    1475\n",
              "M3MinChargeForOrdering       1475\n",
              "dtype: int64"
            ]
          },
          "metadata": {},
          "execution_count": 942
        }
      ],
      "source": [
        "new_df.isnull().sum().sort_values(ascending=False).head() #datanın ne kadarı null"
      ]
    },
    {
      "cell_type": "markdown",
      "source": [
        "Replacing Numeric NaN Values"
      ],
      "metadata": {
        "id": "wKK3HLfi7cuL"
      }
    },
    {
      "cell_type": "code",
      "source": [
        "for col in new_df:\n",
        "  if (col == \"RestaurantID\" or col == \"M5Class\" or col == \"M6Class\" or col == \"TimeOfDay\" or col == \"TrafficMorning\" or col == \"TrafficNoon\" or col == \"TrafficAfternoon\"):\n",
        "    continue\n",
        "  else:\n",
        "    new_df[col].replace(np.nan, new_df[col].mean(), inplace = True)\n",
        "  \n",
        "new_df.head()"
      ],
      "metadata": {
        "colab": {
          "base_uri": "https://localhost:8080/",
          "height": 288
        },
        "id": "Qc3WpCrqyPly",
        "outputId": "3359494e-30d6-4e55-fca9-0a114e5ace48"
      },
      "execution_count": null,
      "outputs": [
        {
          "output_type": "execute_result",
          "data": {
            "text/plain": [
              "   Transaction ID   TimeOfDay RestaurantID  RestaurantLatitude  \\\n",
              "0            13173          1         R551            4.664509   \n",
              "1             9151          2         R383            4.719357   \n",
              "2            16472          2         R688            4.655909   \n",
              "3             9274          2         R386            4.614621   \n",
              "4             4541          1         R191            4.720423   \n",
              "\n",
              "   RestaurantLongitude  TrafficMorning  TrafficNoon  TrafficAfternoon  \\\n",
              "0           -74.051383               1            2                 2   \n",
              "1           -74.036307               1            2                 2   \n",
              "2           -74.106418               1            1                 1   \n",
              "3           -74.069801               1            1                 2   \n",
              "4           -74.038936               1            2                 2   \n",
              "\n",
              "   DistanceKm  TimeMinutes  M1DeliveryCost  M2ExpectedDeliveryTime  \\\n",
              "0        10.5           29     3000.000000               35.000000   \n",
              "1         7.9           30     2000.000000               60.000000   \n",
              "2         7.4           17     2578.743223               44.759506   \n",
              "3         5.3           16     2578.743223               45.000000   \n",
              "4         1.5            6     3000.000000               45.000000   \n",
              "\n",
              "   M3MinChargeForOrdering  M3LogMinChargeForOrdering  M4NumberOfComments   \\\n",
              "0            15000.000000                   9.615805             1.000000   \n",
              "1            15000.000000                   9.615805            41.000000   \n",
              "2            13128.918218                   9.357665           189.859628   \n",
              "3            10000.000000                   9.210340           189.859628   \n",
              "4            11000.000000                   9.305651           198.000000   \n",
              "\n",
              "   M4LogNumberOfComments   M5DeliveryTimeFulfillment  M5Class  \\\n",
              "0                0.000000                   6.000000      1.0   \n",
              "1                3.713572                  30.000000      1.0   \n",
              "2                3.695154                  23.523845      NaN   \n",
              "3                3.695154                  29.000000      1.0   \n",
              "4                5.288267                  39.000000      1.0   \n",
              "\n",
              "   M6DeliveryCostPerKm  M6Class  \n",
              "0                  286        1  \n",
              "1                  253        1  \n",
              "2                    0        1  \n",
              "3                    0        1  \n",
              "4                 2000        1  "
            ],
            "text/html": [
              "\n",
              "  <div id=\"df-f3727134-0db8-430c-8ac7-15520a805f9d\">\n",
              "    <div class=\"colab-df-container\">\n",
              "      <div>\n",
              "<style scoped>\n",
              "    .dataframe tbody tr th:only-of-type {\n",
              "        vertical-align: middle;\n",
              "    }\n",
              "\n",
              "    .dataframe tbody tr th {\n",
              "        vertical-align: top;\n",
              "    }\n",
              "\n",
              "    .dataframe thead th {\n",
              "        text-align: right;\n",
              "    }\n",
              "</style>\n",
              "<table border=\"1\" class=\"dataframe\">\n",
              "  <thead>\n",
              "    <tr style=\"text-align: right;\">\n",
              "      <th></th>\n",
              "      <th>Transaction ID</th>\n",
              "      <th>TimeOfDay</th>\n",
              "      <th>RestaurantID</th>\n",
              "      <th>RestaurantLatitude</th>\n",
              "      <th>RestaurantLongitude</th>\n",
              "      <th>TrafficMorning</th>\n",
              "      <th>TrafficNoon</th>\n",
              "      <th>TrafficAfternoon</th>\n",
              "      <th>DistanceKm</th>\n",
              "      <th>TimeMinutes</th>\n",
              "      <th>M1DeliveryCost</th>\n",
              "      <th>M2ExpectedDeliveryTime</th>\n",
              "      <th>M3MinChargeForOrdering</th>\n",
              "      <th>M3LogMinChargeForOrdering</th>\n",
              "      <th>M4NumberOfComments</th>\n",
              "      <th>M4LogNumberOfComments</th>\n",
              "      <th>M5DeliveryTimeFulfillment</th>\n",
              "      <th>M5Class</th>\n",
              "      <th>M6DeliveryCostPerKm</th>\n",
              "      <th>M6Class</th>\n",
              "    </tr>\n",
              "  </thead>\n",
              "  <tbody>\n",
              "    <tr>\n",
              "      <th>0</th>\n",
              "      <td>13173</td>\n",
              "      <td>1</td>\n",
              "      <td>R551</td>\n",
              "      <td>4.664509</td>\n",
              "      <td>-74.051383</td>\n",
              "      <td>1</td>\n",
              "      <td>2</td>\n",
              "      <td>2</td>\n",
              "      <td>10.5</td>\n",
              "      <td>29</td>\n",
              "      <td>3000.000000</td>\n",
              "      <td>35.000000</td>\n",
              "      <td>15000.000000</td>\n",
              "      <td>9.615805</td>\n",
              "      <td>1.000000</td>\n",
              "      <td>0.000000</td>\n",
              "      <td>6.000000</td>\n",
              "      <td>1.0</td>\n",
              "      <td>286</td>\n",
              "      <td>1</td>\n",
              "    </tr>\n",
              "    <tr>\n",
              "      <th>1</th>\n",
              "      <td>9151</td>\n",
              "      <td>2</td>\n",
              "      <td>R383</td>\n",
              "      <td>4.719357</td>\n",
              "      <td>-74.036307</td>\n",
              "      <td>1</td>\n",
              "      <td>2</td>\n",
              "      <td>2</td>\n",
              "      <td>7.9</td>\n",
              "      <td>30</td>\n",
              "      <td>2000.000000</td>\n",
              "      <td>60.000000</td>\n",
              "      <td>15000.000000</td>\n",
              "      <td>9.615805</td>\n",
              "      <td>41.000000</td>\n",
              "      <td>3.713572</td>\n",
              "      <td>30.000000</td>\n",
              "      <td>1.0</td>\n",
              "      <td>253</td>\n",
              "      <td>1</td>\n",
              "    </tr>\n",
              "    <tr>\n",
              "      <th>2</th>\n",
              "      <td>16472</td>\n",
              "      <td>2</td>\n",
              "      <td>R688</td>\n",
              "      <td>4.655909</td>\n",
              "      <td>-74.106418</td>\n",
              "      <td>1</td>\n",
              "      <td>1</td>\n",
              "      <td>1</td>\n",
              "      <td>7.4</td>\n",
              "      <td>17</td>\n",
              "      <td>2578.743223</td>\n",
              "      <td>44.759506</td>\n",
              "      <td>13128.918218</td>\n",
              "      <td>9.357665</td>\n",
              "      <td>189.859628</td>\n",
              "      <td>3.695154</td>\n",
              "      <td>23.523845</td>\n",
              "      <td>NaN</td>\n",
              "      <td>0</td>\n",
              "      <td>1</td>\n",
              "    </tr>\n",
              "    <tr>\n",
              "      <th>3</th>\n",
              "      <td>9274</td>\n",
              "      <td>2</td>\n",
              "      <td>R386</td>\n",
              "      <td>4.614621</td>\n",
              "      <td>-74.069801</td>\n",
              "      <td>1</td>\n",
              "      <td>1</td>\n",
              "      <td>2</td>\n",
              "      <td>5.3</td>\n",
              "      <td>16</td>\n",
              "      <td>2578.743223</td>\n",
              "      <td>45.000000</td>\n",
              "      <td>10000.000000</td>\n",
              "      <td>9.210340</td>\n",
              "      <td>189.859628</td>\n",
              "      <td>3.695154</td>\n",
              "      <td>29.000000</td>\n",
              "      <td>1.0</td>\n",
              "      <td>0</td>\n",
              "      <td>1</td>\n",
              "    </tr>\n",
              "    <tr>\n",
              "      <th>4</th>\n",
              "      <td>4541</td>\n",
              "      <td>1</td>\n",
              "      <td>R191</td>\n",
              "      <td>4.720423</td>\n",
              "      <td>-74.038936</td>\n",
              "      <td>1</td>\n",
              "      <td>2</td>\n",
              "      <td>2</td>\n",
              "      <td>1.5</td>\n",
              "      <td>6</td>\n",
              "      <td>3000.000000</td>\n",
              "      <td>45.000000</td>\n",
              "      <td>11000.000000</td>\n",
              "      <td>9.305651</td>\n",
              "      <td>198.000000</td>\n",
              "      <td>5.288267</td>\n",
              "      <td>39.000000</td>\n",
              "      <td>1.0</td>\n",
              "      <td>2000</td>\n",
              "      <td>1</td>\n",
              "    </tr>\n",
              "  </tbody>\n",
              "</table>\n",
              "</div>\n",
              "      <button class=\"colab-df-convert\" onclick=\"convertToInteractive('df-f3727134-0db8-430c-8ac7-15520a805f9d')\"\n",
              "              title=\"Convert this dataframe to an interactive table.\"\n",
              "              style=\"display:none;\">\n",
              "        \n",
              "  <svg xmlns=\"http://www.w3.org/2000/svg\" height=\"24px\"viewBox=\"0 0 24 24\"\n",
              "       width=\"24px\">\n",
              "    <path d=\"M0 0h24v24H0V0z\" fill=\"none\"/>\n",
              "    <path d=\"M18.56 5.44l.94 2.06.94-2.06 2.06-.94-2.06-.94-.94-2.06-.94 2.06-2.06.94zm-11 1L8.5 8.5l.94-2.06 2.06-.94-2.06-.94L8.5 2.5l-.94 2.06-2.06.94zm10 10l.94 2.06.94-2.06 2.06-.94-2.06-.94-.94-2.06-.94 2.06-2.06.94z\"/><path d=\"M17.41 7.96l-1.37-1.37c-.4-.4-.92-.59-1.43-.59-.52 0-1.04.2-1.43.59L10.3 9.45l-7.72 7.72c-.78.78-.78 2.05 0 2.83L4 21.41c.39.39.9.59 1.41.59.51 0 1.02-.2 1.41-.59l7.78-7.78 2.81-2.81c.8-.78.8-2.07 0-2.86zM5.41 20L4 18.59l7.72-7.72 1.47 1.35L5.41 20z\"/>\n",
              "  </svg>\n",
              "      </button>\n",
              "      \n",
              "  <style>\n",
              "    .colab-df-container {\n",
              "      display:flex;\n",
              "      flex-wrap:wrap;\n",
              "      gap: 12px;\n",
              "    }\n",
              "\n",
              "    .colab-df-convert {\n",
              "      background-color: #E8F0FE;\n",
              "      border: none;\n",
              "      border-radius: 50%;\n",
              "      cursor: pointer;\n",
              "      display: none;\n",
              "      fill: #1967D2;\n",
              "      height: 32px;\n",
              "      padding: 0 0 0 0;\n",
              "      width: 32px;\n",
              "    }\n",
              "\n",
              "    .colab-df-convert:hover {\n",
              "      background-color: #E2EBFA;\n",
              "      box-shadow: 0px 1px 2px rgba(60, 64, 67, 0.3), 0px 1px 3px 1px rgba(60, 64, 67, 0.15);\n",
              "      fill: #174EA6;\n",
              "    }\n",
              "\n",
              "    [theme=dark] .colab-df-convert {\n",
              "      background-color: #3B4455;\n",
              "      fill: #D2E3FC;\n",
              "    }\n",
              "\n",
              "    [theme=dark] .colab-df-convert:hover {\n",
              "      background-color: #434B5C;\n",
              "      box-shadow: 0px 1px 3px 1px rgba(0, 0, 0, 0.15);\n",
              "      filter: drop-shadow(0px 1px 2px rgba(0, 0, 0, 0.3));\n",
              "      fill: #FFFFFF;\n",
              "    }\n",
              "  </style>\n",
              "\n",
              "      <script>\n",
              "        const buttonEl =\n",
              "          document.querySelector('#df-f3727134-0db8-430c-8ac7-15520a805f9d button.colab-df-convert');\n",
              "        buttonEl.style.display =\n",
              "          google.colab.kernel.accessAllowed ? 'block' : 'none';\n",
              "\n",
              "        async function convertToInteractive(key) {\n",
              "          const element = document.querySelector('#df-f3727134-0db8-430c-8ac7-15520a805f9d');\n",
              "          const dataTable =\n",
              "            await google.colab.kernel.invokeFunction('convertToInteractive',\n",
              "                                                     [key], {});\n",
              "          if (!dataTable) return;\n",
              "\n",
              "          const docLinkHtml = 'Like what you see? Visit the ' +\n",
              "            '<a target=\"_blank\" href=https://colab.research.google.com/notebooks/data_table.ipynb>data table notebook</a>'\n",
              "            + ' to learn more about interactive tables.';\n",
              "          element.innerHTML = '';\n",
              "          dataTable['output_type'] = 'display_data';\n",
              "          await google.colab.output.renderOutput(dataTable, element);\n",
              "          const docLink = document.createElement('div');\n",
              "          docLink.innerHTML = docLinkHtml;\n",
              "          element.appendChild(docLink);\n",
              "        }\n",
              "      </script>\n",
              "    </div>\n",
              "  </div>\n",
              "  "
            ]
          },
          "metadata": {},
          "execution_count": 943
        }
      ]
    },
    {
      "cell_type": "code",
      "source": [
        "new_df.drop(columns=[\"RestaurantID\", \"RestaurantLatitude\", \"RestaurantLongitude\", \"Transaction ID \"], inplace = True)"
      ],
      "metadata": {
        "id": "NaA9R2KhyoTZ"
      },
      "execution_count": null,
      "outputs": []
    },
    {
      "cell_type": "code",
      "source": [
        "new_df[\"M5Class\"].isnull().sum()"
      ],
      "metadata": {
        "colab": {
          "base_uri": "https://localhost:8080/"
        },
        "id": "qXNGXzCdyqoS",
        "outputId": "cab0101e-e587-442a-8af8-c766b892585e"
      },
      "execution_count": null,
      "outputs": [
        {
          "output_type": "execute_result",
          "data": {
            "text/plain": [
              "651"
            ]
          },
          "metadata": {},
          "execution_count": 945
        }
      ]
    },
    {
      "cell_type": "markdown",
      "source": [
        "Replacing Ordinal and Binary Values"
      ],
      "metadata": {
        "id": "9cQ2NDl-7mJv"
      }
    },
    {
      "cell_type": "code",
      "source": [
        "new_df"
      ],
      "metadata": {
        "colab": {
          "base_uri": "https://localhost:8080/",
          "height": 488
        },
        "id": "OAnCLM4tqd7a",
        "outputId": "e2111c98-c7b1-48ec-b502-e9335d9b9d9a"
      },
      "execution_count": null,
      "outputs": [
        {
          "output_type": "execute_result",
          "data": {
            "text/plain": [
              "      TimeOfDay  TrafficMorning  TrafficNoon  TrafficAfternoon  DistanceKm  \\\n",
              "0             1               1            2                 2        10.5   \n",
              "1             2               1            2                 2         7.9   \n",
              "2             2               1            1                 1         7.4   \n",
              "3             2               1            1                 2         5.3   \n",
              "4             1               1            2                 2         1.5   \n",
              "...         ...             ...          ...               ...         ...   \n",
              "9956          1               2            2                 1         2.5   \n",
              "9957          1               1            2                 2         1.5   \n",
              "9958          1               2            2                 2         3.2   \n",
              "9959          2               1            2                 2         7.6   \n",
              "9960          1               1            1                 1        11.7   \n",
              "\n",
              "      TimeMinutes  M1DeliveryCost  M2ExpectedDeliveryTime  \\\n",
              "0              29     3000.000000               35.000000   \n",
              "1              30     2000.000000               60.000000   \n",
              "2              17     2578.743223               44.759506   \n",
              "3              16     2578.743223               45.000000   \n",
              "4               6     3000.000000               45.000000   \n",
              "...           ...             ...                     ...   \n",
              "9956            5     4000.000000               60.000000   \n",
              "9957            6     3900.000000               60.000000   \n",
              "9958           10     3000.000000               45.000000   \n",
              "9959           20     2000.000000               50.000000   \n",
              "9960           34     3000.000000               35.000000   \n",
              "\n",
              "      M3MinChargeForOrdering  M3LogMinChargeForOrdering  M4NumberOfComments   \\\n",
              "0               15000.000000                   9.615805             1.000000   \n",
              "1               15000.000000                   9.615805            41.000000   \n",
              "2               13128.918218                   9.357665           189.859628   \n",
              "3               10000.000000                   9.210340           189.859628   \n",
              "4               11000.000000                   9.305651           198.000000   \n",
              "...                      ...                        ...                  ...   \n",
              "9956            13128.918218                   9.357665            26.000000   \n",
              "9957            13128.918218                   9.357665         12832.000000   \n",
              "9958            15900.000000                   9.674074            18.000000   \n",
              "9959            16000.000000                   9.680344            35.000000   \n",
              "9960             9900.000000                   9.200290             1.000000   \n",
              "\n",
              "      M4LogNumberOfComments   M5DeliveryTimeFulfillment  M5Class  \\\n",
              "0                   0.000000                   6.000000      1.0   \n",
              "1                   3.713572                  30.000000      1.0   \n",
              "2                   3.695154                  23.523845      NaN   \n",
              "3                   3.695154                  29.000000      1.0   \n",
              "4                   5.288267                  39.000000      1.0   \n",
              "...                      ...                        ...      ...   \n",
              "9956                3.258097                  55.000000      1.0   \n",
              "9957                9.459697                  54.000000      1.0   \n",
              "9958                2.890372                  35.000000      1.0   \n",
              "9959                3.555348                  30.000000      1.0   \n",
              "9960                0.000000                   1.000000      1.0   \n",
              "\n",
              "      M6DeliveryCostPerKm  M6Class  \n",
              "0                     286        1  \n",
              "1                     253        1  \n",
              "2                       0        1  \n",
              "3                       0        1  \n",
              "4                    2000        1  \n",
              "...                   ...      ...  \n",
              "9956                 1600        1  \n",
              "9957                 2600        0  \n",
              "9958                  938        1  \n",
              "9959                  263        1  \n",
              "9960                  256        1  \n",
              "\n",
              "[9961 rows x 16 columns]"
            ],
            "text/html": [
              "\n",
              "  <div id=\"df-cc582a5d-d7b7-4201-a8ea-61d60b63aa8b\">\n",
              "    <div class=\"colab-df-container\">\n",
              "      <div>\n",
              "<style scoped>\n",
              "    .dataframe tbody tr th:only-of-type {\n",
              "        vertical-align: middle;\n",
              "    }\n",
              "\n",
              "    .dataframe tbody tr th {\n",
              "        vertical-align: top;\n",
              "    }\n",
              "\n",
              "    .dataframe thead th {\n",
              "        text-align: right;\n",
              "    }\n",
              "</style>\n",
              "<table border=\"1\" class=\"dataframe\">\n",
              "  <thead>\n",
              "    <tr style=\"text-align: right;\">\n",
              "      <th></th>\n",
              "      <th>TimeOfDay</th>\n",
              "      <th>TrafficMorning</th>\n",
              "      <th>TrafficNoon</th>\n",
              "      <th>TrafficAfternoon</th>\n",
              "      <th>DistanceKm</th>\n",
              "      <th>TimeMinutes</th>\n",
              "      <th>M1DeliveryCost</th>\n",
              "      <th>M2ExpectedDeliveryTime</th>\n",
              "      <th>M3MinChargeForOrdering</th>\n",
              "      <th>M3LogMinChargeForOrdering</th>\n",
              "      <th>M4NumberOfComments</th>\n",
              "      <th>M4LogNumberOfComments</th>\n",
              "      <th>M5DeliveryTimeFulfillment</th>\n",
              "      <th>M5Class</th>\n",
              "      <th>M6DeliveryCostPerKm</th>\n",
              "      <th>M6Class</th>\n",
              "    </tr>\n",
              "  </thead>\n",
              "  <tbody>\n",
              "    <tr>\n",
              "      <th>0</th>\n",
              "      <td>1</td>\n",
              "      <td>1</td>\n",
              "      <td>2</td>\n",
              "      <td>2</td>\n",
              "      <td>10.5</td>\n",
              "      <td>29</td>\n",
              "      <td>3000.000000</td>\n",
              "      <td>35.000000</td>\n",
              "      <td>15000.000000</td>\n",
              "      <td>9.615805</td>\n",
              "      <td>1.000000</td>\n",
              "      <td>0.000000</td>\n",
              "      <td>6.000000</td>\n",
              "      <td>1.0</td>\n",
              "      <td>286</td>\n",
              "      <td>1</td>\n",
              "    </tr>\n",
              "    <tr>\n",
              "      <th>1</th>\n",
              "      <td>2</td>\n",
              "      <td>1</td>\n",
              "      <td>2</td>\n",
              "      <td>2</td>\n",
              "      <td>7.9</td>\n",
              "      <td>30</td>\n",
              "      <td>2000.000000</td>\n",
              "      <td>60.000000</td>\n",
              "      <td>15000.000000</td>\n",
              "      <td>9.615805</td>\n",
              "      <td>41.000000</td>\n",
              "      <td>3.713572</td>\n",
              "      <td>30.000000</td>\n",
              "      <td>1.0</td>\n",
              "      <td>253</td>\n",
              "      <td>1</td>\n",
              "    </tr>\n",
              "    <tr>\n",
              "      <th>2</th>\n",
              "      <td>2</td>\n",
              "      <td>1</td>\n",
              "      <td>1</td>\n",
              "      <td>1</td>\n",
              "      <td>7.4</td>\n",
              "      <td>17</td>\n",
              "      <td>2578.743223</td>\n",
              "      <td>44.759506</td>\n",
              "      <td>13128.918218</td>\n",
              "      <td>9.357665</td>\n",
              "      <td>189.859628</td>\n",
              "      <td>3.695154</td>\n",
              "      <td>23.523845</td>\n",
              "      <td>NaN</td>\n",
              "      <td>0</td>\n",
              "      <td>1</td>\n",
              "    </tr>\n",
              "    <tr>\n",
              "      <th>3</th>\n",
              "      <td>2</td>\n",
              "      <td>1</td>\n",
              "      <td>1</td>\n",
              "      <td>2</td>\n",
              "      <td>5.3</td>\n",
              "      <td>16</td>\n",
              "      <td>2578.743223</td>\n",
              "      <td>45.000000</td>\n",
              "      <td>10000.000000</td>\n",
              "      <td>9.210340</td>\n",
              "      <td>189.859628</td>\n",
              "      <td>3.695154</td>\n",
              "      <td>29.000000</td>\n",
              "      <td>1.0</td>\n",
              "      <td>0</td>\n",
              "      <td>1</td>\n",
              "    </tr>\n",
              "    <tr>\n",
              "      <th>4</th>\n",
              "      <td>1</td>\n",
              "      <td>1</td>\n",
              "      <td>2</td>\n",
              "      <td>2</td>\n",
              "      <td>1.5</td>\n",
              "      <td>6</td>\n",
              "      <td>3000.000000</td>\n",
              "      <td>45.000000</td>\n",
              "      <td>11000.000000</td>\n",
              "      <td>9.305651</td>\n",
              "      <td>198.000000</td>\n",
              "      <td>5.288267</td>\n",
              "      <td>39.000000</td>\n",
              "      <td>1.0</td>\n",
              "      <td>2000</td>\n",
              "      <td>1</td>\n",
              "    </tr>\n",
              "    <tr>\n",
              "      <th>...</th>\n",
              "      <td>...</td>\n",
              "      <td>...</td>\n",
              "      <td>...</td>\n",
              "      <td>...</td>\n",
              "      <td>...</td>\n",
              "      <td>...</td>\n",
              "      <td>...</td>\n",
              "      <td>...</td>\n",
              "      <td>...</td>\n",
              "      <td>...</td>\n",
              "      <td>...</td>\n",
              "      <td>...</td>\n",
              "      <td>...</td>\n",
              "      <td>...</td>\n",
              "      <td>...</td>\n",
              "      <td>...</td>\n",
              "    </tr>\n",
              "    <tr>\n",
              "      <th>9956</th>\n",
              "      <td>1</td>\n",
              "      <td>2</td>\n",
              "      <td>2</td>\n",
              "      <td>1</td>\n",
              "      <td>2.5</td>\n",
              "      <td>5</td>\n",
              "      <td>4000.000000</td>\n",
              "      <td>60.000000</td>\n",
              "      <td>13128.918218</td>\n",
              "      <td>9.357665</td>\n",
              "      <td>26.000000</td>\n",
              "      <td>3.258097</td>\n",
              "      <td>55.000000</td>\n",
              "      <td>1.0</td>\n",
              "      <td>1600</td>\n",
              "      <td>1</td>\n",
              "    </tr>\n",
              "    <tr>\n",
              "      <th>9957</th>\n",
              "      <td>1</td>\n",
              "      <td>1</td>\n",
              "      <td>2</td>\n",
              "      <td>2</td>\n",
              "      <td>1.5</td>\n",
              "      <td>6</td>\n",
              "      <td>3900.000000</td>\n",
              "      <td>60.000000</td>\n",
              "      <td>13128.918218</td>\n",
              "      <td>9.357665</td>\n",
              "      <td>12832.000000</td>\n",
              "      <td>9.459697</td>\n",
              "      <td>54.000000</td>\n",
              "      <td>1.0</td>\n",
              "      <td>2600</td>\n",
              "      <td>0</td>\n",
              "    </tr>\n",
              "    <tr>\n",
              "      <th>9958</th>\n",
              "      <td>1</td>\n",
              "      <td>2</td>\n",
              "      <td>2</td>\n",
              "      <td>2</td>\n",
              "      <td>3.2</td>\n",
              "      <td>10</td>\n",
              "      <td>3000.000000</td>\n",
              "      <td>45.000000</td>\n",
              "      <td>15900.000000</td>\n",
              "      <td>9.674074</td>\n",
              "      <td>18.000000</td>\n",
              "      <td>2.890372</td>\n",
              "      <td>35.000000</td>\n",
              "      <td>1.0</td>\n",
              "      <td>938</td>\n",
              "      <td>1</td>\n",
              "    </tr>\n",
              "    <tr>\n",
              "      <th>9959</th>\n",
              "      <td>2</td>\n",
              "      <td>1</td>\n",
              "      <td>2</td>\n",
              "      <td>2</td>\n",
              "      <td>7.6</td>\n",
              "      <td>20</td>\n",
              "      <td>2000.000000</td>\n",
              "      <td>50.000000</td>\n",
              "      <td>16000.000000</td>\n",
              "      <td>9.680344</td>\n",
              "      <td>35.000000</td>\n",
              "      <td>3.555348</td>\n",
              "      <td>30.000000</td>\n",
              "      <td>1.0</td>\n",
              "      <td>263</td>\n",
              "      <td>1</td>\n",
              "    </tr>\n",
              "    <tr>\n",
              "      <th>9960</th>\n",
              "      <td>1</td>\n",
              "      <td>1</td>\n",
              "      <td>1</td>\n",
              "      <td>1</td>\n",
              "      <td>11.7</td>\n",
              "      <td>34</td>\n",
              "      <td>3000.000000</td>\n",
              "      <td>35.000000</td>\n",
              "      <td>9900.000000</td>\n",
              "      <td>9.200290</td>\n",
              "      <td>1.000000</td>\n",
              "      <td>0.000000</td>\n",
              "      <td>1.000000</td>\n",
              "      <td>1.0</td>\n",
              "      <td>256</td>\n",
              "      <td>1</td>\n",
              "    </tr>\n",
              "  </tbody>\n",
              "</table>\n",
              "<p>9961 rows × 16 columns</p>\n",
              "</div>\n",
              "      <button class=\"colab-df-convert\" onclick=\"convertToInteractive('df-cc582a5d-d7b7-4201-a8ea-61d60b63aa8b')\"\n",
              "              title=\"Convert this dataframe to an interactive table.\"\n",
              "              style=\"display:none;\">\n",
              "        \n",
              "  <svg xmlns=\"http://www.w3.org/2000/svg\" height=\"24px\"viewBox=\"0 0 24 24\"\n",
              "       width=\"24px\">\n",
              "    <path d=\"M0 0h24v24H0V0z\" fill=\"none\"/>\n",
              "    <path d=\"M18.56 5.44l.94 2.06.94-2.06 2.06-.94-2.06-.94-.94-2.06-.94 2.06-2.06.94zm-11 1L8.5 8.5l.94-2.06 2.06-.94-2.06-.94L8.5 2.5l-.94 2.06-2.06.94zm10 10l.94 2.06.94-2.06 2.06-.94-2.06-.94-.94-2.06-.94 2.06-2.06.94z\"/><path d=\"M17.41 7.96l-1.37-1.37c-.4-.4-.92-.59-1.43-.59-.52 0-1.04.2-1.43.59L10.3 9.45l-7.72 7.72c-.78.78-.78 2.05 0 2.83L4 21.41c.39.39.9.59 1.41.59.51 0 1.02-.2 1.41-.59l7.78-7.78 2.81-2.81c.8-.78.8-2.07 0-2.86zM5.41 20L4 18.59l7.72-7.72 1.47 1.35L5.41 20z\"/>\n",
              "  </svg>\n",
              "      </button>\n",
              "      \n",
              "  <style>\n",
              "    .colab-df-container {\n",
              "      display:flex;\n",
              "      flex-wrap:wrap;\n",
              "      gap: 12px;\n",
              "    }\n",
              "\n",
              "    .colab-df-convert {\n",
              "      background-color: #E8F0FE;\n",
              "      border: none;\n",
              "      border-radius: 50%;\n",
              "      cursor: pointer;\n",
              "      display: none;\n",
              "      fill: #1967D2;\n",
              "      height: 32px;\n",
              "      padding: 0 0 0 0;\n",
              "      width: 32px;\n",
              "    }\n",
              "\n",
              "    .colab-df-convert:hover {\n",
              "      background-color: #E2EBFA;\n",
              "      box-shadow: 0px 1px 2px rgba(60, 64, 67, 0.3), 0px 1px 3px 1px rgba(60, 64, 67, 0.15);\n",
              "      fill: #174EA6;\n",
              "    }\n",
              "\n",
              "    [theme=dark] .colab-df-convert {\n",
              "      background-color: #3B4455;\n",
              "      fill: #D2E3FC;\n",
              "    }\n",
              "\n",
              "    [theme=dark] .colab-df-convert:hover {\n",
              "      background-color: #434B5C;\n",
              "      box-shadow: 0px 1px 3px 1px rgba(0, 0, 0, 0.15);\n",
              "      filter: drop-shadow(0px 1px 2px rgba(0, 0, 0, 0.3));\n",
              "      fill: #FFFFFF;\n",
              "    }\n",
              "  </style>\n",
              "\n",
              "      <script>\n",
              "        const buttonEl =\n",
              "          document.querySelector('#df-cc582a5d-d7b7-4201-a8ea-61d60b63aa8b button.colab-df-convert');\n",
              "        buttonEl.style.display =\n",
              "          google.colab.kernel.accessAllowed ? 'block' : 'none';\n",
              "\n",
              "        async function convertToInteractive(key) {\n",
              "          const element = document.querySelector('#df-cc582a5d-d7b7-4201-a8ea-61d60b63aa8b');\n",
              "          const dataTable =\n",
              "            await google.colab.kernel.invokeFunction('convertToInteractive',\n",
              "                                                     [key], {});\n",
              "          if (!dataTable) return;\n",
              "\n",
              "          const docLinkHtml = 'Like what you see? Visit the ' +\n",
              "            '<a target=\"_blank\" href=https://colab.research.google.com/notebooks/data_table.ipynb>data table notebook</a>'\n",
              "            + ' to learn more about interactive tables.';\n",
              "          element.innerHTML = '';\n",
              "          dataTable['output_type'] = 'display_data';\n",
              "          await google.colab.output.renderOutput(dataTable, element);\n",
              "          const docLink = document.createElement('div');\n",
              "          docLink.innerHTML = docLinkHtml;\n",
              "          element.appendChild(docLink);\n",
              "        }\n",
              "      </script>\n",
              "    </div>\n",
              "  </div>\n",
              "  "
            ]
          },
          "metadata": {},
          "execution_count": 946
        }
      ]
    },
    {
      "cell_type": "code",
      "source": [
        "\n",
        "new_df[\"M5Class\"].replace(np.nan, new_df[\"M5Class\"].median(), inplace = True)\n",
        "new_df[\"M6Class\"].replace(np.nan, new_df[\"M6Class\"].median(), inplace = True)\n",
        "new_df[\"TimeOfDay\"].replace(np.nan, new_df[\"TimeOfDay\"].median(), inplace = True)\n",
        "new_df[\"TrafficMorning\"].replace(np.nan, new_df[\"TrafficMorning\"].median(), inplace = True)\n",
        "new_df[\"TrafficNoon\"].replace(np.nan, new_df[\"TrafficNoon\"].median(), inplace = True)\n",
        "new_df[\"TrafficAfternoon\"].replace(np.nan, new_df[\"TrafficAfternoon\"].median(), inplace = True)\n",
        "\n",
        "new_df = new_df[(np.abs(stats.zscore(new_df[new_df.columns[~new_df.columns.isin(['M5Class','M6Class'])]])) < 3).all(axis=1)].copy()\n",
        "\n",
        "new_df"
      ],
      "metadata": {
        "colab": {
          "base_uri": "https://localhost:8080/",
          "height": 488
        },
        "outputId": "8fb4a5b5-d661-4ca0-a9fd-3a8bde7fd22c",
        "id": "9j5HcABRt6SU"
      },
      "execution_count": null,
      "outputs": [
        {
          "output_type": "execute_result",
          "data": {
            "text/plain": [
              "      TimeOfDay  TrafficMorning  TrafficNoon  TrafficAfternoon  DistanceKm  \\\n",
              "0             1               1            2                 2        10.5   \n",
              "1             2               1            2                 2         7.9   \n",
              "2             2               1            1                 1         7.4   \n",
              "3             2               1            1                 2         5.3   \n",
              "4             1               1            2                 2         1.5   \n",
              "...         ...             ...          ...               ...         ...   \n",
              "9955          1               1            3                 2         3.4   \n",
              "9956          1               2            2                 1         2.5   \n",
              "9958          1               2            2                 2         3.2   \n",
              "9959          2               1            2                 2         7.6   \n",
              "9960          1               1            1                 1        11.7   \n",
              "\n",
              "      TimeMinutes  M1DeliveryCost  M2ExpectedDeliveryTime  \\\n",
              "0              29     3000.000000               35.000000   \n",
              "1              30     2000.000000               60.000000   \n",
              "2              17     2578.743223               44.759506   \n",
              "3              16     2578.743223               45.000000   \n",
              "4               6     3000.000000               45.000000   \n",
              "...           ...             ...                     ...   \n",
              "9955           13     2000.000000               30.000000   \n",
              "9956            5     4000.000000               60.000000   \n",
              "9958           10     3000.000000               45.000000   \n",
              "9959           20     2000.000000               50.000000   \n",
              "9960           34     3000.000000               35.000000   \n",
              "\n",
              "      M3MinChargeForOrdering  M3LogMinChargeForOrdering  M4NumberOfComments   \\\n",
              "0               15000.000000                   9.615805             1.000000   \n",
              "1               15000.000000                   9.615805            41.000000   \n",
              "2               13128.918218                   9.357665           189.859628   \n",
              "3               10000.000000                   9.210340           189.859628   \n",
              "4               11000.000000                   9.305651           198.000000   \n",
              "...                      ...                        ...                  ...   \n",
              "9955            10200.000000                   9.230143             4.000000   \n",
              "9956            13128.918218                   9.357665            26.000000   \n",
              "9958            15900.000000                   9.674074            18.000000   \n",
              "9959            16000.000000                   9.680344            35.000000   \n",
              "9960             9900.000000                   9.200290             1.000000   \n",
              "\n",
              "      M4LogNumberOfComments   M5DeliveryTimeFulfillment  M5Class  \\\n",
              "0                   0.000000                   6.000000      1.0   \n",
              "1                   3.713572                  30.000000      1.0   \n",
              "2                   3.695154                  23.523845      1.0   \n",
              "3                   3.695154                  29.000000      1.0   \n",
              "4                   5.288267                  39.000000      1.0   \n",
              "...                      ...                        ...      ...   \n",
              "9955                1.386294                  17.000000      1.0   \n",
              "9956                3.258097                  55.000000      1.0   \n",
              "9958                2.890372                  35.000000      1.0   \n",
              "9959                3.555348                  30.000000      1.0   \n",
              "9960                0.000000                   1.000000      1.0   \n",
              "\n",
              "      M6DeliveryCostPerKm  M6Class  \n",
              "0                     286        1  \n",
              "1                     253        1  \n",
              "2                       0        1  \n",
              "3                       0        1  \n",
              "4                    2000        1  \n",
              "...                   ...      ...  \n",
              "9955                  588        1  \n",
              "9956                 1600        1  \n",
              "9958                  938        1  \n",
              "9959                  263        1  \n",
              "9960                  256        1  \n",
              "\n",
              "[9398 rows x 16 columns]"
            ],
            "text/html": [
              "\n",
              "  <div id=\"df-83a03899-9f13-489b-9647-0bae8db40e7e\">\n",
              "    <div class=\"colab-df-container\">\n",
              "      <div>\n",
              "<style scoped>\n",
              "    .dataframe tbody tr th:only-of-type {\n",
              "        vertical-align: middle;\n",
              "    }\n",
              "\n",
              "    .dataframe tbody tr th {\n",
              "        vertical-align: top;\n",
              "    }\n",
              "\n",
              "    .dataframe thead th {\n",
              "        text-align: right;\n",
              "    }\n",
              "</style>\n",
              "<table border=\"1\" class=\"dataframe\">\n",
              "  <thead>\n",
              "    <tr style=\"text-align: right;\">\n",
              "      <th></th>\n",
              "      <th>TimeOfDay</th>\n",
              "      <th>TrafficMorning</th>\n",
              "      <th>TrafficNoon</th>\n",
              "      <th>TrafficAfternoon</th>\n",
              "      <th>DistanceKm</th>\n",
              "      <th>TimeMinutes</th>\n",
              "      <th>M1DeliveryCost</th>\n",
              "      <th>M2ExpectedDeliveryTime</th>\n",
              "      <th>M3MinChargeForOrdering</th>\n",
              "      <th>M3LogMinChargeForOrdering</th>\n",
              "      <th>M4NumberOfComments</th>\n",
              "      <th>M4LogNumberOfComments</th>\n",
              "      <th>M5DeliveryTimeFulfillment</th>\n",
              "      <th>M5Class</th>\n",
              "      <th>M6DeliveryCostPerKm</th>\n",
              "      <th>M6Class</th>\n",
              "    </tr>\n",
              "  </thead>\n",
              "  <tbody>\n",
              "    <tr>\n",
              "      <th>0</th>\n",
              "      <td>1</td>\n",
              "      <td>1</td>\n",
              "      <td>2</td>\n",
              "      <td>2</td>\n",
              "      <td>10.5</td>\n",
              "      <td>29</td>\n",
              "      <td>3000.000000</td>\n",
              "      <td>35.000000</td>\n",
              "      <td>15000.000000</td>\n",
              "      <td>9.615805</td>\n",
              "      <td>1.000000</td>\n",
              "      <td>0.000000</td>\n",
              "      <td>6.000000</td>\n",
              "      <td>1.0</td>\n",
              "      <td>286</td>\n",
              "      <td>1</td>\n",
              "    </tr>\n",
              "    <tr>\n",
              "      <th>1</th>\n",
              "      <td>2</td>\n",
              "      <td>1</td>\n",
              "      <td>2</td>\n",
              "      <td>2</td>\n",
              "      <td>7.9</td>\n",
              "      <td>30</td>\n",
              "      <td>2000.000000</td>\n",
              "      <td>60.000000</td>\n",
              "      <td>15000.000000</td>\n",
              "      <td>9.615805</td>\n",
              "      <td>41.000000</td>\n",
              "      <td>3.713572</td>\n",
              "      <td>30.000000</td>\n",
              "      <td>1.0</td>\n",
              "      <td>253</td>\n",
              "      <td>1</td>\n",
              "    </tr>\n",
              "    <tr>\n",
              "      <th>2</th>\n",
              "      <td>2</td>\n",
              "      <td>1</td>\n",
              "      <td>1</td>\n",
              "      <td>1</td>\n",
              "      <td>7.4</td>\n",
              "      <td>17</td>\n",
              "      <td>2578.743223</td>\n",
              "      <td>44.759506</td>\n",
              "      <td>13128.918218</td>\n",
              "      <td>9.357665</td>\n",
              "      <td>189.859628</td>\n",
              "      <td>3.695154</td>\n",
              "      <td>23.523845</td>\n",
              "      <td>1.0</td>\n",
              "      <td>0</td>\n",
              "      <td>1</td>\n",
              "    </tr>\n",
              "    <tr>\n",
              "      <th>3</th>\n",
              "      <td>2</td>\n",
              "      <td>1</td>\n",
              "      <td>1</td>\n",
              "      <td>2</td>\n",
              "      <td>5.3</td>\n",
              "      <td>16</td>\n",
              "      <td>2578.743223</td>\n",
              "      <td>45.000000</td>\n",
              "      <td>10000.000000</td>\n",
              "      <td>9.210340</td>\n",
              "      <td>189.859628</td>\n",
              "      <td>3.695154</td>\n",
              "      <td>29.000000</td>\n",
              "      <td>1.0</td>\n",
              "      <td>0</td>\n",
              "      <td>1</td>\n",
              "    </tr>\n",
              "    <tr>\n",
              "      <th>4</th>\n",
              "      <td>1</td>\n",
              "      <td>1</td>\n",
              "      <td>2</td>\n",
              "      <td>2</td>\n",
              "      <td>1.5</td>\n",
              "      <td>6</td>\n",
              "      <td>3000.000000</td>\n",
              "      <td>45.000000</td>\n",
              "      <td>11000.000000</td>\n",
              "      <td>9.305651</td>\n",
              "      <td>198.000000</td>\n",
              "      <td>5.288267</td>\n",
              "      <td>39.000000</td>\n",
              "      <td>1.0</td>\n",
              "      <td>2000</td>\n",
              "      <td>1</td>\n",
              "    </tr>\n",
              "    <tr>\n",
              "      <th>...</th>\n",
              "      <td>...</td>\n",
              "      <td>...</td>\n",
              "      <td>...</td>\n",
              "      <td>...</td>\n",
              "      <td>...</td>\n",
              "      <td>...</td>\n",
              "      <td>...</td>\n",
              "      <td>...</td>\n",
              "      <td>...</td>\n",
              "      <td>...</td>\n",
              "      <td>...</td>\n",
              "      <td>...</td>\n",
              "      <td>...</td>\n",
              "      <td>...</td>\n",
              "      <td>...</td>\n",
              "      <td>...</td>\n",
              "    </tr>\n",
              "    <tr>\n",
              "      <th>9955</th>\n",
              "      <td>1</td>\n",
              "      <td>1</td>\n",
              "      <td>3</td>\n",
              "      <td>2</td>\n",
              "      <td>3.4</td>\n",
              "      <td>13</td>\n",
              "      <td>2000.000000</td>\n",
              "      <td>30.000000</td>\n",
              "      <td>10200.000000</td>\n",
              "      <td>9.230143</td>\n",
              "      <td>4.000000</td>\n",
              "      <td>1.386294</td>\n",
              "      <td>17.000000</td>\n",
              "      <td>1.0</td>\n",
              "      <td>588</td>\n",
              "      <td>1</td>\n",
              "    </tr>\n",
              "    <tr>\n",
              "      <th>9956</th>\n",
              "      <td>1</td>\n",
              "      <td>2</td>\n",
              "      <td>2</td>\n",
              "      <td>1</td>\n",
              "      <td>2.5</td>\n",
              "      <td>5</td>\n",
              "      <td>4000.000000</td>\n",
              "      <td>60.000000</td>\n",
              "      <td>13128.918218</td>\n",
              "      <td>9.357665</td>\n",
              "      <td>26.000000</td>\n",
              "      <td>3.258097</td>\n",
              "      <td>55.000000</td>\n",
              "      <td>1.0</td>\n",
              "      <td>1600</td>\n",
              "      <td>1</td>\n",
              "    </tr>\n",
              "    <tr>\n",
              "      <th>9958</th>\n",
              "      <td>1</td>\n",
              "      <td>2</td>\n",
              "      <td>2</td>\n",
              "      <td>2</td>\n",
              "      <td>3.2</td>\n",
              "      <td>10</td>\n",
              "      <td>3000.000000</td>\n",
              "      <td>45.000000</td>\n",
              "      <td>15900.000000</td>\n",
              "      <td>9.674074</td>\n",
              "      <td>18.000000</td>\n",
              "      <td>2.890372</td>\n",
              "      <td>35.000000</td>\n",
              "      <td>1.0</td>\n",
              "      <td>938</td>\n",
              "      <td>1</td>\n",
              "    </tr>\n",
              "    <tr>\n",
              "      <th>9959</th>\n",
              "      <td>2</td>\n",
              "      <td>1</td>\n",
              "      <td>2</td>\n",
              "      <td>2</td>\n",
              "      <td>7.6</td>\n",
              "      <td>20</td>\n",
              "      <td>2000.000000</td>\n",
              "      <td>50.000000</td>\n",
              "      <td>16000.000000</td>\n",
              "      <td>9.680344</td>\n",
              "      <td>35.000000</td>\n",
              "      <td>3.555348</td>\n",
              "      <td>30.000000</td>\n",
              "      <td>1.0</td>\n",
              "      <td>263</td>\n",
              "      <td>1</td>\n",
              "    </tr>\n",
              "    <tr>\n",
              "      <th>9960</th>\n",
              "      <td>1</td>\n",
              "      <td>1</td>\n",
              "      <td>1</td>\n",
              "      <td>1</td>\n",
              "      <td>11.7</td>\n",
              "      <td>34</td>\n",
              "      <td>3000.000000</td>\n",
              "      <td>35.000000</td>\n",
              "      <td>9900.000000</td>\n",
              "      <td>9.200290</td>\n",
              "      <td>1.000000</td>\n",
              "      <td>0.000000</td>\n",
              "      <td>1.000000</td>\n",
              "      <td>1.0</td>\n",
              "      <td>256</td>\n",
              "      <td>1</td>\n",
              "    </tr>\n",
              "  </tbody>\n",
              "</table>\n",
              "<p>9398 rows × 16 columns</p>\n",
              "</div>\n",
              "      <button class=\"colab-df-convert\" onclick=\"convertToInteractive('df-83a03899-9f13-489b-9647-0bae8db40e7e')\"\n",
              "              title=\"Convert this dataframe to an interactive table.\"\n",
              "              style=\"display:none;\">\n",
              "        \n",
              "  <svg xmlns=\"http://www.w3.org/2000/svg\" height=\"24px\"viewBox=\"0 0 24 24\"\n",
              "       width=\"24px\">\n",
              "    <path d=\"M0 0h24v24H0V0z\" fill=\"none\"/>\n",
              "    <path d=\"M18.56 5.44l.94 2.06.94-2.06 2.06-.94-2.06-.94-.94-2.06-.94 2.06-2.06.94zm-11 1L8.5 8.5l.94-2.06 2.06-.94-2.06-.94L8.5 2.5l-.94 2.06-2.06.94zm10 10l.94 2.06.94-2.06 2.06-.94-2.06-.94-.94-2.06-.94 2.06-2.06.94z\"/><path d=\"M17.41 7.96l-1.37-1.37c-.4-.4-.92-.59-1.43-.59-.52 0-1.04.2-1.43.59L10.3 9.45l-7.72 7.72c-.78.78-.78 2.05 0 2.83L4 21.41c.39.39.9.59 1.41.59.51 0 1.02-.2 1.41-.59l7.78-7.78 2.81-2.81c.8-.78.8-2.07 0-2.86zM5.41 20L4 18.59l7.72-7.72 1.47 1.35L5.41 20z\"/>\n",
              "  </svg>\n",
              "      </button>\n",
              "      \n",
              "  <style>\n",
              "    .colab-df-container {\n",
              "      display:flex;\n",
              "      flex-wrap:wrap;\n",
              "      gap: 12px;\n",
              "    }\n",
              "\n",
              "    .colab-df-convert {\n",
              "      background-color: #E8F0FE;\n",
              "      border: none;\n",
              "      border-radius: 50%;\n",
              "      cursor: pointer;\n",
              "      display: none;\n",
              "      fill: #1967D2;\n",
              "      height: 32px;\n",
              "      padding: 0 0 0 0;\n",
              "      width: 32px;\n",
              "    }\n",
              "\n",
              "    .colab-df-convert:hover {\n",
              "      background-color: #E2EBFA;\n",
              "      box-shadow: 0px 1px 2px rgba(60, 64, 67, 0.3), 0px 1px 3px 1px rgba(60, 64, 67, 0.15);\n",
              "      fill: #174EA6;\n",
              "    }\n",
              "\n",
              "    [theme=dark] .colab-df-convert {\n",
              "      background-color: #3B4455;\n",
              "      fill: #D2E3FC;\n",
              "    }\n",
              "\n",
              "    [theme=dark] .colab-df-convert:hover {\n",
              "      background-color: #434B5C;\n",
              "      box-shadow: 0px 1px 3px 1px rgba(0, 0, 0, 0.15);\n",
              "      filter: drop-shadow(0px 1px 2px rgba(0, 0, 0, 0.3));\n",
              "      fill: #FFFFFF;\n",
              "    }\n",
              "  </style>\n",
              "\n",
              "      <script>\n",
              "        const buttonEl =\n",
              "          document.querySelector('#df-83a03899-9f13-489b-9647-0bae8db40e7e button.colab-df-convert');\n",
              "        buttonEl.style.display =\n",
              "          google.colab.kernel.accessAllowed ? 'block' : 'none';\n",
              "\n",
              "        async function convertToInteractive(key) {\n",
              "          const element = document.querySelector('#df-83a03899-9f13-489b-9647-0bae8db40e7e');\n",
              "          const dataTable =\n",
              "            await google.colab.kernel.invokeFunction('convertToInteractive',\n",
              "                                                     [key], {});\n",
              "          if (!dataTable) return;\n",
              "\n",
              "          const docLinkHtml = 'Like what you see? Visit the ' +\n",
              "            '<a target=\"_blank\" href=https://colab.research.google.com/notebooks/data_table.ipynb>data table notebook</a>'\n",
              "            + ' to learn more about interactive tables.';\n",
              "          element.innerHTML = '';\n",
              "          dataTable['output_type'] = 'display_data';\n",
              "          await google.colab.output.renderOutput(dataTable, element);\n",
              "          const docLink = document.createElement('div');\n",
              "          docLink.innerHTML = docLinkHtml;\n",
              "          element.appendChild(docLink);\n",
              "        }\n",
              "      </script>\n",
              "    </div>\n",
              "  </div>\n",
              "  "
            ]
          },
          "metadata": {},
          "execution_count": 947
        }
      ]
    },
    {
      "cell_type": "code",
      "source": [
        "new_df.isnull().sum()"
      ],
      "metadata": {
        "colab": {
          "base_uri": "https://localhost:8080/"
        },
        "id": "iP6QtWsrzzP8",
        "outputId": "ace74660-4278-4d42-d497-c5a7e531219d"
      },
      "execution_count": null,
      "outputs": [
        {
          "output_type": "execute_result",
          "data": {
            "text/plain": [
              "TimeOfDay                    0\n",
              "TrafficMorning               0\n",
              "TrafficNoon                  0\n",
              "TrafficAfternoon             0\n",
              "DistanceKm                   0\n",
              "TimeMinutes                  0\n",
              "M1DeliveryCost               0\n",
              "M2ExpectedDeliveryTime       0\n",
              "M3MinChargeForOrdering       0\n",
              "M3LogMinChargeForOrdering    0\n",
              "M4NumberOfComments           0\n",
              "M4LogNumberOfComments        0\n",
              "M5DeliveryTimeFulfillment    0\n",
              "M5Class                      0\n",
              "M6DeliveryCostPerKm          0\n",
              "M6Class                      0\n",
              "dtype: int64"
            ]
          },
          "metadata": {},
          "execution_count": 948
        }
      ]
    },
    {
      "cell_type": "markdown",
      "source": [
        "#Feature Selection\n",
        "***\n"
      ],
      "metadata": {
        "id": "c2PkBWuFWFWL"
      }
    },
    {
      "cell_type": "markdown",
      "source": [
        "#Mutual Information Gain\n",
        "---"
      ],
      "metadata": {
        "id": "HsKm7xk6sif9"
      }
    },
    {
      "cell_type": "markdown",
      "source": [
        "###Mutual Information Gain for M5Class"
      ],
      "metadata": {
        "id": "wcdykE2zsrSD"
      }
    },
    {
      "cell_type": "code",
      "source": [
        "from sklearn.feature_selection import mutual_info_classif\n",
        "from sklearn.model_selection import train_test_split"
      ],
      "metadata": {
        "id": "p4_PfUNrW6hr"
      },
      "execution_count": null,
      "outputs": []
    },
    {
      "cell_type": "markdown",
      "source": [
        "Assigning labels and data to variables"
      ],
      "metadata": {
        "id": "PrFyDy6A8Dfw"
      }
    },
    {
      "cell_type": "code",
      "source": [
        "y = new_df['M5Class']\n",
        "x = new_df.drop(['M5Class'],axis = 1)\n",
        "x.drop(['M6Class'], axis = 1, inplace=True)\n",
        "x.drop(['M5DeliveryTimeFulfillment'], axis = 1, inplace = True)\n"
      ],
      "metadata": {
        "id": "rBx17vd4a1RN"
      },
      "execution_count": null,
      "outputs": []
    },
    {
      "cell_type": "markdown",
      "source": [
        "Splitting data into train and test sets"
      ],
      "metadata": {
        "id": "tS_Z_PbD8K7O"
      }
    },
    {
      "cell_type": "code",
      "source": [
        "X_train, X_test, y_train, y_test = train_test_split(x, y,random_state=100, test_size=0.3)\n",
        "X_train"
      ],
      "metadata": {
        "id": "2plFD7A5W-Dc",
        "colab": {
          "base_uri": "https://localhost:8080/",
          "height": 488
        },
        "outputId": "8094c9b8-3552-488a-d14d-864bbbd15172"
      },
      "execution_count": null,
      "outputs": [
        {
          "output_type": "execute_result",
          "data": {
            "text/plain": [
              "      TimeOfDay  TrafficMorning  TrafficNoon  TrafficAfternoon  DistanceKm  \\\n",
              "270           2               1            1                 1         3.3   \n",
              "5955          1               2            2                 2         4.9   \n",
              "7238          2               2            2                 2         0.8   \n",
              "6436          3               1            2                 3         7.9   \n",
              "7049          2               1            3                 2        21.8   \n",
              "...         ...             ...          ...               ...         ...   \n",
              "363           1               1            1                 1         3.9   \n",
              "82            3               1            1                 1        11.3   \n",
              "8510          1               1            2                 2         6.4   \n",
              "7348          2               2            3                 2         4.6   \n",
              "5988          2               1            2                 1         4.1   \n",
              "\n",
              "      TimeMinutes  M1DeliveryCost  M2ExpectedDeliveryTime  \\\n",
              "270             7     3000.000000                    35.0   \n",
              "5955           13     2000.000000                    45.0   \n",
              "7238            3     2000.000000                    45.0   \n",
              "6436           26     3500.000000                    45.0   \n",
              "7049            1     4000.000000                    55.0   \n",
              "...           ...             ...                     ...   \n",
              "363            13        0.000000                    25.0   \n",
              "82             33     2578.743223                    45.0   \n",
              "8510           20     3000.000000                    40.0   \n",
              "7348           14     2000.000000                    45.0   \n",
              "5988           14     2700.000000                    45.0   \n",
              "\n",
              "      M3MinChargeForOrdering  M3LogMinChargeForOrdering  M4NumberOfComments   \\\n",
              "270              9900.000000                   9.200290             1.000000   \n",
              "5955             4400.000000                   8.389360             9.000000   \n",
              "7238             4400.000000                   8.389360             9.000000   \n",
              "6436             9900.000000                   9.200290           327.000000   \n",
              "7049            15000.000000                   9.615805            27.000000   \n",
              "...                      ...                        ...                  ...   \n",
              "363             13128.918218                   9.357665           110.000000   \n",
              "82              10000.000000                   9.210340           189.859628   \n",
              "8510            10900.000000                   9.296518           268.000000   \n",
              "7348             9900.000000                   9.200290            28.000000   \n",
              "5988            12500.000000                   9.433484            37.000000   \n",
              "\n",
              "      M4LogNumberOfComments   M6DeliveryCostPerKm  \n",
              "270                 0.000000                  909  \n",
              "5955                2.197225                  408  \n",
              "7238                2.197225                 2500  \n",
              "6436                5.789960                  443  \n",
              "7049                3.295837                  183  \n",
              "...                      ...                  ...  \n",
              "363                 4.700480                    0  \n",
              "82                  3.695154                    0  \n",
              "8510                5.590987                  469  \n",
              "7348                3.332205                  435  \n",
              "5988                3.610918                  659  \n",
              "\n",
              "[6578 rows x 13 columns]"
            ],
            "text/html": [
              "\n",
              "  <div id=\"df-70bdeb92-49af-4848-9400-cc7a60ce95ef\">\n",
              "    <div class=\"colab-df-container\">\n",
              "      <div>\n",
              "<style scoped>\n",
              "    .dataframe tbody tr th:only-of-type {\n",
              "        vertical-align: middle;\n",
              "    }\n",
              "\n",
              "    .dataframe tbody tr th {\n",
              "        vertical-align: top;\n",
              "    }\n",
              "\n",
              "    .dataframe thead th {\n",
              "        text-align: right;\n",
              "    }\n",
              "</style>\n",
              "<table border=\"1\" class=\"dataframe\">\n",
              "  <thead>\n",
              "    <tr style=\"text-align: right;\">\n",
              "      <th></th>\n",
              "      <th>TimeOfDay</th>\n",
              "      <th>TrafficMorning</th>\n",
              "      <th>TrafficNoon</th>\n",
              "      <th>TrafficAfternoon</th>\n",
              "      <th>DistanceKm</th>\n",
              "      <th>TimeMinutes</th>\n",
              "      <th>M1DeliveryCost</th>\n",
              "      <th>M2ExpectedDeliveryTime</th>\n",
              "      <th>M3MinChargeForOrdering</th>\n",
              "      <th>M3LogMinChargeForOrdering</th>\n",
              "      <th>M4NumberOfComments</th>\n",
              "      <th>M4LogNumberOfComments</th>\n",
              "      <th>M6DeliveryCostPerKm</th>\n",
              "    </tr>\n",
              "  </thead>\n",
              "  <tbody>\n",
              "    <tr>\n",
              "      <th>270</th>\n",
              "      <td>2</td>\n",
              "      <td>1</td>\n",
              "      <td>1</td>\n",
              "      <td>1</td>\n",
              "      <td>3.3</td>\n",
              "      <td>7</td>\n",
              "      <td>3000.000000</td>\n",
              "      <td>35.0</td>\n",
              "      <td>9900.000000</td>\n",
              "      <td>9.200290</td>\n",
              "      <td>1.000000</td>\n",
              "      <td>0.000000</td>\n",
              "      <td>909</td>\n",
              "    </tr>\n",
              "    <tr>\n",
              "      <th>5955</th>\n",
              "      <td>1</td>\n",
              "      <td>2</td>\n",
              "      <td>2</td>\n",
              "      <td>2</td>\n",
              "      <td>4.9</td>\n",
              "      <td>13</td>\n",
              "      <td>2000.000000</td>\n",
              "      <td>45.0</td>\n",
              "      <td>4400.000000</td>\n",
              "      <td>8.389360</td>\n",
              "      <td>9.000000</td>\n",
              "      <td>2.197225</td>\n",
              "      <td>408</td>\n",
              "    </tr>\n",
              "    <tr>\n",
              "      <th>7238</th>\n",
              "      <td>2</td>\n",
              "      <td>2</td>\n",
              "      <td>2</td>\n",
              "      <td>2</td>\n",
              "      <td>0.8</td>\n",
              "      <td>3</td>\n",
              "      <td>2000.000000</td>\n",
              "      <td>45.0</td>\n",
              "      <td>4400.000000</td>\n",
              "      <td>8.389360</td>\n",
              "      <td>9.000000</td>\n",
              "      <td>2.197225</td>\n",
              "      <td>2500</td>\n",
              "    </tr>\n",
              "    <tr>\n",
              "      <th>6436</th>\n",
              "      <td>3</td>\n",
              "      <td>1</td>\n",
              "      <td>2</td>\n",
              "      <td>3</td>\n",
              "      <td>7.9</td>\n",
              "      <td>26</td>\n",
              "      <td>3500.000000</td>\n",
              "      <td>45.0</td>\n",
              "      <td>9900.000000</td>\n",
              "      <td>9.200290</td>\n",
              "      <td>327.000000</td>\n",
              "      <td>5.789960</td>\n",
              "      <td>443</td>\n",
              "    </tr>\n",
              "    <tr>\n",
              "      <th>7049</th>\n",
              "      <td>2</td>\n",
              "      <td>1</td>\n",
              "      <td>3</td>\n",
              "      <td>2</td>\n",
              "      <td>21.8</td>\n",
              "      <td>1</td>\n",
              "      <td>4000.000000</td>\n",
              "      <td>55.0</td>\n",
              "      <td>15000.000000</td>\n",
              "      <td>9.615805</td>\n",
              "      <td>27.000000</td>\n",
              "      <td>3.295837</td>\n",
              "      <td>183</td>\n",
              "    </tr>\n",
              "    <tr>\n",
              "      <th>...</th>\n",
              "      <td>...</td>\n",
              "      <td>...</td>\n",
              "      <td>...</td>\n",
              "      <td>...</td>\n",
              "      <td>...</td>\n",
              "      <td>...</td>\n",
              "      <td>...</td>\n",
              "      <td>...</td>\n",
              "      <td>...</td>\n",
              "      <td>...</td>\n",
              "      <td>...</td>\n",
              "      <td>...</td>\n",
              "      <td>...</td>\n",
              "    </tr>\n",
              "    <tr>\n",
              "      <th>363</th>\n",
              "      <td>1</td>\n",
              "      <td>1</td>\n",
              "      <td>1</td>\n",
              "      <td>1</td>\n",
              "      <td>3.9</td>\n",
              "      <td>13</td>\n",
              "      <td>0.000000</td>\n",
              "      <td>25.0</td>\n",
              "      <td>13128.918218</td>\n",
              "      <td>9.357665</td>\n",
              "      <td>110.000000</td>\n",
              "      <td>4.700480</td>\n",
              "      <td>0</td>\n",
              "    </tr>\n",
              "    <tr>\n",
              "      <th>82</th>\n",
              "      <td>3</td>\n",
              "      <td>1</td>\n",
              "      <td>1</td>\n",
              "      <td>1</td>\n",
              "      <td>11.3</td>\n",
              "      <td>33</td>\n",
              "      <td>2578.743223</td>\n",
              "      <td>45.0</td>\n",
              "      <td>10000.000000</td>\n",
              "      <td>9.210340</td>\n",
              "      <td>189.859628</td>\n",
              "      <td>3.695154</td>\n",
              "      <td>0</td>\n",
              "    </tr>\n",
              "    <tr>\n",
              "      <th>8510</th>\n",
              "      <td>1</td>\n",
              "      <td>1</td>\n",
              "      <td>2</td>\n",
              "      <td>2</td>\n",
              "      <td>6.4</td>\n",
              "      <td>20</td>\n",
              "      <td>3000.000000</td>\n",
              "      <td>40.0</td>\n",
              "      <td>10900.000000</td>\n",
              "      <td>9.296518</td>\n",
              "      <td>268.000000</td>\n",
              "      <td>5.590987</td>\n",
              "      <td>469</td>\n",
              "    </tr>\n",
              "    <tr>\n",
              "      <th>7348</th>\n",
              "      <td>2</td>\n",
              "      <td>2</td>\n",
              "      <td>3</td>\n",
              "      <td>2</td>\n",
              "      <td>4.6</td>\n",
              "      <td>14</td>\n",
              "      <td>2000.000000</td>\n",
              "      <td>45.0</td>\n",
              "      <td>9900.000000</td>\n",
              "      <td>9.200290</td>\n",
              "      <td>28.000000</td>\n",
              "      <td>3.332205</td>\n",
              "      <td>435</td>\n",
              "    </tr>\n",
              "    <tr>\n",
              "      <th>5988</th>\n",
              "      <td>2</td>\n",
              "      <td>1</td>\n",
              "      <td>2</td>\n",
              "      <td>1</td>\n",
              "      <td>4.1</td>\n",
              "      <td>14</td>\n",
              "      <td>2700.000000</td>\n",
              "      <td>45.0</td>\n",
              "      <td>12500.000000</td>\n",
              "      <td>9.433484</td>\n",
              "      <td>37.000000</td>\n",
              "      <td>3.610918</td>\n",
              "      <td>659</td>\n",
              "    </tr>\n",
              "  </tbody>\n",
              "</table>\n",
              "<p>6578 rows × 13 columns</p>\n",
              "</div>\n",
              "      <button class=\"colab-df-convert\" onclick=\"convertToInteractive('df-70bdeb92-49af-4848-9400-cc7a60ce95ef')\"\n",
              "              title=\"Convert this dataframe to an interactive table.\"\n",
              "              style=\"display:none;\">\n",
              "        \n",
              "  <svg xmlns=\"http://www.w3.org/2000/svg\" height=\"24px\"viewBox=\"0 0 24 24\"\n",
              "       width=\"24px\">\n",
              "    <path d=\"M0 0h24v24H0V0z\" fill=\"none\"/>\n",
              "    <path d=\"M18.56 5.44l.94 2.06.94-2.06 2.06-.94-2.06-.94-.94-2.06-.94 2.06-2.06.94zm-11 1L8.5 8.5l.94-2.06 2.06-.94-2.06-.94L8.5 2.5l-.94 2.06-2.06.94zm10 10l.94 2.06.94-2.06 2.06-.94-2.06-.94-.94-2.06-.94 2.06-2.06.94z\"/><path d=\"M17.41 7.96l-1.37-1.37c-.4-.4-.92-.59-1.43-.59-.52 0-1.04.2-1.43.59L10.3 9.45l-7.72 7.72c-.78.78-.78 2.05 0 2.83L4 21.41c.39.39.9.59 1.41.59.51 0 1.02-.2 1.41-.59l7.78-7.78 2.81-2.81c.8-.78.8-2.07 0-2.86zM5.41 20L4 18.59l7.72-7.72 1.47 1.35L5.41 20z\"/>\n",
              "  </svg>\n",
              "      </button>\n",
              "      \n",
              "  <style>\n",
              "    .colab-df-container {\n",
              "      display:flex;\n",
              "      flex-wrap:wrap;\n",
              "      gap: 12px;\n",
              "    }\n",
              "\n",
              "    .colab-df-convert {\n",
              "      background-color: #E8F0FE;\n",
              "      border: none;\n",
              "      border-radius: 50%;\n",
              "      cursor: pointer;\n",
              "      display: none;\n",
              "      fill: #1967D2;\n",
              "      height: 32px;\n",
              "      padding: 0 0 0 0;\n",
              "      width: 32px;\n",
              "    }\n",
              "\n",
              "    .colab-df-convert:hover {\n",
              "      background-color: #E2EBFA;\n",
              "      box-shadow: 0px 1px 2px rgba(60, 64, 67, 0.3), 0px 1px 3px 1px rgba(60, 64, 67, 0.15);\n",
              "      fill: #174EA6;\n",
              "    }\n",
              "\n",
              "    [theme=dark] .colab-df-convert {\n",
              "      background-color: #3B4455;\n",
              "      fill: #D2E3FC;\n",
              "    }\n",
              "\n",
              "    [theme=dark] .colab-df-convert:hover {\n",
              "      background-color: #434B5C;\n",
              "      box-shadow: 0px 1px 3px 1px rgba(0, 0, 0, 0.15);\n",
              "      filter: drop-shadow(0px 1px 2px rgba(0, 0, 0, 0.3));\n",
              "      fill: #FFFFFF;\n",
              "    }\n",
              "  </style>\n",
              "\n",
              "      <script>\n",
              "        const buttonEl =\n",
              "          document.querySelector('#df-70bdeb92-49af-4848-9400-cc7a60ce95ef button.colab-df-convert');\n",
              "        buttonEl.style.display =\n",
              "          google.colab.kernel.accessAllowed ? 'block' : 'none';\n",
              "\n",
              "        async function convertToInteractive(key) {\n",
              "          const element = document.querySelector('#df-70bdeb92-49af-4848-9400-cc7a60ce95ef');\n",
              "          const dataTable =\n",
              "            await google.colab.kernel.invokeFunction('convertToInteractive',\n",
              "                                                     [key], {});\n",
              "          if (!dataTable) return;\n",
              "\n",
              "          const docLinkHtml = 'Like what you see? Visit the ' +\n",
              "            '<a target=\"_blank\" href=https://colab.research.google.com/notebooks/data_table.ipynb>data table notebook</a>'\n",
              "            + ' to learn more about interactive tables.';\n",
              "          element.innerHTML = '';\n",
              "          dataTable['output_type'] = 'display_data';\n",
              "          await google.colab.output.renderOutput(dataTable, element);\n",
              "          const docLink = document.createElement('div');\n",
              "          docLink.innerHTML = docLinkHtml;\n",
              "          element.appendChild(docLink);\n",
              "        }\n",
              "      </script>\n",
              "    </div>\n",
              "  </div>\n",
              "  "
            ]
          },
          "metadata": {},
          "execution_count": 951
        }
      ]
    },
    {
      "cell_type": "markdown",
      "source": [
        "Calculating mutual info for every feature"
      ],
      "metadata": {
        "id": "hyuLkv1q8Ple"
      }
    },
    {
      "cell_type": "code",
      "source": [
        "mutual_info = mutual_info_classif(X_train, y_train)\n",
        "mutual_info"
      ],
      "metadata": {
        "colab": {
          "base_uri": "https://localhost:8080/"
        },
        "id": "g49Qv0z8amwR",
        "outputId": "b1b16920-a6ab-4df1-fa35-0010c45ff467"
      },
      "execution_count": null,
      "outputs": [
        {
          "output_type": "execute_result",
          "data": {
            "text/plain": [
              "array([0.        , 0.        , 0.        , 0.        , 0.10921153,\n",
              "       0.13394396, 0.00936375, 0.06325316, 0.010506  , 0.0103654 ,\n",
              "       0.02330537, 0.02102216, 0.05142586])"
            ]
          },
          "metadata": {},
          "execution_count": 952
        }
      ]
    },
    {
      "cell_type": "code",
      "source": [
        "mutual_info = pd.Series(mutual_info)\n",
        "mutual_info.index = X_train.columns\n",
        "mutual_info.sort_values(ascending=False)"
      ],
      "metadata": {
        "colab": {
          "base_uri": "https://localhost:8080/"
        },
        "id": "M_o5h4FZdkWO",
        "outputId": "1388384f-d3b8-4ece-efe1-6531d0e2658f"
      },
      "execution_count": null,
      "outputs": [
        {
          "output_type": "execute_result",
          "data": {
            "text/plain": [
              "TimeMinutes                  0.133944\n",
              "DistanceKm                   0.109212\n",
              "M2ExpectedDeliveryTime       0.063253\n",
              "M6DeliveryCostPerKm          0.051426\n",
              "M4NumberOfComments           0.023305\n",
              "M4LogNumberOfComments        0.021022\n",
              "M3MinChargeForOrdering       0.010506\n",
              "M3LogMinChargeForOrdering    0.010365\n",
              "M1DeliveryCost               0.009364\n",
              "TimeOfDay                    0.000000\n",
              "TrafficMorning               0.000000\n",
              "TrafficNoon                  0.000000\n",
              "TrafficAfternoon             0.000000\n",
              "dtype: float64"
            ]
          },
          "metadata": {},
          "execution_count": 953
        }
      ]
    },
    {
      "cell_type": "code",
      "source": [
        "mutual_info.sort_values(ascending=False).plot.bar(figsize=(20, 8))"
      ],
      "metadata": {
        "colab": {
          "base_uri": "https://localhost:8080/",
          "height": 638
        },
        "id": "MFXXhWD_dnVC",
        "outputId": "427242be-b6c1-46be-e06e-106faf645d06"
      },
      "execution_count": null,
      "outputs": [
        {
          "output_type": "execute_result",
          "data": {
            "text/plain": [
              "<matplotlib.axes._subplots.AxesSubplot at 0x7fe6feccfc40>"
            ]
          },
          "metadata": {},
          "execution_count": 954
        },
        {
          "output_type": "display_data",
          "data": {
            "text/plain": [
              "<Figure size 1440x576 with 1 Axes>"
            ],
            "image/png": "[encoded data removed]"
          },
          "metadata": {
            "needs_background": "light"
          }
        }
      ]
    },
    {
      "cell_type": "markdown",
      "source": [
        "Feature Selection for M5Class"
      ],
      "metadata": {
        "id": "tDjF1n2wm8JE"
      }
    },
    {
      "cell_type": "code",
      "source": [
        "from sklearn.feature_selection import SelectKBest\n",
        "\n",
        "sel_five_cols = SelectKBest(mutual_info_classif, k=5)\n",
        "sel_five_cols.fit(X_train, y_train)\n",
        "X_train.columns[sel_five_cols.get_support()]"
      ],
      "metadata": {
        "colab": {
          "base_uri": "https://localhost:8080/"
        },
        "id": "B3WY5XKeeBLG",
        "outputId": "dfc9c443-af84-49f3-acc0-4ea0f7da052f"
      },
      "execution_count": null,
      "outputs": [
        {
          "output_type": "execute_result",
          "data": {
            "text/plain": [
              "Index(['DistanceKm', 'TimeMinutes', 'M2ExpectedDeliveryTime',\n",
              "       'M4LogNumberOfComments ', 'M6DeliveryCostPerKm'],\n",
              "      dtype='object')"
            ]
          },
          "metadata": {},
          "execution_count": 955
        }
      ]
    },
    {
      "cell_type": "markdown",
      "source": [
        "##Mutual Information Gain for M6Class"
      ],
      "metadata": {
        "id": "i6Pt_PvGnDCW"
      }
    },
    {
      "cell_type": "code",
      "source": [
        "y6 = new_df['M6Class']\n",
        "X6 = new_df.drop(['M6Class'], axis = 1)\n",
        "X6.drop(['M5Class'], axis = 1, inplace=True)\n",
        "X6.drop(['M5DeliveryTimeFulfillment'], axis = 1, inplace = True)"
      ],
      "metadata": {
        "id": "J898RfQFnKG6"
      },
      "execution_count": null,
      "outputs": []
    },
    {
      "cell_type": "code",
      "source": [
        "X6_train, X6_test, y6_train, y6_test = train_test_split(X6, y6, random_state = 100, train_size = 0.3)"
      ],
      "metadata": {
        "id": "ZzrHmYyUpiq4"
      },
      "execution_count": null,
      "outputs": []
    },
    {
      "cell_type": "code",
      "source": [
        "mutual_info_6 = mutual_info_classif(X6_train, y6_train)\n",
        "\n",
        "mutual_info_6 = pd.Series(mutual_info_6)\n",
        "mutual_info_6.index = X6_train.columns\n",
        "mutual_info_6.sort_values(ascending=False)"
      ],
      "metadata": {
        "colab": {
          "base_uri": "https://localhost:8080/"
        },
        "id": "BWwZkkwdpiki",
        "outputId": "efcde41a-2505-4078-bced-cc5a539d8a84"
      },
      "execution_count": null,
      "outputs": [
        {
          "output_type": "execute_result",
          "data": {
            "text/plain": [
              "M6DeliveryCostPerKm          0.141553\n",
              "DistanceKm                   0.087852\n",
              "TimeMinutes                  0.080575\n",
              "M1DeliveryCost               0.018331\n",
              "M2ExpectedDeliveryTime       0.006687\n",
              "TrafficNoon                  0.006306\n",
              "M4NumberOfComments           0.005079\n",
              "M3LogMinChargeForOrdering    0.004743\n",
              "M3MinChargeForOrdering       0.004158\n",
              "M4LogNumberOfComments        0.003375\n",
              "TrafficMorning               0.002662\n",
              "TimeOfDay                    0.000000\n",
              "TrafficAfternoon             0.000000\n",
              "dtype: float64"
            ]
          },
          "metadata": {},
          "execution_count": 958
        }
      ]
    },
    {
      "cell_type": "code",
      "source": [
        "mutual_info_6.sort_values(ascending=False).plot.bar(figsize=(20, 8))"
      ],
      "metadata": {
        "colab": {
          "base_uri": "https://localhost:8080/",
          "height": 636
        },
        "id": "s1UvEjxyqLfN",
        "outputId": "67afebdc-5934-4453-f202-a4f7d236b80e"
      },
      "execution_count": null,
      "outputs": [
        {
          "output_type": "execute_result",
          "data": {
            "text/plain": [
              "<matplotlib.axes._subplots.AxesSubplot at 0x7fe6fea4dbe0>"
            ]
          },
          "metadata": {},
          "execution_count": 959
        },
        {
          "output_type": "display_data",
          "data": {
            "text/plain": [
              "<Figure size 1440x576 with 1 Axes>"
            ],
            "image/png": "[encoded data removed]"
          },
          "metadata": {
            "needs_background": "light"
          }
        }
      ]
    },
    {
      "cell_type": "markdown",
      "source": [
        "Feature Selection for M6Class"
      ],
      "metadata": {
        "id": "ztFI0jmmsN05"
      }
    },
    {
      "cell_type": "code",
      "source": [
        "sel_five_cols = SelectKBest(mutual_info_classif, k=5)\n",
        "sel_five_cols.fit(X6_train, y6_train)\n",
        "X6_train.columns[sel_five_cols.get_support()]"
      ],
      "metadata": {
        "colab": {
          "base_uri": "https://localhost:8080/"
        },
        "id": "_S1UHdAysDWs",
        "outputId": "ffca725f-8cdb-4484-966e-d47d2015bc28"
      },
      "execution_count": null,
      "outputs": [
        {
          "output_type": "execute_result",
          "data": {
            "text/plain": [
              "Index(['DistanceKm', 'TimeMinutes', 'M1DeliveryCost', 'M2ExpectedDeliveryTime',\n",
              "       'M6DeliveryCostPerKm'],\n",
              "      dtype='object')"
            ]
          },
          "metadata": {},
          "execution_count": 960
        }
      ]
    },
    {
      "cell_type": "markdown",
      "source": [
        "#Pearson Correlation Feature Selection\n",
        "---\n"
      ],
      "metadata": {
        "id": "IPTM6BoJtEq_"
      }
    },
    {
      "cell_type": "markdown",
      "source": [
        "For M5 Class\n"
      ],
      "metadata": {
        "id": "959gkQkr_5OQ"
      }
    },
    {
      "cell_type": "code",
      "source": [
        "X1 = new_df.drop(labels=['M5Class'],axis=1) \n",
        "y1=new_df['M5Class']\n",
        "X1.drop(['M6Class', 'M5DeliveryTimeFulfillment'], axis = 1, inplace=True)"
      ],
      "metadata": {
        "id": "xpUSH57SxWcE"
      },
      "execution_count": null,
      "outputs": []
    },
    {
      "cell_type": "code",
      "source": [
        "from sklearn.model_selection import train_test_split\n",
        "\n",
        "X1_train, X1_test, y1_train, y1_test = train_test_split(\n",
        "    X1, y1, random_state = 0, test_size = 0.3\n",
        ")\n",
        "\n",
        "print(X1_train.shape)\n",
        "print(X1_test.shape)\n",
        "\n"
      ],
      "metadata": {
        "colab": {
          "base_uri": "https://localhost:8080/"
        },
        "id": "WLz9vxLJyMa_",
        "outputId": "a13a487a-69fe-4362-e198-18191cf98120"
      },
      "execution_count": null,
      "outputs": [
        {
          "output_type": "stream",
          "name": "stdout",
          "text": [
            "(6578, 13)\n",
            "(2820, 13)\n"
          ]
        }
      ]
    },
    {
      "cell_type": "code",
      "source": [
        "#Using Pearson Correlation\n",
        "\n",
        "import seaborn as sns\n",
        "\n",
        "plt.figure(figsize=(12,10))\n",
        "cor= X1_train.corr()\n",
        "sns.heatmap(cor, annot=True, cmap=plt.cm.CMRmap_r)\n",
        "plt.show()"
      ],
      "metadata": {
        "colab": {
          "base_uri": "https://localhost:8080/"
        },
        "id": "vXzIefDHznsI",
        "outputId": "7ad7d302-3ef2-439e-9fa5-be7db14ba836"
      },
      "execution_count": null,
      "outputs": [
        {
          "output_type": "display_data",
          "data": {
            "text/plain": [
              "<Figure size 864x720 with 2 Axes>"
            ],
            "image/png": "[encoded data removed]"
          },
          "metadata": {
            "needs_background": "light"
          }
        }
      ]
    },
    {
      "cell_type": "code",
      "source": [
        "def correlation(dataset, threshold):\n",
        "  col_corr = set()\n",
        "  corr_matrix= dataset.corr()\n",
        "  for i in range(len(corr_matrix.columns)):\n",
        "    for j in range(i):\n",
        "      if abs(corr_matrix.iloc[i,j])> threshold:\n",
        "        colname = corr_matrix.columns[i]\n",
        "        col_corr.add(colname)\n",
        "  return col_corr"
      ],
      "metadata": {
        "id": "Wk3MLoytzeOQ"
      },
      "execution_count": null,
      "outputs": []
    },
    {
      "cell_type": "code",
      "source": [
        "corr_features = correlation(X1_train, 0.7)\n",
        "len(set(corr_features))"
      ],
      "metadata": {
        "colab": {
          "base_uri": "https://localhost:8080/"
        },
        "id": "kUQ1xaYe3XK2",
        "outputId": "2ec4aa78-4a59-4114-ff1f-72747c4add70"
      },
      "execution_count": null,
      "outputs": [
        {
          "output_type": "execute_result",
          "data": {
            "text/plain": [
              "1"
            ]
          },
          "metadata": {},
          "execution_count": 965
        }
      ]
    },
    {
      "cell_type": "code",
      "source": [
        "corr_features\n"
      ],
      "metadata": {
        "colab": {
          "base_uri": "https://localhost:8080/"
        },
        "id": "NFWDsVj13fQV",
        "outputId": "b6331e48-c3b6-4a7f-85d3-ca6b6c721239"
      },
      "execution_count": null,
      "outputs": [
        {
          "output_type": "execute_result",
          "data": {
            "text/plain": [
              "{'M3LogMinChargeForOrdering'}"
            ]
          },
          "metadata": {},
          "execution_count": 966
        }
      ]
    },
    {
      "cell_type": "code",
      "source": [
        "X1_train = X1_train.drop(corr_features, axis=1)\n",
        "X1_test = X1_test.drop(corr_features, axis=1)\n",
        "len(X1_train.columns)"
      ],
      "metadata": {
        "colab": {
          "base_uri": "https://localhost:8080/"
        },
        "id": "A8Z1A4dw462s",
        "outputId": "8fe0bd4b-510f-468d-ebcd-aa931cf9f416"
      },
      "execution_count": null,
      "outputs": [
        {
          "output_type": "execute_result",
          "data": {
            "text/plain": [
              "12"
            ]
          },
          "metadata": {},
          "execution_count": 967
        }
      ]
    },
    {
      "cell_type": "code",
      "source": [
        "X1_train"
      ],
      "metadata": {
        "colab": {
          "base_uri": "https://localhost:8080/"
        },
        "id": "x5w_lOQZ54xI",
        "outputId": "72c18d87-8595-4302-84e8-6062de33e09a"
      },
      "execution_count": null,
      "outputs": [
        {
          "output_type": "execute_result",
          "data": {
            "text/plain": [
              "      TimeOfDay  TrafficMorning  TrafficNoon  TrafficAfternoon  DistanceKm  \\\n",
              "9127          1               2            2                 2         4.8   \n",
              "1963          3               1            2                 1        19.5   \n",
              "4919          1               1            2                 2        12.9   \n",
              "3260          2               1            2                 2        18.2   \n",
              "4975          2               1            2                 2        15.7   \n",
              "...         ...             ...          ...               ...         ...   \n",
              "8358          2               1            1                 1        10.5   \n",
              "9782          3               1            1                 1        13.0   \n",
              "5153          1               1            2                 2        13.3   \n",
              "3458          2               1            2                 1         4.6   \n",
              "2886          1               1            1                 2        10.1   \n",
              "\n",
              "      TimeMinutes  M1DeliveryCost  M2ExpectedDeliveryTime  \\\n",
              "9127           15     3500.000000               75.000000   \n",
              "1963           48     3500.000000               30.000000   \n",
              "4919           36     2578.743223               44.759506   \n",
              "3260           47     2000.000000               25.000000   \n",
              "4975           44     2578.743223               55.000000   \n",
              "...           ...             ...                     ...   \n",
              "8358           29     2578.743223               44.759506   \n",
              "9782           33     2000.000000               55.000000   \n",
              "5153           31     2000.000000               45.000000   \n",
              "3458           17     3500.000000               40.000000   \n",
              "2886           29     2900.000000               55.000000   \n",
              "\n",
              "      M3MinChargeForOrdering  M4NumberOfComments   M4LogNumberOfComments   \\\n",
              "9127            20000.000000           314.000000                5.749393   \n",
              "1963            13128.918218           146.000000                4.983607   \n",
              "4919            13128.918218           189.859628                3.695154   \n",
              "3260            10000.000000            13.000000                2.564949   \n",
              "4975            20000.000000             8.000000                2.079442   \n",
              "...                      ...                  ...                     ...   \n",
              "8358            13128.918218           189.859628                3.695154   \n",
              "9782            11900.000000            14.000000                2.639057   \n",
              "5153            15000.000000             6.000000                1.791759   \n",
              "3458            10000.000000            18.000000                2.890372   \n",
              "2886            22000.000000           482.000000                6.177944   \n",
              "\n",
              "      M6DeliveryCostPerKm  \n",
              "9127                  729  \n",
              "1963                  179  \n",
              "4919                    0  \n",
              "3260                  110  \n",
              "4975                    0  \n",
              "...                   ...  \n",
              "8358                    0  \n",
              "9782                  154  \n",
              "5153                  150  \n",
              "3458                  761  \n",
              "2886                  287  \n",
              "\n",
              "[6578 rows x 12 columns]"
            ],
            "text/html": [
              "\n",
              "  <div id=\"df-1a31dacf-b793-4968-baec-82c510a918cf\">\n",
              "    <div class=\"colab-df-container\">\n",
              "      <div>\n",
              "<style scoped>\n",
              "    .dataframe tbody tr th:only-of-type {\n",
              "        vertical-align: middle;\n",
              "    }\n",
              "\n",
              "    .dataframe tbody tr th {\n",
              "        vertical-align: top;\n",
              "    }\n",
              "\n",
              "    .dataframe thead th {\n",
              "        text-align: right;\n",
              "    }\n",
              "</style>\n",
              "<table border=\"1\" class=\"dataframe\">\n",
              "  <thead>\n",
              "    <tr style=\"text-align: right;\">\n",
              "      <th></th>\n",
              "      <th>TimeOfDay</th>\n",
              "      <th>TrafficMorning</th>\n",
              "      <th>TrafficNoon</th>\n",
              "      <th>TrafficAfternoon</th>\n",
              "      <th>DistanceKm</th>\n",
              "      <th>TimeMinutes</th>\n",
              "      <th>M1DeliveryCost</th>\n",
              "      <th>M2ExpectedDeliveryTime</th>\n",
              "      <th>M3MinChargeForOrdering</th>\n",
              "      <th>M4NumberOfComments</th>\n",
              "      <th>M4LogNumberOfComments</th>\n",
              "      <th>M6DeliveryCostPerKm</th>\n",
              "    </tr>\n",
              "  </thead>\n",
              "  <tbody>\n",
              "    <tr>\n",
              "      <th>9127</th>\n",
              "      <td>1</td>\n",
              "      <td>2</td>\n",
              "      <td>2</td>\n",
              "      <td>2</td>\n",
              "      <td>4.8</td>\n",
              "      <td>15</td>\n",
              "      <td>3500.000000</td>\n",
              "      <td>75.000000</td>\n",
              "      <td>20000.000000</td>\n",
              "      <td>314.000000</td>\n",
              "      <td>5.749393</td>\n",
              "      <td>729</td>\n",
              "    </tr>\n",
              "    <tr>\n",
              "      <th>1963</th>\n",
              "      <td>3</td>\n",
              "      <td>1</td>\n",
              "      <td>2</td>\n",
              "      <td>1</td>\n",
              "      <td>19.5</td>\n",
              "      <td>48</td>\n",
              "      <td>3500.000000</td>\n",
              "      <td>30.000000</td>\n",
              "      <td>13128.918218</td>\n",
              "      <td>146.000000</td>\n",
              "      <td>4.983607</td>\n",
              "      <td>179</td>\n",
              "    </tr>\n",
              "    <tr>\n",
              "      <th>4919</th>\n",
              "      <td>1</td>\n",
              "      <td>1</td>\n",
              "      <td>2</td>\n",
              "      <td>2</td>\n",
              "      <td>12.9</td>\n",
              "      <td>36</td>\n",
              "      <td>2578.743223</td>\n",
              "      <td>44.759506</td>\n",
              "      <td>13128.918218</td>\n",
              "      <td>189.859628</td>\n",
              "      <td>3.695154</td>\n",
              "      <td>0</td>\n",
              "    </tr>\n",
              "    <tr>\n",
              "      <th>3260</th>\n",
              "      <td>2</td>\n",
              "      <td>1</td>\n",
              "      <td>2</td>\n",
              "      <td>2</td>\n",
              "      <td>18.2</td>\n",
              "      <td>47</td>\n",
              "      <td>2000.000000</td>\n",
              "      <td>25.000000</td>\n",
              "      <td>10000.000000</td>\n",
              "      <td>13.000000</td>\n",
              "      <td>2.564949</td>\n",
              "      <td>110</td>\n",
              "    </tr>\n",
              "    <tr>\n",
              "      <th>4975</th>\n",
              "      <td>2</td>\n",
              "      <td>1</td>\n",
              "      <td>2</td>\n",
              "      <td>2</td>\n",
              "      <td>15.7</td>\n",
              "      <td>44</td>\n",
              "      <td>2578.743223</td>\n",
              "      <td>55.000000</td>\n",
              "      <td>20000.000000</td>\n",
              "      <td>8.000000</td>\n",
              "      <td>2.079442</td>\n",
              "      <td>0</td>\n",
              "    </tr>\n",
              "    <tr>\n",
              "      <th>...</th>\n",
              "      <td>...</td>\n",
              "      <td>...</td>\n",
              "      <td>...</td>\n",
              "      <td>...</td>\n",
              "      <td>...</td>\n",
              "      <td>...</td>\n",
              "      <td>...</td>\n",
              "      <td>...</td>\n",
              "      <td>...</td>\n",
              "      <td>...</td>\n",
              "      <td>...</td>\n",
              "      <td>...</td>\n",
              "    </tr>\n",
              "    <tr>\n",
              "      <th>8358</th>\n",
              "      <td>2</td>\n",
              "      <td>1</td>\n",
              "      <td>1</td>\n",
              "      <td>1</td>\n",
              "      <td>10.5</td>\n",
              "      <td>29</td>\n",
              "      <td>2578.743223</td>\n",
              "      <td>44.759506</td>\n",
              "      <td>13128.918218</td>\n",
              "      <td>189.859628</td>\n",
              "      <td>3.695154</td>\n",
              "      <td>0</td>\n",
              "    </tr>\n",
              "    <tr>\n",
              "      <th>9782</th>\n",
              "      <td>3</td>\n",
              "      <td>1</td>\n",
              "      <td>1</td>\n",
              "      <td>1</td>\n",
              "      <td>13.0</td>\n",
              "      <td>33</td>\n",
              "      <td>2000.000000</td>\n",
              "      <td>55.000000</td>\n",
              "      <td>11900.000000</td>\n",
              "      <td>14.000000</td>\n",
              "      <td>2.639057</td>\n",
              "      <td>154</td>\n",
              "    </tr>\n",
              "    <tr>\n",
              "      <th>5153</th>\n",
              "      <td>1</td>\n",
              "      <td>1</td>\n",
              "      <td>2</td>\n",
              "      <td>2</td>\n",
              "      <td>13.3</td>\n",
              "      <td>31</td>\n",
              "      <td>2000.000000</td>\n",
              "      <td>45.000000</td>\n",
              "      <td>15000.000000</td>\n",
              "      <td>6.000000</td>\n",
              "      <td>1.791759</td>\n",
              "      <td>150</td>\n",
              "    </tr>\n",
              "    <tr>\n",
              "      <th>3458</th>\n",
              "      <td>2</td>\n",
              "      <td>1</td>\n",
              "      <td>2</td>\n",
              "      <td>1</td>\n",
              "      <td>4.6</td>\n",
              "      <td>17</td>\n",
              "      <td>3500.000000</td>\n",
              "      <td>40.000000</td>\n",
              "      <td>10000.000000</td>\n",
              "      <td>18.000000</td>\n",
              "      <td>2.890372</td>\n",
              "      <td>761</td>\n",
              "    </tr>\n",
              "    <tr>\n",
              "      <th>2886</th>\n",
              "      <td>1</td>\n",
              "      <td>1</td>\n",
              "      <td>1</td>\n",
              "      <td>2</td>\n",
              "      <td>10.1</td>\n",
              "      <td>29</td>\n",
              "      <td>2900.000000</td>\n",
              "      <td>55.000000</td>\n",
              "      <td>22000.000000</td>\n",
              "      <td>482.000000</td>\n",
              "      <td>6.177944</td>\n",
              "      <td>287</td>\n",
              "    </tr>\n",
              "  </tbody>\n",
              "</table>\n",
              "<p>6578 rows × 12 columns</p>\n",
              "</div>\n",
              "      <button class=\"colab-df-convert\" onclick=\"convertToInteractive('df-1a31dacf-b793-4968-baec-82c510a918cf')\"\n",
              "              title=\"Convert this dataframe to an interactive table.\"\n",
              "              style=\"display:none;\">\n",
              "        \n",
              "  <svg xmlns=\"http://www.w3.org/2000/svg\" height=\"24px\"viewBox=\"0 0 24 24\"\n",
              "       width=\"24px\">\n",
              "    <path d=\"M0 0h24v24H0V0z\" fill=\"none\"/>\n",
              "    <path d=\"M18.56 5.44l.94 2.06.94-2.06 2.06-.94-2.06-.94-.94-2.06-.94 2.06-2.06.94zm-11 1L8.5 8.5l.94-2.06 2.06-.94-2.06-.94L8.5 2.5l-.94 2.06-2.06.94zm10 10l.94 2.06.94-2.06 2.06-.94-2.06-.94-.94-2.06-.94 2.06-2.06.94z\"/><path d=\"M17.41 7.96l-1.37-1.37c-.4-.4-.92-.59-1.43-.59-.52 0-1.04.2-1.43.59L10.3 9.45l-7.72 7.72c-.78.78-.78 2.05 0 2.83L4 21.41c.39.39.9.59 1.41.59.51 0 1.02-.2 1.41-.59l7.78-7.78 2.81-2.81c.8-.78.8-2.07 0-2.86zM5.41 20L4 18.59l7.72-7.72 1.47 1.35L5.41 20z\"/>\n",
              "  </svg>\n",
              "      </button>\n",
              "      \n",
              "  <style>\n",
              "    .colab-df-container {\n",
              "      display:flex;\n",
              "      flex-wrap:wrap;\n",
              "      gap: 12px;\n",
              "    }\n",
              "\n",
              "    .colab-df-convert {\n",
              "      background-color: #E8F0FE;\n",
              "      border: none;\n",
              "      border-radius: 50%;\n",
              "      cursor: pointer;\n",
              "      display: none;\n",
              "      fill: #1967D2;\n",
              "      height: 32px;\n",
              "      padding: 0 0 0 0;\n",
              "      width: 32px;\n",
              "    }\n",
              "\n",
              "    .colab-df-convert:hover {\n",
              "      background-color: #E2EBFA;\n",
              "      box-shadow: 0px 1px 2px rgba(60, 64, 67, 0.3), 0px 1px 3px 1px rgba(60, 64, 67, 0.15);\n",
              "      fill: #174EA6;\n",
              "    }\n",
              "\n",
              "    [theme=dark] .colab-df-convert {\n",
              "      background-color: #3B4455;\n",
              "      fill: #D2E3FC;\n",
              "    }\n",
              "\n",
              "    [theme=dark] .colab-df-convert:hover {\n",
              "      background-color: #434B5C;\n",
              "      box-shadow: 0px 1px 3px 1px rgba(0, 0, 0, 0.15);\n",
              "      filter: drop-shadow(0px 1px 2px rgba(0, 0, 0, 0.3));\n",
              "      fill: #FFFFFF;\n",
              "    }\n",
              "  </style>\n",
              "\n",
              "      <script>\n",
              "        const buttonEl =\n",
              "          document.querySelector('#df-1a31dacf-b793-4968-baec-82c510a918cf button.colab-df-convert');\n",
              "        buttonEl.style.display =\n",
              "          google.colab.kernel.accessAllowed ? 'block' : 'none';\n",
              "\n",
              "        async function convertToInteractive(key) {\n",
              "          const element = document.querySelector('#df-1a31dacf-b793-4968-baec-82c510a918cf');\n",
              "          const dataTable =\n",
              "            await google.colab.kernel.invokeFunction('convertToInteractive',\n",
              "                                                     [key], {});\n",
              "          if (!dataTable) return;\n",
              "\n",
              "          const docLinkHtml = 'Like what you see? Visit the ' +\n",
              "            '<a target=\"_blank\" href=https://colab.research.google.com/notebooks/data_table.ipynb>data table notebook</a>'\n",
              "            + ' to learn more about interactive tables.';\n",
              "          element.innerHTML = '';\n",
              "          dataTable['output_type'] = 'display_data';\n",
              "          await google.colab.output.renderOutput(dataTable, element);\n",
              "          const docLink = document.createElement('div');\n",
              "          docLink.innerHTML = docLinkHtml;\n",
              "          element.appendChild(docLink);\n",
              "        }\n",
              "      </script>\n",
              "    </div>\n",
              "  </div>\n",
              "  "
            ]
          },
          "metadata": {},
          "execution_count": 968
        }
      ]
    },
    {
      "cell_type": "markdown",
      "source": [
        "For M6 Class"
      ],
      "metadata": {
        "id": "Sjex7r0U5QHR"
      }
    },
    {
      "cell_type": "code",
      "source": [
        "X2 = new_df.drop(labels=['M6Class'],axis=1)\n",
        "y2=new_df['M6Class']\n",
        "X2.drop(['M5Class', 'M5DeliveryTimeFulfillment'], axis = 1, inplace=True)"
      ],
      "metadata": {
        "id": "8EWb11z252kD"
      },
      "execution_count": null,
      "outputs": []
    },
    {
      "cell_type": "code",
      "source": [
        "from sklearn.model_selection import train_test_split\n",
        "\n",
        "X2_train, X2_test, y2_train, y2_test = train_test_split(\n",
        "    X2, y2, random_state = 0, test_size = 0.3\n",
        ")\n",
        "\n",
        "print(X2_train.shape)\n",
        "print(X2_test.shape)"
      ],
      "metadata": {
        "id": "j-cnjzP05vb5",
        "colab": {
          "base_uri": "https://localhost:8080/"
        },
        "outputId": "79457339-8942-4af0-c375-aa67eb420ed5"
      },
      "execution_count": null,
      "outputs": [
        {
          "output_type": "stream",
          "name": "stdout",
          "text": [
            "(6578, 13)\n",
            "(2820, 13)\n"
          ]
        }
      ]
    },
    {
      "cell_type": "code",
      "source": [
        "import seaborn as sns\n",
        "\n",
        "plt.figure(figsize=(12,10))\n",
        "corr= X2_train.corr()\n",
        "sns.heatmap(corr, annot=True, cmap=plt.cm.CMRmap_r)\n",
        "plt.show()"
      ],
      "metadata": {
        "id": "H2R8_6Ba1k99",
        "colab": {
          "base_uri": "https://localhost:8080/"
        },
        "outputId": "4e101699-cc6b-4228-905b-e508b114b1c1"
      },
      "execution_count": null,
      "outputs": [
        {
          "output_type": "display_data",
          "data": {
            "text/plain": [
              "<Figure size 864x720 with 2 Axes>"
            ],
            "image/png": "[encoded data removed]"
          },
          "metadata": {
            "needs_background": "light"
          }
        }
      ]
    },
    {
      "cell_type": "code",
      "source": [
        "def correlation(dataset, threshold):\n",
        "  col_corr = set()\n",
        "  corr_matrix= dataset.corr()\n",
        "  for i in range(len(corr_matrix.columns)):\n",
        "    for j in range(i):\n",
        "      if abs(corr_matrix.iloc[i,j])> threshold:\n",
        "        colname = corr_matrix.columns[i]\n",
        "        col_corr.add(colname)\n",
        "  return col_corr"
      ],
      "metadata": {
        "id": "NSG3ofAn7jwx"
      },
      "execution_count": null,
      "outputs": []
    },
    {
      "cell_type": "code",
      "source": [
        "corr_features2 = correlation(X2_train, 0.7)\n",
        "len(set(corr_features2))"
      ],
      "metadata": {
        "colab": {
          "base_uri": "https://localhost:8080/"
        },
        "id": "_27Erc7I5ehz",
        "outputId": "0958e28e-e2e9-427a-ef8d-af4fb26ead14"
      },
      "execution_count": null,
      "outputs": [
        {
          "output_type": "execute_result",
          "data": {
            "text/plain": [
              "1"
            ]
          },
          "metadata": {},
          "execution_count": 973
        }
      ]
    },
    {
      "cell_type": "code",
      "source": [
        "corr_features2"
      ],
      "metadata": {
        "colab": {
          "base_uri": "https://localhost:8080/"
        },
        "id": "68tGEYaR5wE3",
        "outputId": "45ac4814-99b9-4217-dbac-7d49de713ec3"
      },
      "execution_count": null,
      "outputs": [
        {
          "output_type": "execute_result",
          "data": {
            "text/plain": [
              "{'M3LogMinChargeForOrdering'}"
            ]
          },
          "metadata": {},
          "execution_count": 974
        }
      ]
    },
    {
      "cell_type": "markdown",
      "source": [
        "Highly correlated columns are eliminated"
      ],
      "metadata": {
        "id": "otCT9Ll7AW4W"
      }
    },
    {
      "cell_type": "code",
      "source": [
        "X2_train = X2_train.drop(corr_features2, axis=1)\n",
        "X2_test = X2_test.drop(corr_features2, axis=1)\n",
        "len(X2_train.columns)"
      ],
      "metadata": {
        "colab": {
          "base_uri": "https://localhost:8080/"
        },
        "id": "YWdADVxV5w8T",
        "outputId": "d87db75d-e08a-423b-b015-1b4b62b23689"
      },
      "execution_count": null,
      "outputs": [
        {
          "output_type": "execute_result",
          "data": {
            "text/plain": [
              "12"
            ]
          },
          "metadata": {},
          "execution_count": 975
        }
      ]
    },
    {
      "cell_type": "markdown",
      "source": [
        "#Applying Prediction Models\n",
        "---"
      ],
      "metadata": {
        "id": "dYjA4vSILFlV"
      }
    },
    {
      "cell_type": "markdown",
      "source": [
        "##Model Training based on Correlation\n",
        "---\n"
      ],
      "metadata": {
        "id": "_0LRimAP_L1P"
      }
    },
    {
      "cell_type": "markdown",
      "source": [
        "Creating M5 and M6 lists to hold all models. These lists will help to determine the best models for the predictions"
      ],
      "metadata": {
        "id": "HWMYrW9HU2zA"
      }
    },
    {
      "cell_type": "code",
      "source": [
        "M5 = []\n",
        "M6 = []"
      ],
      "metadata": {
        "id": "MQ_lebcRU_dV"
      },
      "execution_count": null,
      "outputs": []
    },
    {
      "cell_type": "markdown",
      "source": [
        "###Predicting M5Class"
      ],
      "metadata": {
        "id": "0FQN1jphLrZ6"
      }
    },
    {
      "cell_type": "code",
      "source": [
        "from sklearn import metrics\n",
        "from sklearn.metrics import classification_report\n",
        "from sklearn.metrics import confusion_matrix\n",
        "from sklearn.model_selection import learning_curve   \n",
        "from sklearn.metrics import precision_score, recall_score, f1_score, accuracy_score\n",
        "\n",
        "\n",
        "from sklearn.neighbors import KNeighborsClassifier\n",
        "knn = KNeighborsClassifier()\n",
        "knn.fit(X1_train, y1_train)\n",
        "y_pred = knn.predict(X1_test)\n",
        "print('Accuracy:', metrics.accuracy_score(y1_test,y_pred))\n",
        "\t\n",
        "print('F1 Score: %.3f' % f1_score(y1_test, y_pred))\n",
        "M5.append(Model(\"KNN\", metrics.accuracy_score(y1_test,y_pred), f1_score(y1_test, y_pred), \"Correlation\"))"
      ],
      "metadata": {
        "colab": {
          "base_uri": "https://localhost:8080/"
        },
        "id": "wWvP40pB0aCK",
        "outputId": "9f1b1e0a-db23-4c58-c65e-634bd82388b9"
      },
      "execution_count": null,
      "outputs": [
        {
          "output_type": "stream",
          "name": "stdout",
          "text": [
            "Accuracy: 0.9400709219858157\n",
            "F1 Score: 0.967\n"
          ]
        }
      ]
    },
    {
      "cell_type": "code",
      "source": [
        "from sklearn.naive_bayes import GaussianNB\n",
        "gnb = GaussianNB()\n",
        "gnb.fit(X1_train, y1_train)\n",
        "y_pred = gnb.predict(X1_test)\n",
        "print('Accuracy:', metrics.accuracy_score(y1_test,y_pred))\n",
        "\t\n",
        "print('F1 Score: %.3f' % f1_score(y1_test, y_pred))\n",
        "M5.append(Model(\"Gaussian\", metrics.accuracy_score(y1_test,y_pred), f1_score(y1_test, y_pred), \"Correlation\"))"
      ],
      "metadata": {
        "colab": {
          "base_uri": "https://localhost:8080/"
        },
        "id": "YC2ugGeb3cj4",
        "outputId": "fbd252db-5ed3-4b8e-a2be-fede2380d668"
      },
      "execution_count": null,
      "outputs": [
        {
          "output_type": "stream",
          "name": "stdout",
          "text": [
            "Accuracy: 0.824468085106383\n",
            "F1 Score: 0.894\n"
          ]
        }
      ]
    },
    {
      "cell_type": "code",
      "source": [
        "from sklearn.linear_model import LogisticRegression\n",
        "reg = LogisticRegression()\n",
        "reg.fit(X1_train, y1_train)\n",
        "y_pred = reg.predict(X1_test)\n",
        "\n",
        "print('Accuracy:', metrics.accuracy_score(y1_test,y_pred))\n",
        "print('F1 Score: %.3f' % f1_score(y1_test, y_pred))\n",
        "M5.append(Model(\"Logistic Regression\", metrics.accuracy_score(y1_test,y_pred), f1_score(y1_test, y_pred), \"Correlation\"))"
      ],
      "metadata": {
        "colab": {
          "base_uri": "https://localhost:8080/"
        },
        "id": "-uXpkCzgEk_a",
        "outputId": "2b9ff10b-2910-40fc-875b-5b891860aa9a"
      },
      "execution_count": null,
      "outputs": [
        {
          "output_type": "stream",
          "name": "stdout",
          "text": [
            "Accuracy: 0.926950354609929\n",
            "F1 Score: 0.961\n"
          ]
        },
        {
          "output_type": "stream",
          "name": "stderr",
          "text": [
            "/usr/local/lib/python3.8/dist-packages/sklearn/linear_model/_logistic.py:458: ConvergenceWarning: lbfgs failed to converge (status=1):\n",
            "STOP: TOTAL NO. of ITERATIONS REACHED LIMIT.\n",
            "\n",
            "Increase the number of iterations (max_iter) or scale the data as shown in:\n",
            "    https://scikit-learn.org/stable/modules/preprocessing.html\n",
            "Please also refer to the documentation for alternative solver options:\n",
            "    https://scikit-learn.org/stable/modules/linear_model.html#logistic-regression\n",
            "  n_iter_i = _check_optimize_result(\n"
          ]
        }
      ]
    },
    {
      "cell_type": "code",
      "source": [
        "from sklearn.tree import DecisionTreeClassifier\n",
        "dtc = DecisionTreeClassifier()\n",
        "dtc.fit(X1_train, y1_train)\n",
        "y_pred = dtc.predict(X1_test)\n",
        "\n",
        "print('Accuracy:', metrics.accuracy_score(y1_test,y_pred))\n",
        "print('F1 Score: %f' % f1_score(y1_test, y_pred))\n",
        "M5.append(Model(\"Decision Tree\", metrics.accuracy_score(y1_test,y_pred), f1_score(y1_test, y_pred), \"Correlation\"))\n",
        "\n",
        "fig, ax = plt.subplots(figsize=(5, 5))\n",
        "ax.matshow(conf_matrix, cmap=plt.cm.Oranges, alpha=0.3)\n",
        "for i in range(conf_matrix.shape[0]):\n",
        "    for j in range(conf_matrix.shape[1]):\n",
        "        ax.text(x=j, y=i,s=conf_matrix[i, j], va='center', ha='center', size='xx-large')\n",
        " \n",
        "plt.xlabel('Predictions', fontsize=18)\n",
        "plt.ylabel('Actuals', fontsize=18)\n",
        "plt.title('Confusion Matrix', fontsize=18)\n",
        "plt.show()"
      ],
      "metadata": {
        "colab": {
          "base_uri": "https://localhost:8080/",
          "height": 393
        },
        "id": "xU3069W_Ev5o",
        "outputId": "77d005d8-bf09-426f-817e-bc7eec8161fa"
      },
      "execution_count": null,
      "outputs": [
        {
          "output_type": "stream",
          "name": "stdout",
          "text": [
            "Accuracy: 0.999645390070922\n",
            "F1 Score: 0.999805\n"
          ]
        },
        {
          "output_type": "display_data",
          "data": {
            "text/plain": [
              "<Figure size 360x360 with 1 Axes>"
            ],
            "image/png": "[encoded data removed]"
          },
          "metadata": {
            "needs_background": "light"
          }
        }
      ]
    },
    {
      "cell_type": "code",
      "source": [
        "from sklearn.ensemble import RandomForestClassifier\n",
        "rfc = RandomForestClassifier()\n",
        "rfc.fit(X1_train, y1_train)\n",
        "y_pred = rfc.predict(X1_test)\n",
        "\n",
        "print('Accuracy:', metrics.accuracy_score(y1_test,y_pred))\n",
        "print('F1 Score: %.3f' % f1_score(y1_test, y_pred))\n",
        "M5.append(Model(\"Random Forest\", metrics.accuracy_score(y1_test,y_pred), f1_score(y1_test, y_pred), \"Correlation\"))"
      ],
      "metadata": {
        "colab": {
          "base_uri": "https://localhost:8080/"
        },
        "id": "B5dKoDShE4C0",
        "outputId": "361ab3e2-58b0-401c-f1a5-1efa894f3c59"
      },
      "execution_count": null,
      "outputs": [
        {
          "output_type": "stream",
          "name": "stdout",
          "text": [
            "Accuracy: 0.9900709219858156\n",
            "F1 Score: 0.995\n"
          ]
        }
      ]
    },
    {
      "cell_type": "code",
      "source": [
        "from sklearn.svm import SVC\n",
        "svc = SVC()\n",
        "svc.fit(X1_train, y1_train)\n",
        "y_pred = svc.predict(X1_test)\n",
        "\n",
        "print('Accuracy:', metrics.accuracy_score(y1_test,y_pred))\n",
        "print('F1 Score: %.3f' % f1_score(y1_test, y_pred))\n",
        "M5.append(Model(\"SVC\", metrics.accuracy_score(y1_test,y_pred), f1_score(y1_test, y_pred), \"Correlation\"))"
      ],
      "metadata": {
        "colab": {
          "base_uri": "https://localhost:8080/"
        },
        "id": "8a71VGJNFIWz",
        "outputId": "b08a1e3c-f7b7-4108-be44-fc03d4fabcf0"
      },
      "execution_count": null,
      "outputs": [
        {
          "output_type": "stream",
          "name": "stdout",
          "text": [
            "Accuracy: 0.9078014184397163\n",
            "F1 Score: 0.952\n"
          ]
        }
      ]
    },
    {
      "cell_type": "code",
      "source": [
        "import xgboost as xgb\n",
        "from sklearn.metrics import accuracy_score\n",
        "\n",
        "X_train, X_test, y_train, y_test = train_test_split(X1, y1, test_size=0.2, random_state=42)\n",
        "\n",
        "# Convert the data to XGBoost's internal format\n",
        "dtrain = xgb.DMatrix(X_train, label=y_train)\n",
        "dtest = xgb.DMatrix(X_test, label=y_test)\n",
        "\n",
        "# Set the parameters for the model\n",
        "param = {\n",
        "    'max_depth': 3,  # Maximum depth of the tree\n",
        "    'eta': 0.1,  # Learning rate\n",
        "    'objective': 'binary:logistic',  # Binary classification\n",
        "    'eval_metric': 'error'  # Evaluation metric\n",
        "}\n",
        "\n",
        "# Train the model\n",
        "num_round = 10  # Number of rounds of training\n",
        "bst = xgb.train(param, dtrain, num_round)\n",
        "\n",
        "# Make predictions on the test set\n",
        "preds = bst.predict(dtest)\n",
        "\n",
        "# Evaluate the model\n",
        "accuracy = accuracy_score(y_test, preds.round())\n",
        "print(\"Accuracy for M5Class: {:.2f}\".format(accuracy))\n",
        "M5.append(Model(\"XGBOOST\", metrics.accuracy_score(y1_test,y_pred), f1_score(y1_test, y_pred), \"Correlation\"))\n"
      ],
      "metadata": {
        "colab": {
          "base_uri": "https://localhost:8080/"
        },
        "id": "BNCqERl3OtAH",
        "outputId": "9c0b6e5e-e335-4324-9857-5cf8168ab953"
      },
      "execution_count": null,
      "outputs": [
        {
          "output_type": "stream",
          "name": "stdout",
          "text": [
            "Accuracy for M5Class: 0.98\n"
          ]
        }
      ]
    },
    {
      "cell_type": "markdown",
      "source": [
        "###Predicting M6Class\n"
      ],
      "metadata": {
        "id": "ht88TIQRFp-V"
      }
    },
    {
      "cell_type": "code",
      "source": [
        "from sklearn import metrics\n",
        "from sklearn.metrics import classification_report\n",
        "from sklearn.metrics import confusion_matrix\n",
        "from sklearn.model_selection import learning_curve   \n",
        "\n",
        "\n",
        "from sklearn.neighbors import KNeighborsClassifier\n",
        "knn = KNeighborsClassifier()\n",
        "knn.fit(X2_train, y2_train)\n",
        "y_pred = knn.predict(X2_test)\n",
        "print('Accuracy:', metrics.accuracy_score(y2_test,y_pred))\n",
        "print('F1 Score: %.3f' % f1_score(y2_test, y_pred))\n",
        "M6.append(Model(\"KNN\", metrics.accuracy_score(y2_test,y_pred), f1_score(y2_test, y_pred), \"Correlation\"))"
      ],
      "metadata": {
        "colab": {
          "base_uri": "https://localhost:8080/"
        },
        "id": "TwwI1ezYFtQh",
        "outputId": "3b72a133-fba1-4a9c-8795-36efcc432766"
      },
      "execution_count": null,
      "outputs": [
        {
          "output_type": "stream",
          "name": "stdout",
          "text": [
            "Accuracy: 0.9960992907801418\n",
            "F1 Score: 0.998\n"
          ]
        }
      ]
    },
    {
      "cell_type": "code",
      "source": [
        "from sklearn.naive_bayes import GaussianNB\n",
        "gnb = GaussianNB()\n",
        "gnb.fit(X2_train, y2_train)\n",
        "y_pred = gnb.predict(X2_test)\n",
        "print('Accuracy:', metrics.accuracy_score(y2_test,y_pred))\n",
        "print('F1 Score: %.3f' % f1_score(y2_test, y_pred))\n",
        "M6.append(Model(\"Gaussian\", metrics.accuracy_score(y2_test,y_pred), f1_score(y2_test, y_pred), \"Correlation\"))"
      ],
      "metadata": {
        "colab": {
          "base_uri": "https://localhost:8080/"
        },
        "id": "jA-H9_ctGdz3",
        "outputId": "98e95e65-7cf1-43a1-b24e-c6c4c4a58c93"
      },
      "execution_count": null,
      "outputs": [
        {
          "output_type": "stream",
          "name": "stdout",
          "text": [
            "Accuracy: 0.975886524822695\n",
            "F1 Score: 0.987\n"
          ]
        }
      ]
    },
    {
      "cell_type": "code",
      "source": [
        "from sklearn.ensemble import RandomForestClassifier\n",
        "\n",
        "# Create the model with 100 trees\n",
        "model = RandomForestClassifier(n_estimators=100, random_state=0)\n",
        "\n",
        "# Train the model on the training data\n",
        "model.fit(X2_train, y2_train)\n",
        "\n",
        "# Make predictions on the test data\n",
        "predictions = model.predict(X2_test)\n",
        "\n",
        "# Evaluate the model's performance\n",
        "\n",
        "print('Accuracy:', metrics.accuracy_score(y2_test,y_pred))\n",
        "print('F1 Score: %.3f' % f1_score(y2_test, y_pred))\n",
        "M6.append(Model(\"Random Forest\", metrics.accuracy_score(y2_test,y_pred), f1_score(y2_test, y_pred), \"Correlation\"))"
      ],
      "metadata": {
        "colab": {
          "base_uri": "https://localhost:8080/"
        },
        "id": "pIxH9016Gdw1",
        "outputId": "6e520080-ad6a-4a0c-d154-0c2b0cff05bc"
      },
      "execution_count": null,
      "outputs": [
        {
          "output_type": "stream",
          "name": "stdout",
          "text": [
            "Accuracy: 0.975886524822695\n",
            "F1 Score: 0.987\n"
          ]
        }
      ]
    },
    {
      "cell_type": "code",
      "source": [
        "from sklearn.linear_model import LogisticRegression\n",
        "reg = LogisticRegression()\n",
        "reg.fit(X2_train, y2_train)\n",
        "y_pred = reg.predict(X2_test)\n",
        "\n",
        "print('Accuracy:', metrics.accuracy_score(y2_test,y_pred))\n",
        "print('F1 Score: %.3f' % f1_score(y2_test, y_pred))\n",
        "M6.append(Model(\"Logistic Regression\", metrics.accuracy_score(y2_test,y_pred), f1_score(y2_test, y_pred), \"Correlation\"))"
      ],
      "metadata": {
        "colab": {
          "base_uri": "https://localhost:8080/"
        },
        "id": "CSrxLVvQGduc",
        "outputId": "bb155f8b-d31e-47ff-d3ba-c9eee278f5fe"
      },
      "execution_count": null,
      "outputs": [
        {
          "output_type": "stream",
          "name": "stdout",
          "text": [
            "Accuracy: 0.9968085106382979\n",
            "F1 Score: 0.998\n"
          ]
        },
        {
          "output_type": "stream",
          "name": "stderr",
          "text": [
            "/usr/local/lib/python3.8/dist-packages/sklearn/linear_model/_logistic.py:458: ConvergenceWarning: lbfgs failed to converge (status=1):\n",
            "STOP: TOTAL NO. of ITERATIONS REACHED LIMIT.\n",
            "\n",
            "Increase the number of iterations (max_iter) or scale the data as shown in:\n",
            "    https://scikit-learn.org/stable/modules/preprocessing.html\n",
            "Please also refer to the documentation for alternative solver options:\n",
            "    https://scikit-learn.org/stable/modules/linear_model.html#logistic-regression\n",
            "  n_iter_i = _check_optimize_result(\n"
          ]
        }
      ]
    },
    {
      "cell_type": "code",
      "source": [
        "from sklearn.tree import DecisionTreeClassifier\n",
        "dtc = DecisionTreeClassifier()\n",
        "dtc.fit(X2_train, y2_train)\n",
        "y_pred = dtc.predict(X2_test)\n",
        "\n",
        "print('Accuracy:', metrics.accuracy_score(y2_test,y_pred))\n",
        "print('F1 Score: %.3f' % f1_score(y2_test, y_pred))\n",
        "M6.append(Model(\"Decision Tree\", metrics.accuracy_score(y2_test,y_pred), f1_score(y2_test, y_pred), \"Correlation\"))"
      ],
      "metadata": {
        "colab": {
          "base_uri": "https://localhost:8080/"
        },
        "id": "cqfQO7xFGdrg",
        "outputId": "4edf6793-f10b-4484-829f-80dbe1f96d8c"
      },
      "execution_count": null,
      "outputs": [
        {
          "output_type": "stream",
          "name": "stdout",
          "text": [
            "Accuracy: 1.0\n",
            "F1 Score: 1.000\n"
          ]
        }
      ]
    },
    {
      "cell_type": "code",
      "source": [
        "from sklearn.svm import SVC\n",
        "svc = SVC()\n",
        "svc.fit(X2_train, y2_train)\n",
        "y_pred = svc.predict(X2_test)\n",
        "\n",
        "print('Accuracy:', metrics.accuracy_score(y2_test,y_pred))\n",
        "print('F1 Score: %.3f' % f1_score(y2_test, y_pred))\n",
        "M6.append(Model(\"SVC\", metrics.accuracy_score(y2_test,y_pred), f1_score(y2_test, y_pred), \"Correlation\"))"
      ],
      "metadata": {
        "colab": {
          "base_uri": "https://localhost:8080/"
        },
        "id": "lr1s2D_YGvY6",
        "outputId": "4d4845e9-5d18-4334-f915-09c050eb6f01"
      },
      "execution_count": null,
      "outputs": [
        {
          "output_type": "stream",
          "name": "stdout",
          "text": [
            "Accuracy: 0.9939716312056738\n",
            "F1 Score: 0.997\n"
          ]
        }
      ]
    },
    {
      "cell_type": "code",
      "source": [
        "import xgboost as xgb\n",
        "from sklearn.metrics import accuracy_score\n",
        "\n",
        "X_train, X_test, y_train, y_test = train_test_split(X2, y2, test_size=0.2, random_state=42)\n",
        "\n",
        "# Convert the data to XGBoost's internal format\n",
        "dtrain = xgb.DMatrix(X_train, label=y_train)\n",
        "dtest = xgb.DMatrix(X_test, label=y_test)\n",
        "\n",
        "# Set the parameters for the model\n",
        "param = {\n",
        "    'max_depth': 3,  # Maximum depth of the tree\n",
        "    'eta': 0.1,  # Learning rate\n",
        "    'objective': 'binary:logistic',  # Binary classification\n",
        "    'eval_metric': 'error'  # Evaluation metric\n",
        "}\n",
        "\n",
        "# Train the model\n",
        "num_round = 10  # Number of rounds of training\n",
        "bst = xgb.train(param, dtrain, num_round)\n",
        "\n",
        "# Make predictions on the test set\n",
        "preds = bst.predict(dtest)\n",
        "\n",
        "# Evaluate the model\n",
        "accuracy = accuracy_score(y_test, preds.round())\n",
        "print(\"Accuracy for M6Class: {:.2f}\".format(accuracy))\n",
        "print('F1 Score: %.3f' % f1_score(y2_test, y_pred))\n",
        "M6.append(Model(\"XGBOOST\", metrics.accuracy_score(y2_test,y_pred), f1_score(y2_test, y_pred), \"Correlation\"))\n"
      ],
      "metadata": {
        "colab": {
          "base_uri": "https://localhost:8080/"
        },
        "id": "6_ZWlxZ2Oyrx",
        "outputId": "7571a55c-9398-41a0-c9d2-238e00aa32a0"
      },
      "execution_count": null,
      "outputs": [
        {
          "output_type": "stream",
          "name": "stdout",
          "text": [
            "Accuracy for M6Class: 1.00\n",
            "F1 Score: 0.997\n"
          ]
        }
      ]
    },
    {
      "cell_type": "markdown",
      "source": [
        "##Model Training Based on Mutual Information Gain\n",
        "---"
      ],
      "metadata": {
        "id": "iHM_c5ZiJR4o"
      }
    },
    {
      "cell_type": "markdown",
      "source": [
        "Setting training and testing sets"
      ],
      "metadata": {
        "id": "v14DSHMPJZwh"
      }
    },
    {
      "cell_type": "code",
      "source": [
        "X5 = new_df[['DistanceKm', 'TimeMinutes', 'M2ExpectedDeliveryTime',\n",
        "       'M4LogNumberOfComments ', 'M6DeliveryCostPerKm']] \n",
        "y5 = new_df.M5Class\n",
        "X5_train, X5_test, y5_train, y5_test = train_test_split(X5, y5, test_size=0.3, random_state=1)\n",
        "\n",
        "\n",
        "XM6 = new_df[['DistanceKm', 'TimeMinutes', 'M1DeliveryCost', 'M4LogNumberOfComments ',\n",
        "       'M6DeliveryCostPerKm']]\n",
        "yM6 = new_df[\"M6Class\"]\n",
        "\n",
        "XM6_train, XM6_test, yM6_train, yM6_test = train_test_split(XM6, yM6, test_size=0.3, random_state=1)\n"
      ],
      "metadata": {
        "id": "syfuhvN6JlEH"
      },
      "execution_count": null,
      "outputs": []
    },
    {
      "cell_type": "markdown",
      "source": [
        "###Predicting M5Class"
      ],
      "metadata": {
        "id": "M4GuSKGGLlAB"
      }
    },
    {
      "cell_type": "code",
      "source": [
        "from sklearn import metrics\n",
        "from sklearn.metrics import classification_report\n",
        "from sklearn.metrics import confusion_matrix\n",
        "from sklearn.model_selection import learning_curve   \n",
        "from sklearn.metrics import precision_score, recall_score, f1_score, accuracy_score\n",
        "\n",
        "from sklearn.neighbors import KNeighborsClassifier\n",
        "knn = KNeighborsClassifier()\n",
        "knn.fit(X5_train, y5_train)\n",
        "y_pred = knn.predict(X5_test)\n",
        "print('Accuracy:', metrics.accuracy_score(y5_test,y_pred))\n",
        "print('F1 Score: %.3f' % f1_score(y5_test, y_pred))\n",
        "M5.append(Model(\"KNN\", metrics.accuracy_score(y5_test,y_pred), f1_score(y5_test, y_pred), \"MIG\"))"
      ],
      "metadata": {
        "colab": {
          "base_uri": "https://localhost:8080/"
        },
        "id": "Wq-XTwH8KCLn",
        "outputId": "46b9a54f-1658-47f2-c031-d89fc6175e4d"
      },
      "execution_count": null,
      "outputs": [
        {
          "output_type": "stream",
          "name": "stdout",
          "text": [
            "Accuracy: 0.9826241134751773\n",
            "F1 Score: 0.990\n"
          ]
        }
      ]
    },
    {
      "cell_type": "code",
      "source": [
        "from sklearn.naive_bayes import GaussianNB\n",
        "gnb = GaussianNB()\n",
        "gnb.fit(X5_train, y5_train)\n",
        "y_pred = gnb.predict(X5_test)\n",
        "print('Accuracy:', metrics.accuracy_score(y5_test,y_pred))\n",
        "print('F1 Score: %.3f' % f1_score(y5_test, y_pred))\n",
        "M5.append(Model(\"Gaussian\", metrics.accuracy_score(y5_test,y_pred), f1_score(y5_test, y_pred), \"MIG\"))"
      ],
      "metadata": {
        "colab": {
          "base_uri": "https://localhost:8080/"
        },
        "id": "X5fH2S1AKCFK",
        "outputId": "78d86e71-b8f7-4ca6-bcb8-820849798076"
      },
      "execution_count": null,
      "outputs": [
        {
          "output_type": "stream",
          "name": "stdout",
          "text": [
            "Accuracy: 0.7223404255319149\n",
            "F1 Score: 0.820\n"
          ]
        }
      ]
    },
    {
      "cell_type": "code",
      "source": [
        "from sklearn.ensemble import RandomForestClassifier\n",
        "rfc = RandomForestClassifier()\n",
        "rfc.fit(X5_train, y5_train)\n",
        "y_pred = rfc.predict(X5_test)\n",
        "\n",
        "print('Accuracy:', metrics.accuracy_score(y5_test,y_pred))\n",
        "print('F1 Score: %.3f' % f1_score(y5_test, y_pred))\n",
        "M5.append(Model(\"Random Forest\", metrics.accuracy_score(y5_test,y_pred), f1_score(y5_test, y_pred), \"MIG\"))"
      ],
      "metadata": {
        "colab": {
          "base_uri": "https://localhost:8080/"
        },
        "id": "RvKcDwtcKB_J",
        "outputId": "3737032a-b7bd-47f9-bfe7-3619b660c8b9"
      },
      "execution_count": null,
      "outputs": [
        {
          "output_type": "stream",
          "name": "stdout",
          "text": [
            "Accuracy: 0.9975177304964539\n",
            "F1 Score: 0.999\n"
          ]
        }
      ]
    },
    {
      "cell_type": "code",
      "source": [
        "from sklearn.linear_model import LogisticRegression\n",
        "reg = LogisticRegression()\n",
        "reg.fit(X5_train, y5_train)\n",
        "y_pred = reg.predict(X5_test)\n",
        "\n",
        "print('Accuracy:', metrics.accuracy_score(y5_test,y_pred))\n",
        "print('F1 Score: %.3f' % f1_score(y5_test, y_pred))\n",
        "M5.append(Model(\"Logistic Regression\", metrics.accuracy_score(y5_test,y_pred), f1_score(y5_test, y_pred), \"MIG\"))"
      ],
      "metadata": {
        "colab": {
          "base_uri": "https://localhost:8080/"
        },
        "id": "v-fAxbAUKB4s",
        "outputId": "2e2bbf5f-b127-48b0-d4a4-d14def786755"
      },
      "execution_count": null,
      "outputs": [
        {
          "output_type": "stream",
          "name": "stdout",
          "text": [
            "Accuracy: 0.9351063829787234\n",
            "F1 Score: 0.965\n"
          ]
        }
      ]
    },
    {
      "cell_type": "code",
      "source": [
        "from sklearn.tree import DecisionTreeClassifier\n",
        "dtc = DecisionTreeClassifier()\n",
        "dtc.fit(X5_train, y5_train)\n",
        "y_pred = dtc.predict(X5_test)\n",
        "\n",
        "print('Accuracy:', metrics.accuracy_score(y5_test,y_pred))\n",
        "print('F1 Score: %f' % f1_score(y5_test, y_pred))\n",
        "M5.append(Model(\"Decision Tree\", metrics.accuracy_score(y5_test,y_pred), f1_score(y5_test, y_pred), \"MIG\"))\n",
        "\n",
        "conf_matrix = confusion_matrix(y_true=y5_test, y_pred=y_pred)\n"
      ],
      "metadata": {
        "colab": {
          "base_uri": "https://localhost:8080/"
        },
        "id": "Ufs7CNlvKBx7",
        "outputId": "e2854423-9fd2-45de-d1e5-cd5a81be2555"
      },
      "execution_count": null,
      "outputs": [
        {
          "output_type": "stream",
          "name": "stdout",
          "text": [
            "Accuracy: 0.999645390070922\n",
            "F1 Score: 0.999805\n"
          ]
        }
      ]
    },
    {
      "cell_type": "code",
      "source": [
        "from sklearn.svm import SVC\n",
        "svc = SVC()\n",
        "svc.fit(X5_train, y5_train)\n",
        "y_pred = svc.predict(X5_test)\n",
        "\n",
        "print('Accuracy:', metrics.accuracy_score(y5_test,y_pred))\n",
        "print('F1 Score: %.3f' % f1_score(y5_test, y_pred))\n",
        "M5.append(Model(\"SVC\", metrics.accuracy_score(y5_test,y_pred), f1_score(y5_test, y_pred), \"MIG\"))"
      ],
      "metadata": {
        "colab": {
          "base_uri": "https://localhost:8080/"
        },
        "id": "6vMso3QWKBoh",
        "outputId": "f7d5b86d-717c-40fd-a2ff-1623b7d6704c"
      },
      "execution_count": null,
      "outputs": [
        {
          "output_type": "stream",
          "name": "stdout",
          "text": [
            "Accuracy: 0.9088652482269504\n",
            "F1 Score: 0.952\n"
          ]
        }
      ]
    },
    {
      "cell_type": "code",
      "source": [
        "import xgboost as xgb\n",
        "from sklearn.metrics import accuracy_score\n",
        "\n",
        "X_train, X_test, y_train, y_test = train_test_split(X5, y5, test_size=0.2, random_state=42)\n",
        "\n",
        "# Convert the data to XGBoost's internal format\n",
        "dtrain = xgb.DMatrix(X_train, label=y_train)\n",
        "dtest = xgb.DMatrix(X_test, label=y_test)\n",
        "\n",
        "# Set the parameters for the model\n",
        "param = {\n",
        "    'max_depth': 3,  # Maximum depth of the tree\n",
        "    'eta': 0.1,  # Learning rate\n",
        "    'objective': 'binary:logistic',  # Binary classification\n",
        "    'eval_metric': 'error'  # Evaluation metric\n",
        "}\n",
        "\n",
        "# Train the model\n",
        "num_round = 10  # Number of rounds of training\n",
        "bst = xgb.train(param, dtrain, num_round)\n",
        "\n",
        "# Make predictions on the test set\n",
        "preds = bst.predict(dtest)\n",
        "\n",
        "# Evaluate the model\n",
        "accuracy = accuracy_score(y_test, preds.round())\n",
        "print(\"Accuracy for M5Class: {:.2f}\".format(accuracy))\n",
        "print('F1 Score: %.3f' % f1_score(y5_test, y_pred))\n",
        "M5.append(Model(\"XGBOOST\", metrics.accuracy_score(y5_test,y_pred), f1_score(y5_test, y_pred), \"MIG\"))\n"
      ],
      "metadata": {
        "colab": {
          "base_uri": "https://localhost:8080/"
        },
        "id": "x1HfYwW74V-b",
        "outputId": "0da71e2d-eed8-46af-a816-455c0635c4da"
      },
      "execution_count": null,
      "outputs": [
        {
          "output_type": "stream",
          "name": "stdout",
          "text": [
            "Accuracy for M5Class: 0.98\n",
            "F1 Score: 0.952\n"
          ]
        }
      ]
    },
    {
      "cell_type": "markdown",
      "source": [
        "###Predicting M6Class"
      ],
      "metadata": {
        "id": "1J9Vxj6iMBfN"
      }
    },
    {
      "cell_type": "code",
      "source": [
        "from sklearn import metrics\n",
        "from sklearn.metrics import classification_report\n",
        "from sklearn.metrics import confusion_matrix\n",
        "from sklearn.model_selection import learning_curve   \n",
        "\n",
        "\n",
        "from sklearn.neighbors import KNeighborsClassifier\n",
        "knn = KNeighborsClassifier()\n",
        "knn.fit(XM6_train, yM6_train)\n",
        "y_pred = knn.predict(XM6_test)\n",
        "print('Accuracy:', metrics.accuracy_score(yM6_test,y_pred))\n",
        "print('F1 Score: %f' % f1_score(yM6_test, y_pred))\n",
        "M6.append(Model(\"KNN\", metrics.accuracy_score(yM6_test,y_pred), f1_score(yM6_test, y_pred), \"MIG\"))\n",
        "\n",
        "conf_matrix = confusion_matrix(y_true=yM6_test, y_pred=y_pred)\n",
        "#\n",
        "# Print the confusion matrix using Matplotlib\n",
        "#\n",
        "fig, ax = plt.subplots(figsize=(5, 5))\n",
        "ax.matshow(conf_matrix, cmap=plt.cm.Oranges, alpha=0.3)\n",
        "for i in range(conf_matrix.shape[0]):\n",
        "    for j in range(conf_matrix.shape[1]):\n",
        "        ax.text(x=j, y=i,s=conf_matrix[i, j], va='center', ha='center', size='xx-large')\n",
        " \n",
        "plt.xlabel('Predictions', fontsize=18)\n",
        "plt.ylabel('Actuals', fontsize=18)\n",
        "plt.title('Confusion Matrix', fontsize=18)\n",
        "plt.show()"
      ],
      "metadata": {
        "colab": {
          "base_uri": "https://localhost:8080/",
          "height": 393
        },
        "id": "gpqpm652MHQL",
        "outputId": "4db06c66-c938-4c91-aa11-0ac234eadaf6"
      },
      "execution_count": null,
      "outputs": [
        {
          "output_type": "stream",
          "name": "stdout",
          "text": [
            "Accuracy: 0.999645390070922\n",
            "F1 Score: 0.999818\n"
          ]
        },
        {
          "output_type": "display_data",
          "data": {
            "text/plain": [
              "<Figure size 360x360 with 1 Axes>"
            ],
            "image/png": "[encoded data removed]"
          },
          "metadata": {
            "needs_background": "light"
          }
        }
      ]
    },
    {
      "cell_type": "code",
      "source": [
        "from sklearn.naive_bayes import GaussianNB\n",
        "gnb = GaussianNB()\n",
        "gnb.fit(XM6_train, yM6_train)\n",
        "y_pred = gnb.predict(XM6_test)\n",
        "print('Accuracy:', metrics.accuracy_score(yM6_test,y_pred))\n",
        "print('F1 Score: %.3f' % f1_score(yM6_test, y_pred))\n",
        "M6.append(Model(\"Gaussian\", metrics.accuracy_score(yM6_test,y_pred), f1_score(yM6_test, y_pred), \"MIG\"))"
      ],
      "metadata": {
        "colab": {
          "base_uri": "https://localhost:8080/"
        },
        "id": "GS2kBjEVMHJ2",
        "outputId": "1d874974-654d-4332-9600-fdadd1dc9bd8"
      },
      "execution_count": null,
      "outputs": [
        {
          "output_type": "stream",
          "name": "stdout",
          "text": [
            "Accuracy: 0.9762411347517731\n",
            "F1 Score: 0.988\n"
          ]
        }
      ]
    },
    {
      "cell_type": "code",
      "source": [
        "from sklearn.ensemble import RandomForestClassifier\n",
        "rfc = RandomForestClassifier()\n",
        "rfc.fit(XM6_train, yM6_train)\n",
        "y_pred = rfc.predict(XM6_test)\n",
        "\n",
        "print('Accuracy:', metrics.accuracy_score(yM6_test,y_pred))\n",
        "print('F1 Score: %.3f' % f1_score(yM6_test, y_pred))\n",
        "M6.append(Model(\"Random Forest\", metrics.accuracy_score(yM6_test,y_pred), f1_score(yM6_test, y_pred), \"MIG\"))"
      ],
      "metadata": {
        "colab": {
          "base_uri": "https://localhost:8080/"
        },
        "id": "G3rUgxF9MHD0",
        "outputId": "cb481b2d-b3a0-4ce2-e52d-a4b3834529b8"
      },
      "execution_count": null,
      "outputs": [
        {
          "output_type": "stream",
          "name": "stdout",
          "text": [
            "Accuracy: 1.0\n",
            "F1 Score: 1.000\n"
          ]
        }
      ]
    },
    {
      "cell_type": "code",
      "source": [
        "from sklearn.linear_model import LogisticRegression\n",
        "reg = LogisticRegression()\n",
        "reg.fit(XM6_train, yM6_train)\n",
        "y_pred = reg.predict(XM6_test)\n",
        "\n",
        "print('Accuracy:', metrics.accuracy_score(yM6_test,y_pred))\n",
        "print('F1 Score: %.3f' % f1_score(yM6_test, y_pred))\n",
        "M6.append(Model(\"Logistic Regression\", metrics.accuracy_score(yM6_test,y_pred), f1_score(yM6_test, y_pred), \"MIG\"))"
      ],
      "metadata": {
        "colab": {
          "base_uri": "https://localhost:8080/"
        },
        "id": "2LpZDGQCMG9t",
        "outputId": "330d80cd-e4e9-497a-df2a-f0ec50b423ba"
      },
      "execution_count": null,
      "outputs": [
        {
          "output_type": "stream",
          "name": "stdout",
          "text": [
            "Accuracy: 0.9989361702127659\n",
            "F1 Score: 0.999\n"
          ]
        },
        {
          "output_type": "stream",
          "name": "stderr",
          "text": [
            "/usr/local/lib/python3.8/dist-packages/sklearn/linear_model/_logistic.py:458: ConvergenceWarning: lbfgs failed to converge (status=1):\n",
            "STOP: TOTAL NO. of ITERATIONS REACHED LIMIT.\n",
            "\n",
            "Increase the number of iterations (max_iter) or scale the data as shown in:\n",
            "    https://scikit-learn.org/stable/modules/preprocessing.html\n",
            "Please also refer to the documentation for alternative solver options:\n",
            "    https://scikit-learn.org/stable/modules/linear_model.html#logistic-regression\n",
            "  n_iter_i = _check_optimize_result(\n"
          ]
        }
      ]
    },
    {
      "cell_type": "code",
      "source": [
        "from sklearn.tree import DecisionTreeClassifier\n",
        "dtc = DecisionTreeClassifier()\n",
        "dtc.fit(XM6_train, yM6_train)\n",
        "y_pred = dtc.predict(XM6_test)\n",
        "\n",
        "print('Accuracy:', metrics.accuracy_score(yM6_test,y_pred))\n",
        "print('F1 Score: %.3f' % f1_score(yM6_test, y_pred))\n",
        "M6.append(Model(\"Decision Tree\", metrics.accuracy_score(yM6_test,y_pred), f1_score(yM6_test, y_pred), \"MIG\"))"
      ],
      "metadata": {
        "colab": {
          "base_uri": "https://localhost:8080/"
        },
        "id": "bfbl_K4HMG26",
        "outputId": "029e274a-9d30-473a-8b31-4843f04b77ab"
      },
      "execution_count": null,
      "outputs": [
        {
          "output_type": "stream",
          "name": "stdout",
          "text": [
            "Accuracy: 1.0\n",
            "F1 Score: 1.000\n"
          ]
        }
      ]
    },
    {
      "cell_type": "code",
      "source": [
        "from sklearn.svm import SVC\n",
        "svc = SVC()\n",
        "svc.fit(XM6_train, yM6_train)\n",
        "y_pred = svc.predict(XM6_test)\n",
        "\n",
        "print('Accuracy:', metrics.accuracy_score(yM6_test,y_pred))\n",
        "print('F1 Score: %.3f' % f1_score(yM6_test, y_pred))\n",
        "M6.append(Model(\"SVC\", metrics.accuracy_score(yM6_test,y_pred), f1_score(yM6_test, y_pred), \"MIG\"))"
      ],
      "metadata": {
        "colab": {
          "base_uri": "https://localhost:8080/"
        },
        "id": "JjyUWihVMGtk",
        "outputId": "2035fec0-f04e-44e1-ed8d-6ea932712600"
      },
      "execution_count": null,
      "outputs": [
        {
          "output_type": "stream",
          "name": "stdout",
          "text": [
            "Accuracy: 1.0\n",
            "F1 Score: 1.000\n"
          ]
        }
      ]
    },
    {
      "cell_type": "code",
      "source": [
        "import xgboost as xgb\n",
        "from sklearn.metrics import accuracy_score\n",
        "\n",
        "X_train, X_test, y_train, y_test = train_test_split(XM6, yM6, test_size=0.2, random_state=42)\n",
        "\n",
        "# Convert the data to XGBoost's internal format\n",
        "dtrain = xgb.DMatrix(X_train, label=y_train)\n",
        "dtest = xgb.DMatrix(X_test, label=y_test)\n",
        "\n",
        "# Set the parameters for the model\n",
        "param = {\n",
        "    'max_depth': 3,  # Maximum depth of the tree\n",
        "    'eta': 0.1,  # Learning rate\n",
        "    'objective': 'binary:logistic',  # Binary classification\n",
        "    'eval_metric': 'error'  # Evaluation metric\n",
        "}\n",
        "\n",
        "# Train the model\n",
        "num_round = 10  # Number of rounds of training\n",
        "bst = xgb.train(param, dtrain, num_round)\n",
        "\n",
        "# Make predictions on the test set\n",
        "preds = bst.predict(dtest)\n",
        "\n",
        "# Evaluate the model\n",
        "accuracy = accuracy_score(y_test, preds.round())\n",
        "print(\"Accuracy for M6Class: {:.2f}\".format(accuracy))\n",
        "M6.append(Model(\"XGBOOST\", metrics.accuracy_score(yM6_test,y_pred), f1_score(yM6_test, y_pred), \"MIG\"))\n"
      ],
      "metadata": {
        "colab": {
          "base_uri": "https://localhost:8080/"
        },
        "id": "PiZ32iJGxQMi",
        "outputId": "e659f7e7-33bc-442d-8815-d496808abdff"
      },
      "execution_count": null,
      "outputs": [
        {
          "output_type": "stream",
          "name": "stdout",
          "text": [
            "Accuracy for M6Class: 1.00\n"
          ]
        }
      ]
    },
    {
      "cell_type": "markdown",
      "source": [
        "Best models for M5Class and M6Class"
      ],
      "metadata": {
        "id": "E9cFyERyXisI"
      }
    },
    {
      "cell_type": "code",
      "source": [
        "mask1 = new_df[['M5Class']].eq(1)\n",
        "mask2 = new_df[['M5Class']].eq(0)\n",
        "# Count the number of 'True' values in the mask\n",
        "count1 = mask1.sum().sum()\n",
        "count0 = mask2.sum().sum()\n",
        "\n",
        "print(\"M5Class----\")\n",
        "print(\"Number of 1's : \" + str(count1))\n",
        "print(\"Number of 0's : \" + str(count0))\n",
        "\n",
        "mask6 = new_df[['M6Class']].eq(1)\n",
        "mask7 = new_df[['M6Class']].eq(0)\n",
        "# Count the number of 'True' values in the mask\n",
        "count1 = mask6.sum().sum()\n",
        "count0 = mask7.sum().sum()\n",
        "print()\n",
        "print(\"M6Class----\")\n",
        "print(\"Number of 1's : \" + str(count1))\n",
        "print(\"Number of 0's : \" + str(count0))"
      ],
      "metadata": {
        "colab": {
          "base_uri": "https://localhost:8080/"
        },
        "id": "ksQaMPy3aiSp",
        "outputId": "9ae98994-7180-4980-ab54-4e92b375a639"
      },
      "execution_count": null,
      "outputs": [
        {
          "output_type": "stream",
          "name": "stdout",
          "text": [
            "M5Class----\n",
            "Number of 1's : 8495\n",
            "Number of 0's : 903\n",
            "\n",
            "M6Class----\n",
            "Number of 1's : 9136\n",
            "Number of 0's : 262\n"
          ]
        }
      ]
    },
    {
      "cell_type": "code",
      "source": [
        "print(\"Correlation Feature Selection For M5Class\")\n",
        "print()\n",
        "print (\"{:<20} {:<20} {:<10}\".format('Name','Accuracy','F1Score'))\n",
        "for i in M5:\n",
        "  if(i.fsmethod == \"Correlation\"):\n",
        "    print (\"{:<20} {:<20} {:<10}\".format(i.name, i.accuracy, i.f1score))\n",
        "\n",
        "print()\n",
        "print(\"Correlation Feature Selection For M6Class\")\n",
        "print()\n",
        "print (\"{:<20} {:<20} {:<10}\".format('Name','Accuracy','F1Score'))\n",
        "for i in M6:\n",
        "  if(i.fsmethod == \"Correlation\"):\n",
        "    print (\"{:<20} {:<20} {:<10}\".format(i.name, i.accuracy, i.f1score))\n",
        "\n",
        "print()\n",
        "print(\"Mutual Information Gain For M5Class\")\n",
        "print()\n",
        "print (\"{:<20} {:<20} {:<10}\".format('Name','Accuracy','F1Score'))\n",
        "for i in M5:\n",
        "  if(i.fsmethod == \"MIG\"):\n",
        "    print (\"{:<20} {:<20} {:<10}\".format(i.name, i.accuracy, i.f1score))\n",
        "\n",
        "print()\n",
        "print(\"Mutual Information Gain For M6Class\")\n",
        "print()\n",
        "print (\"{:<20} {:<20} {:<10}\".format('Name','Accuracy','F1Score'))\n",
        "for i in M6:\n",
        "  if(i.fsmethod == \"MIG\"):\n",
        "    print (\"{:<20} {:<20} {:<10}\".format(i.name, i.accuracy, i.f1score))"
      ],
      "metadata": {
        "colab": {
          "base_uri": "https://localhost:8080/"
        },
        "id": "DiK7Gj10Xlja",
        "outputId": "4bdb8f3e-1d92-4416-e1da-fc513479726a"
      },
      "execution_count": null,
      "outputs": [
        {
          "output_type": "stream",
          "name": "stdout",
          "text": [
            "Correlation Feature Selection For M5Class\n",
            "\n",
            "Name                 Accuracy             F1Score   \n",
            "KNN                  0.9400709219858157   0.9673556113579294\n",
            "Gaussian             0.824468085106383    0.8938906752411575\n",
            "Logistic Regression  0.926950354609929    0.9605363984674329\n",
            "Decision Tree        0.999645390070922    0.9998046493455753\n",
            "Random Forest        0.9900709219858156   0.9945482866043613\n",
            "SVC                  0.9078014184397163   0.9516728624535316\n",
            "XGBOOST              0.9078014184397163   0.9516728624535316\n",
            "\n",
            "Correlation Feature Selection For M6Class\n",
            "\n",
            "Name                 Accuracy             F1Score   \n",
            "KNN                  0.9960992907801418   0.9979916012415555\n",
            "Gaussian             0.975886524822695    0.9874074074074074\n",
            "Random Forest        0.975886524822695    0.9874074074074074\n",
            "Logistic Regression  0.9968085106382979   0.998354962529702\n",
            "Decision Tree        1.0                  1.0       \n",
            "SVC                  0.9939716312056738   0.9968995075688492\n",
            "XGBOOST              0.9939716312056738   0.9968995075688492\n",
            "\n",
            "Mutual Information Gain For M5Class\n",
            "\n",
            "Name                 Accuracy             F1Score   \n",
            "KNN                  0.9826241134751773   0.9904687803929196\n",
            "Gaussian             0.7223404255319149   0.8197928653624856\n",
            "Random Forest        0.9975177304964539   0.998635211542211\n",
            "Logistic Regression  0.9351063829787234   0.9650963189013924\n",
            "Decision Tree        0.999645390070922    0.9998048780487805\n",
            "SVC                  0.9088652482269504   0.9522571057031395\n",
            "XGBOOST              0.9088652482269504   0.9522571057031395\n",
            "\n",
            "Mutual Information Gain For M6Class\n",
            "\n",
            "Name                 Accuracy             F1Score   \n",
            "KNN                  0.999645390070922    0.9998176845943482\n",
            "Gaussian             0.9762411347517731   0.9876360952205204\n",
            "Random Forest        1.0                  1.0       \n",
            "Logistic Regression  0.9989361702127659   0.9994528542768557\n",
            "Decision Tree        1.0                  1.0       \n",
            "SVC                  1.0                  1.0       \n",
            "XGBOOST              1.0                  1.0       \n"
          ]
        }
      ]
    }
  ],
  "metadata": {
    "colab": {
      "provenance": [],
      "collapsed_sections": [
        "IPTM6BoJtEq_"
      ],
      "include_colab_link": true
    },
    "kernelspec": {
      "display_name": "Python 3",
      "name": "python3"
    },
    "language_info": {
      "name": "python"
    }
  },
  "nbformat": 4,
  "nbformat_minor": 0
}